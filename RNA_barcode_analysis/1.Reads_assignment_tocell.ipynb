{
 "cells": [
  {
   "cell_type": "code",
   "execution_count": 1,
   "id": "0c281e29",
   "metadata": {},
   "outputs": [],
   "source": [
    "from sklearn.neighbors import NearestNeighbors as KNN\n",
    "from skimage.filters import gaussian, threshold_otsu\n",
    "import pandas as pd\n",
    "import numpy as np\n",
    "import matplotlib.pyplot as plt\n",
    "import seaborn as sns\n",
    "import tifffile\n",
    "from math import sqrt\n"
   ]
  },
  {
   "cell_type": "code",
   "execution_count": 2,
   "id": "8536e992",
   "metadata": {},
   "outputs": [],
   "source": [
    "def lowercase(sample):\n",
    "    if sample == \"Well01OB\":\n",
    "        return \"well01OB\"\n",
    "    return sample.lower()\n",
    "\n",
    "def sagittal(sample):\n",
    "    return (sample[:2] == \"Sa\")\n"
   ]
  },
  {
   "cell_type": "code",
   "execution_count": 3,
   "id": "8cea68d6",
   "metadata": {},
   "outputs": [],
   "source": [
    "def valid(x, y):\n",
    "        return valid_backend.get((x, y), False)\n"
   ]
  },
  {
   "cell_type": "code",
   "execution_count": 50,
   "id": "502ed424",
   "metadata": {
    "scrolled": true
   },
   "outputs": [
    {
     "name": "stdout",
     "output_type": "stream",
     "text": [
      "well08 Of 14589887 racRNA spots, 1849095 were placed into a cell.\n"
     ]
    }
   ],
   "source": [
    "for sample in ['Sagittal2','Sagittal3','SpinalCord','Well01brain','Well01OB','Well1_5',\n",
    "               'Well2_5','Well03','Well3_5','Well04','Well05','Well06','Well07','Well7_5',\n",
    "               'Well08','Well09','Well10','Well10_5','Well11']:\n",
    "    is_sagittal = sagittal(sample)\n",
    "    racrna_file = f'racRNA_data/{sample}/racRNA_spot_meta_all.csv'\n",
    "    spot_file = f'racRNA_data/{sample}/{lowercase(sample)}_spot_meta.csv'\n",
    "    racrna_output_file = f'output/classified_racrna_dapi/{sample}_classified_racrna.csv'\n",
    "    cell_output_file = f'output/cell_info_dapi/{sample}_info_by_cell.csv'\n",
    "\n",
    "\n",
    "    racrna_data = pd.read_csv(racrna_file)\n",
    "    spot_data = pd.read_csv(spot_file)\n",
    "\n",
    "    sample = lowercase(sample)\n",
    "    \n",
    "    X = spot_data[['spot_merged_1', 'spot_merged_2']].to_numpy()\n",
    "    Y = spot_data['cellid_idx']\n",
    "    Xpred = racrna_data[['spot_merged_1', 'spot_merged_2']].to_numpy()\n",
    "\n",
    "    \n",
    "    \n",
    "    valid_backend = {}\n",
    "\n",
    "    if True:\n",
    "        df_filtered = pd.read_csv(f'racRNA_data/2D_mask/{lowercase(sample)}_racRNA_spot_meta_all.csv')\n",
    "        for x, y in zip(df_filtered['spot_merged_1'], df_filtered['spot_merged_2']):\n",
    "            valid_backend[(x, y)] = True\n",
    "                     \n",
    "\n",
    "    knn = KNN(n_neighbors=1).fit(X)\n",
    "    distances, indices = knn.kneighbors(Xpred)\n",
    "    \n",
    "    \n",
    "    n_pred = Xpred.shape[0]\n",
    "    cell_type = []\n",
    "    for i in range(n_pred):\n",
    "        if valid(Xpred[i,0], Xpred[i,1]):\n",
    "            cell_type.append(Y[indices[i][0]])\n",
    "        else:\n",
    "            cell_type.append(-1)\n",
    "            \n",
    "    print(sample, f\"Of {len(cell_type)} racRNA spots, {len(cell_type) - int(np.sum(np.array(cell_type) == -1))} were placed into a cell.\")\n",
    "\n",
    "    racrna_data.loc[:,'cellid_idx'] = cell_type\n",
    "    ctype_file = './pd_tissue.csv'\n",
    "\n",
    "    \n",
    "    ctype_data = pd.read_csv(ctype_file, low_memory=False)[['orginindex', 'sample']]\n",
    "    ctype_data = ctype_data.loc[ctype_data['sample'] == sample].reset_index(drop=True)[['orginindex']]\n",
    "    ctype_data['orginindex'] = ctype_data['orginindex'].astype(int)\n",
    "\n",
    "    \n",
    "\n",
    "    verbosity = False\n",
    "\n",
    "    n_cells = np.max(ctype_data['orginindex']) + 1\n",
    "    if is_sagittal:\n",
    "        racrna_counter = np.zeros((n_cells, 4))\n",
    "    else:\n",
    "        racrna_counter = np.zeros(n_cells)\n",
    "    cellids = racrna_data['cellid_idx']\n",
    "    geneids = racrna_data['geneid']\n",
    "    for i in range(racrna_data.shape[0]):\n",
    "        cellid_idx = cellids[i]\n",
    "        geneid = geneids[i]\n",
    "        if cellid_idx != -1 and cellid_idx < n_cells:\n",
    "            if is_sagittal:\n",
    "                racrna_counter[cellid_idx][geneid-1] += 1\n",
    "            else:\n",
    "                racrna_counter[cellid_idx] += 1\n",
    "        elif cellid_idx >= n_cells and verbosity:\n",
    "            print(\"Found unknown cell: \", cellid_idx, f\"(gene ID {geneid})\") # some (usually <= 5) cells were not in cell type data\n",
    "\n",
    "            \n",
    "            \n",
    "\n",
    "    to_df = {\n",
    "        'cellid_idx': [],\n",
    "        'racRNA uptake': []\n",
    "    }\n",
    "\n",
    "    if is_sagittal:\n",
    "        to_df['geneid'] = []\n",
    "\n",
    "    for idx in range(n_cells):\n",
    "        if np.sum(racrna_counter[idx]) > 0:\n",
    "            if is_sagittal:\n",
    "                for i in range(4):\n",
    "                    to_df['cellid_idx'].append(idx)\n",
    "                    to_df['racRNA uptake'].append(racrna_counter[idx,i])\n",
    "                    to_df['geneid'].append(i+1)\n",
    "            else:\n",
    "                to_df['cellid_idx'].append(idx)\n",
    "                to_df['racRNA uptake'].append(racrna_counter[idx])\n",
    "\n",
    "\n",
    "    cellinfo_df = pd.DataFrame(to_df)\n",
    "\n",
    "    racrna_data.to_csv(racrna_output_file)\n",
    "    cellinfo_df.to_csv(cell_output_file)\n"
   ]
  }
 ],
 "metadata": {
  "kernelspec": {
   "display_name": "myenv",
   "language": "python",
   "name": "myenv"
  },
  "language_info": {
   "codemirror_mode": {
    "name": "ipython",
    "version": 3
   },
   "file_extension": ".py",
   "mimetype": "text/x-python",
   "name": "python",
   "nbconvert_exporter": "python",
   "pygments_lexer": "ipython3",
   "version": "3.9.13"
  }
 },
 "nbformat": 4,
 "nbformat_minor": 5
}
