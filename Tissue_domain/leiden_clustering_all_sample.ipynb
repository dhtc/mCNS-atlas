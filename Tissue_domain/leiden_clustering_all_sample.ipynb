{
 "cells": [
  {
   "cell_type": "markdown",
   "metadata": {
    "id": "3Ommf_dd1meM"
   },
   "source": [
    "# Gene Expression Analysis"
   ]
  },
  {
   "cell_type": "code",
   "execution_count": null,
   "metadata": {
    "colab": {
     "base_uri": "https://localhost:8080/"
    },
    "executionInfo": {
     "elapsed": 3013,
     "status": "ok",
     "timestamp": 1644086846923,
     "user": {
      "displayName": "Yichun He",
      "photoUrl": "https://lh3.googleusercontent.com/a/default-user=s64",
      "userId": "18025337296854257187"
     },
     "user_tz": 300
    },
    "id": "aGL-cYsN2FMg",
    "outputId": "c905fa7d-5ecd-4537-b0bc-f65b75a94702"
   },
   "outputs": [
    {
     "name": "stdout",
     "output_type": "stream",
     "text": [
      "Requirement already satisfied: leidenalg in /usr/local/lib/python3.7/dist-packages (0.8.8)\n",
      "Requirement already satisfied: python-igraph>=0.9.0 in /usr/local/lib/python3.7/dist-packages (from leidenalg) (0.9.9)\n",
      "Requirement already satisfied: igraph==0.9.9 in /usr/local/lib/python3.7/dist-packages (from python-igraph>=0.9.0->leidenalg) (0.9.9)\n",
      "Requirement already satisfied: texttable>=1.6.2 in /usr/local/lib/python3.7/dist-packages (from igraph==0.9.9->python-igraph>=0.9.0->leidenalg) (1.6.4)\n"
     ]
    }
   ],
   "source": [
    "%pip install leidenalg"
   ]
  },
  {
   "cell_type": "code",
   "execution_count": 1,
   "metadata": {
    "colab": {
     "base_uri": "https://localhost:8080/"
    },
    "executionInfo": {
     "elapsed": 25672,
     "status": "ok",
     "timestamp": 1645842619327,
     "user": {
      "displayName": "Yichun He",
      "photoUrl": "https://lh3.googleusercontent.com/a/default-user=s64",
      "userId": "18025337296854257187"
     },
     "user_tz": 300
    },
    "id": "D1WLt5EZ1uHt",
    "outputId": "295fb996-1e34-47e6-d3c9-8b0b3f1e5e31",
    "scrolled": true
   },
   "outputs": [
    {
     "name": "stdout",
     "output_type": "stream",
     "text": [
      "Mounted at /MultiClusterGAN\n",
      "/MultiClusterGAN/MyDrive/CNS\n",
      "Collecting umap-learn\n",
      "  Downloading umap-learn-0.5.2.tar.gz (86 kB)\n",
      "\u001b[K     |████████████████████████████████| 86 kB 1.2 MB/s \n",
      "\u001b[?25hCollecting scanpy\n",
      "  Downloading scanpy-1.8.2-py3-none-any.whl (2.0 MB)\n",
      "\u001b[K     |████████████████████████████████| 2.0 MB 35.2 MB/s \n",
      "\u001b[?25hRequirement already satisfied: numpy>=1.17 in /usr/local/lib/python3.7/dist-packages (from umap-learn) (1.21.5)\n",
      "Requirement already satisfied: scikit-learn>=0.22 in /usr/local/lib/python3.7/dist-packages (from umap-learn) (1.0.2)\n",
      "Requirement already satisfied: scipy>=1.0 in /usr/local/lib/python3.7/dist-packages (from umap-learn) (1.4.1)\n",
      "Requirement already satisfied: numba>=0.49 in /usr/local/lib/python3.7/dist-packages (from umap-learn) (0.51.2)\n",
      "Collecting pynndescent>=0.5\n",
      "  Downloading pynndescent-0.5.6.tar.gz (1.1 MB)\n",
      "\u001b[K     |████████████████████████████████| 1.1 MB 45.0 MB/s \n",
      "\u001b[?25hRequirement already satisfied: tqdm in /usr/local/lib/python3.7/dist-packages (from umap-learn) (4.62.3)\n",
      "Requirement already satisfied: setuptools in /usr/local/lib/python3.7/dist-packages (from numba>=0.49->umap-learn) (57.4.0)\n",
      "Requirement already satisfied: llvmlite<0.35,>=0.34.0.dev0 in /usr/local/lib/python3.7/dist-packages (from numba>=0.49->umap-learn) (0.34.0)\n",
      "Requirement already satisfied: joblib>=0.11 in /usr/local/lib/python3.7/dist-packages (from pynndescent>=0.5->umap-learn) (1.1.0)\n",
      "Requirement already satisfied: threadpoolctl>=2.0.0 in /usr/local/lib/python3.7/dist-packages (from scikit-learn>=0.22->umap-learn) (3.1.0)\n",
      "Requirement already satisfied: pandas>=0.21 in /usr/local/lib/python3.7/dist-packages (from scanpy) (1.3.5)\n",
      "Requirement already satisfied: matplotlib>=3.1.2 in /usr/local/lib/python3.7/dist-packages (from scanpy) (3.2.2)\n",
      "Requirement already satisfied: statsmodels>=0.10.0rc2 in /usr/local/lib/python3.7/dist-packages (from scanpy) (0.10.2)\n",
      "Requirement already satisfied: seaborn in /usr/local/lib/python3.7/dist-packages (from scanpy) (0.11.2)\n",
      "Requirement already satisfied: patsy in /usr/local/lib/python3.7/dist-packages (from scanpy) (0.5.2)\n",
      "Requirement already satisfied: networkx>=2.3 in /usr/local/lib/python3.7/dist-packages (from scanpy) (2.6.3)\n",
      "Requirement already satisfied: packaging in /usr/local/lib/python3.7/dist-packages (from scanpy) (21.3)\n",
      "Requirement already satisfied: h5py>=2.10.0 in /usr/local/lib/python3.7/dist-packages (from scanpy) (3.1.0)\n",
      "Requirement already satisfied: natsort in /usr/local/lib/python3.7/dist-packages (from scanpy) (5.5.0)\n",
      "Collecting sinfo\n",
      "  Downloading sinfo-0.3.4.tar.gz (24 kB)\n",
      "Collecting anndata>=0.7.4\n",
      "  Downloading anndata-0.7.8-py3-none-any.whl (91 kB)\n",
      "\u001b[K     |████████████████████████████████| 91 kB 7.3 MB/s \n",
      "\u001b[?25hRequirement already satisfied: importlib_metadata>=0.7 in /usr/local/lib/python3.7/dist-packages (from scanpy) (4.11.1)\n",
      "Requirement already satisfied: tables in /usr/local/lib/python3.7/dist-packages (from scanpy) (3.7.0)\n",
      "Requirement already satisfied: xlrd<2.0 in /usr/local/lib/python3.7/dist-packages (from anndata>=0.7.4->scanpy) (1.1.0)\n",
      "Requirement already satisfied: cached-property in /usr/local/lib/python3.7/dist-packages (from h5py>=2.10.0->scanpy) (1.5.2)\n",
      "Requirement already satisfied: typing-extensions>=3.6.4 in /usr/local/lib/python3.7/dist-packages (from importlib_metadata>=0.7->scanpy) (3.10.0.2)\n",
      "Requirement already satisfied: zipp>=0.5 in /usr/local/lib/python3.7/dist-packages (from importlib_metadata>=0.7->scanpy) (3.7.0)\n",
      "Requirement already satisfied: python-dateutil>=2.1 in /usr/local/lib/python3.7/dist-packages (from matplotlib>=3.1.2->scanpy) (2.8.2)\n",
      "Requirement already satisfied: pyparsing!=2.0.4,!=2.1.2,!=2.1.6,>=2.0.1 in /usr/local/lib/python3.7/dist-packages (from matplotlib>=3.1.2->scanpy) (3.0.7)\n",
      "Requirement already satisfied: kiwisolver>=1.0.1 in /usr/local/lib/python3.7/dist-packages (from matplotlib>=3.1.2->scanpy) (1.3.2)\n",
      "Requirement already satisfied: cycler>=0.10 in /usr/local/lib/python3.7/dist-packages (from matplotlib>=3.1.2->scanpy) (0.11.0)\n",
      "Requirement already satisfied: pytz>=2017.3 in /usr/local/lib/python3.7/dist-packages (from pandas>=0.21->scanpy) (2018.9)\n",
      "Requirement already satisfied: six>=1.5 in /usr/local/lib/python3.7/dist-packages (from python-dateutil>=2.1->matplotlib>=3.1.2->scanpy) (1.15.0)\n",
      "Collecting stdlib_list\n",
      "  Downloading stdlib_list-0.8.0-py3-none-any.whl (63 kB)\n",
      "\u001b[K     |████████████████████████████████| 63 kB 1.7 MB/s \n",
      "\u001b[?25hRequirement already satisfied: numexpr>=2.6.2 in /usr/local/lib/python3.7/dist-packages (from tables->scanpy) (2.8.1)\n",
      "Building wheels for collected packages: umap-learn, pynndescent, sinfo\n",
      "  Building wheel for umap-learn (setup.py) ... \u001b[?25l\u001b[?25hdone\n",
      "  Created wheel for umap-learn: filename=umap_learn-0.5.2-py3-none-any.whl size=82708 sha256=9a3a68355a3ec42360e039d433fbe3405e3b1d0859761acaae92259047bd7cbf\n",
      "  Stored in directory: /root/.cache/pip/wheels/84/1b/c6/aaf68a748122632967cef4dffef68224eb16798b6793257d82\n",
      "  Building wheel for pynndescent (setup.py) ... \u001b[?25l\u001b[?25hdone\n",
      "  Created wheel for pynndescent: filename=pynndescent-0.5.6-py3-none-any.whl size=53943 sha256=1bf9ffae572149bf4837f87b477efd2b688de649511c3af65b09576d9ab9831b\n",
      "  Stored in directory: /root/.cache/pip/wheels/03/f1/56/f80d72741e400345b5a5b50ec3d929aca581bf45e0225d5c50\n",
      "  Building wheel for sinfo (setup.py) ... \u001b[?25l\u001b[?25hdone\n",
      "  Created wheel for sinfo: filename=sinfo-0.3.4-py3-none-any.whl size=7899 sha256=3f39b01a73cd782f5967d61f4ec62fe4e66579a121d827efad4f54253c24db60\n",
      "  Stored in directory: /root/.cache/pip/wheels/68/ca/56/344d532fe53e855ccd6549795d370588ab8123907eecf4cf30\n",
      "Successfully built umap-learn pynndescent sinfo\n",
      "Installing collected packages: stdlib-list, pynndescent, umap-learn, sinfo, anndata, scanpy\n",
      "Successfully installed anndata-0.7.8 pynndescent-0.5.6 scanpy-1.8.2 sinfo-0.3.4 stdlib-list-0.8.0 umap-learn-0.5.2\n"
     ]
    }
   ],
   "source": [
    "from google.colab import drive\n",
    "drive.mount('/MultiClusterGAN')\n",
    "%cd /MultiClusterGAN/MyDrive/CNS/\n",
    "%pip install  umap-learn scanpy"
   ]
  },
  {
   "cell_type": "code",
   "execution_count": null,
   "metadata": {
    "id": "2eF315ln1meO"
   },
   "outputs": [],
   "source": [
    "# Loading the Packages\n",
    "\n",
    "%reload_ext autoreload\n",
    "%autoreload 2\n",
    "\n",
    "import os\n",
    "import warnings \n",
    "warnings.filterwarnings('ignore')\n",
    "import numpy as np\n",
    "import pandas as pd\n",
    "import scanpy as sc\n",
    "import seaborn as sns\n",
    "\n",
    "from scipy import ndimage\n",
    "\n",
    "import matplotlib.pyplot as plt\n",
    "from matplotlib.colors import ListedColormap\n",
    "\n",
    "import plotly.graph_objects as go\n",
    "from sklearn.neighbors import NearestNeighbors\n",
    "from tqdm import tqdm\n",
    "from anndata import AnnData"
   ]
  },
  {
   "cell_type": "markdown",
   "metadata": {
    "id": "2Mj__ZPJ1meP"
   },
   "source": [
    "## Input"
   ]
  },
  {
   "cell_type": "markdown",
   "metadata": {
    "id": "ThFb1UdQ1gz9"
   },
   "source": [
    "read ncc data\n"
   ]
  },
  {
   "cell_type": "code",
   "execution_count": null,
   "metadata": {
    "id": "y1YK4V1d1meS"
   },
   "outputs": [],
   "source": [
    "coronals = {\n",
    "    'spinalcord',\n",
    "    'well01brain',\n",
    "    'well01OB',\n",
    "    'well03',\n",
    "    'well04',\n",
    "    'well05',\n",
    "    'well06',\n",
    "    'well07',\n",
    "    'well08',\n",
    "    'well09',\n",
    "    'well10',\n",
    "    'well11',\n",
    "    'well1_5',\n",
    "    'well2_5',\n",
    "    'well3_5',\n",
    "    'well7_5',\n",
    "    'well10_5',\n",
    "    'sagittal1',\n",
    "    'sagittal2',\n",
    "    'sagittal3'\n",
    "}\n",
    "prefix = \"tissue_region/output_data/\"\n",
    "\n",
    "ncc_cell_data = [pd.read_csv(prefix + f\"cell_typecompos_{coronal}_500.csv\",header=None) for coronal in coronals]\n",
    "\n",
    "ncc_cell_data_concatenated = pd.concat(ncc_cell_data)"
   ]
  },
  {
   "cell_type": "code",
   "execution_count": null,
   "metadata": {
    "colab": {
     "base_uri": "https://localhost:8080/"
    },
    "executionInfo": {
     "elapsed": 4362487,
     "status": "ok",
     "timestamp": 1644093078756,
     "user": {
      "displayName": "Yichun He",
      "photoUrl": "https://lh3.googleusercontent.com/a/default-user=s64",
      "userId": "18025337296854257187"
     },
     "user_tz": 300
    },
    "id": "KTHHvZBw1meV",
    "outputId": "aac4fa12-60c1-468a-8e3a-f3a63288de5c"
   },
   "outputs": [
    {
     "name": "stderr",
     "output_type": "stream",
     "text": [
      "Observation names are not unique. To make them unique, call `.obs_names_make_unique`.\n"
     ]
    }
   ],
   "source": [
    "adata1 = sc.AnnData(ncc_cell_data_concatenated)\n",
    "\n",
    "sc.tl.pca(adata1, svd_solver='arpack')\n",
    "sc.pp.neighbors(adata1, n_neighbors=30,n_pcs=40, random_state=42)\n",
    "sc.tl.umap(adata1, random_state=42)"
   ]
  },
  {
   "cell_type": "code",
   "execution_count": null,
   "metadata": {
    "colab": {
     "base_uri": "https://localhost:8080/"
    },
    "executionInfo": {
     "elapsed": 1457360,
     "status": "ok",
     "timestamp": 1644102564936,
     "user": {
      "displayName": "Yichun He",
      "photoUrl": "https://lh3.googleusercontent.com/a/default-user=s64",
      "userId": "18025337296854257187"
     },
     "user_tz": 300
    },
    "id": "NsKACtjE1meV",
    "outputId": "068caf3d-648f-4300-ed67-91363e2d7efe"
   },
   "outputs": [
    {
     "name": "stdout",
     "output_type": "stream",
     "text": [
      "Leiden clustering\n"
     ]
    }
   ],
   "source": [
    "# import random\n",
    "# random.seed(100)\n",
    "print('Leiden clustering')\n",
    "sc.tl.leiden(adata1, resolution=1, random_state=42, key_added='tissue')\n",
    "\n",
    "# random.seed(100)\n",
    "cmap=np.random.rand(len(adata1.obs['tissue'].unique()),3)"
   ]
  }
 ],
 "metadata": {
  "colab": {
   "collapsed_sections": [],
   "machine_shape": "hm",
   "name": "celltyping_all_sample.ipynb",
   "provenance": []
  },
  "kernelspec": {
   "display_name": "CNSEnv",
   "language": "python",
   "name": "cnsenv"
  },
  "language_info": {
   "codemirror_mode": {
    "name": "ipython",
    "version": 3
   },
   "file_extension": ".py",
   "mimetype": "text/x-python",
   "name": "python",
   "nbconvert_exporter": "python",
   "pygments_lexer": "ipython3",
   "version": "3.6.13"
  }
 },
 "nbformat": 4,
 "nbformat_minor": 1
}
