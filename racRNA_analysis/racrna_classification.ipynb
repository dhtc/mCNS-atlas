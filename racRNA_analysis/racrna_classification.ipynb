{
 "cells": [
  {
   "cell_type": "markdown",
   "metadata": {},
   "source": [
    "### Import packages and initialize variables (example here is done for Well11)"
   ]
  },
  {
   "cell_type": "code",
   "execution_count": 1,
   "metadata": {},
   "outputs": [],
   "source": [
    "from sklearn.neighbors import NearestNeighbors as KNN\n",
    "import pandas as pd\n",
    "import numpy as np\n",
    "import matplotlib.pyplot as plt\n",
    "import seaborn as sns\n",
    "from math import sqrt"
   ]
  },
  {
   "cell_type": "code",
   "execution_count": 2,
   "metadata": {},
   "outputs": [],
   "source": [
    "sample = 'well11'\n",
    "is_sagittal = False\n",
    "racrna_file = 'data/Well11/racRNA_spot_meta_all.csv'\n",
    "spot_file = 'data/Well11/well11_spot_meta.csv'\n",
    "racrna_output_file = \"output/classified_racrna/Well11_classified_racrna.csv\"\n",
    "cell_output_file = 'output/cell_info/Well11_info_by_cell.csv'"
   ]
  },
  {
   "cell_type": "markdown",
   "metadata": {},
   "source": [
    "### Read in data for racRNA spot calling"
   ]
  },
  {
   "cell_type": "code",
   "execution_count": 3,
   "metadata": {},
   "outputs": [],
   "source": [
    "racrna_data = pd.read_csv(racrna_file)"
   ]
  },
  {
   "cell_type": "code",
   "execution_count": 4,
   "metadata": {},
   "outputs": [],
   "source": [
    "spot_data = pd.read_csv(spot_file)"
   ]
  },
  {
   "cell_type": "markdown",
   "metadata": {},
   "source": [
    "### Auxiliary data for plotting racRNA"
   ]
  },
  {
   "cell_type": "code",
   "execution_count": 5,
   "metadata": {},
   "outputs": [],
   "source": [
    "sns.set(rc={'axes.facecolor':'black', 'figure.facecolor':'black'})\n",
    "sns.set_style({'axes.grid': False})"
   ]
  },
  {
   "cell_type": "code",
   "execution_count": 6,
   "metadata": {},
   "outputs": [],
   "source": [
    "def plot_base(x1, y1, x2, y2, s=20, cell_rac=True, palette_type='mako'):\n",
    "    racrna_x_cond = (racrna_data['spot_merged_1'] >= x1) & (racrna_data['spot_merged_1'] < x2)\n",
    "    racrna_y_cond = (racrna_data['spot_merged_2'] >= y1) & (racrna_data['spot_merged_2'] < y2)\n",
    "    spot_x_cond = (spot_data['spot_merged_1'] >= x1) & (spot_data['spot_merged_1'] < x2)\n",
    "    spot_y_cond = (spot_data['spot_merged_2'] >= y1) & (spot_data['spot_merged_2'] < y2)\n",
    "    racrna_subset = racrna_data[racrna_x_cond & racrna_y_cond].reset_index()\n",
    "    spot_subset = spot_data[spot_x_cond & spot_y_cond].reset_index()\n",
    "    plt.figure(figsize=(20,20))\n",
    "    if not cell_rac:\n",
    "        palette = sns.color_palette(\n",
    "            palette_type, \n",
    "            len(spot_subset['cellid_idx'].unique())\n",
    "        )\n",
    "        sns.scatterplot(\n",
    "            x='spot_merged_1', \n",
    "            y='spot_merged_2', \n",
    "            data=spot_subset, \n",
    "            s=s,\n",
    "            hue='cellid_idx', \n",
    "            palette=palette, \n",
    "            legend=False\n",
    "        )\n",
    "        sns.scatterplot(\n",
    "            x='spot_merged_1', \n",
    "            y='spot_merged_2', \n",
    "            data=racrna_subset, \n",
    "            s=s,\n",
    "            marker='x',\n",
    "            color='r', \n",
    "            legend=False\n",
    "        )\n",
    "    else:\n",
    "        data = pd.DataFrame({\n",
    "            'spot_merged_1': list(spot_subset['spot_merged_1']) + list(racrna_subset['spot_merged_1']),\n",
    "            'spot_merged_2': list(spot_subset['spot_merged_2']) + list(racrna_subset['spot_merged_2']),\n",
    "            'cellid_idx': list(spot_subset['cellid_idx']) + list(racrna_subset['cellid_idx']),\n",
    "            'is_racrna': [0] * spot_subset.shape[0] + [1] * racrna_subset.shape[0]\n",
    "        })\n",
    "        palette = sns.color_palette(\n",
    "            palette_type, \n",
    "            len(data['cellid_idx'].unique())\n",
    "        )\n",
    "        plt.figure(figsize=(20, 20))\n",
    "        sns.scatterplot(\n",
    "            x='spot_merged_1', \n",
    "            y='spot_merged_2', \n",
    "            data=data, \n",
    "            s=s,\n",
    "            hue='cellid_idx', \n",
    "            style='is_racrna',\n",
    "            palette=palette, \n",
    "            legend=False\n",
    "        )\n",
    "    sns.despine()\n",
    "    plt.show()"
   ]
  },
  {
   "cell_type": "code",
   "execution_count": 7,
   "metadata": {},
   "outputs": [],
   "source": [
    "def plot_racrna(x1, y1, x2, y2, s=20, palette_type='mako'):\n",
    "    racrna_x_cond = (racrna_data['spot_merged_1'] >= x1) & (racrna_data['spot_merged_1'] < x2)\n",
    "    racrna_y_cond = (racrna_data['spot_merged_2'] >= y1) & (racrna_data['spot_merged_2'] < y2)\n",
    "    racrna_subset = racrna_data[racrna_x_cond & racrna_y_cond].reset_index()\n",
    "    plt.figure(figsize=(20,20))\n",
    "    palette = sns.color_palette(\n",
    "        palette_type, \n",
    "        len(racrna_subset['cellid_idx'].unique())\n",
    "    )\n",
    "    plt.figure(figsize=(20, 20))\n",
    "    sns.scatterplot(\n",
    "        x='spot_merged_1', \n",
    "        y='spot_merged_2', \n",
    "        data=racrna_subset, \n",
    "        s=s,\n",
    "        hue='cellid_idx',\n",
    "        palette=palette, \n",
    "        legend=False\n",
    "    )\n",
    "    sns.despine()\n",
    "    plt.show()"
   ]
  },
  {
   "cell_type": "markdown",
   "metadata": {},
   "source": [
    "### KNN classification code"
   ]
  },
  {
   "cell_type": "code",
   "execution_count": 8,
   "metadata": {},
   "outputs": [],
   "source": [
    "CUTOFF = 10\n",
    "VERY_CLOSE = 3.5"
   ]
  },
  {
   "cell_type": "code",
   "execution_count": 9,
   "metadata": {},
   "outputs": [],
   "source": [
    "X = spot_data[['spot_merged_1', 'spot_merged_2', 'spot_merged_3']].to_numpy()\n",
    "Y = spot_data['cellid_idx']\n",
    "Xpred = racrna_data[['spot_merged_1', 'spot_merged_2', 'spot_merged_3']].to_numpy()\n",
    "for i in range(X.shape[0]):\n",
    "    X[i,2] /= 10\n",
    "for i in range(Xpred.shape[0]):\n",
    "    Xpred[i,2] /= 10"
   ]
  },
  {
   "cell_type": "code",
   "execution_count": 10,
   "metadata": {},
   "outputs": [],
   "source": [
    "knn = KNN(n_neighbors=3).fit(X)\n",
    "distances, indices = knn.kneighbors(Xpred)"
   ]
  },
  {
   "cell_type": "code",
   "execution_count": 11,
   "metadata": {},
   "outputs": [],
   "source": [
    "n_pred = Xpred.shape[0]"
   ]
  },
  {
   "cell_type": "code",
   "execution_count": 12,
   "metadata": {},
   "outputs": [],
   "source": [
    "cell_type = []\n",
    "for i in range(n_pred):\n",
    "    if distances[i,0] < VERY_CLOSE or (distances[i,2] < CUTOFF and Y[indices[i,0]] == Y[indices[i,1]] and Y[indices[i,1]] == Y[indices[i,2]]):\n",
    "        cell_type.append(Y[indices[i,0]])\n",
    "    else:\n",
    "        cell_type.append(-1)"
   ]
  },
  {
   "cell_type": "code",
   "execution_count": 13,
   "metadata": {},
   "outputs": [
    {
     "name": "stdout",
     "output_type": "stream",
     "text": [
      "Of 12504365 racRNA spots, 5822040 were placed into a cell.\n"
     ]
    }
   ],
   "source": [
    "print(f\"Of {len(cell_type)} racRNA spots, {len(cell_type) - int(np.sum(np.array(cell_type) == -1))} were placed into a cell.\")"
   ]
  },
  {
   "cell_type": "code",
   "execution_count": 14,
   "metadata": {},
   "outputs": [],
   "source": [
    "racrna_data.loc[:,'cellid_idx'] = cell_type"
   ]
  },
  {
   "cell_type": "markdown",
   "metadata": {},
   "source": [
    "### Group data by cell"
   ]
  },
  {
   "cell_type": "code",
   "execution_count": 15,
   "metadata": {},
   "outputs": [],
   "source": [
    "ctype_file = 'data/pd_tissue.csv'"
   ]
  },
  {
   "cell_type": "code",
   "execution_count": 16,
   "metadata": {},
   "outputs": [],
   "source": [
    "ctype_data = pd.read_csv(ctype_file, low_memory=False)[['orginindex', 'sample']]\n",
    "ctype_data = ctype_data.loc[ctype_data['sample'] == sample].reset_index()[['orginindex']]\n",
    "ctype_data['orginindex'] = ctype_data['orginindex'].astype(int)"
   ]
  },
  {
   "cell_type": "code",
   "execution_count": 17,
   "metadata": {},
   "outputs": [],
   "source": [
    "verbosity = False\n",
    "\n",
    "n_cells = np.max(ctype_data['orginindex']) + 1\n",
    "if is_sagittal:\n",
    "    racrna_counter = np.zeros((n_cells, 4))\n",
    "else:\n",
    "    racrna_counter = np.zeros(n_cells)\n",
    "cellids = racrna_data['cellid_idx']\n",
    "geneids = racrna_data['geneid']\n",
    "for i in range(racrna_data.shape[0]):\n",
    "    cellid_idx = cellids[i]\n",
    "    geneid = geneids[i]\n",
    "    if cellid_idx != -1 and cellid_idx < n_cells:\n",
    "        if is_sagittal:\n",
    "            racrna_counter[cellid_idx][geneid-1] += 1\n",
    "        else:\n",
    "            racrna_counter[cellid_idx] += 1\n",
    "    elif cellid_idx >= n_cells and verbosity:\n",
    "        print(\"Found unknown cell: \", cellid_idx, f\"(gene ID {geneid})\") # some (usually <= 5) cells were not in cell type data"
   ]
  },
  {
   "cell_type": "code",
   "execution_count": 18,
   "metadata": {},
   "outputs": [],
   "source": [
    "to_df = {\n",
    "    'cellid_idx': [],\n",
    "    'racRNA uptake': []\n",
    "}\n",
    "\n",
    "if is_sagittal:\n",
    "    to_df['geneid'] = []\n",
    "\n",
    "for idx in range(n_cells):\n",
    "    if np.sum(racrna_counter[idx]) > 0:\n",
    "        if is_sagittal:\n",
    "            for i in range(4):\n",
    "                to_df['cellid_idx'].append(idx)\n",
    "                to_df['racRNA uptake'].append(racrna_counter[idx,i])\n",
    "                to_df['geneid'].append(i+1)\n",
    "        else:\n",
    "            to_df['cellid_idx'].append(idx)\n",
    "            to_df['racRNA uptake'].append(racrna_counter[idx])"
   ]
  },
  {
   "cell_type": "code",
   "execution_count": 19,
   "metadata": {},
   "outputs": [],
   "source": [
    "cellinfo_df = pd.DataFrame(to_df)"
   ]
  },
  {
   "cell_type": "markdown",
   "metadata": {},
   "source": [
    "### Output data"
   ]
  },
  {
   "cell_type": "code",
   "execution_count": 20,
   "metadata": {},
   "outputs": [],
   "source": [
    "racrna_data.to_csv(racrna_output_file)"
   ]
  },
  {
   "cell_type": "code",
   "execution_count": 21,
   "metadata": {},
   "outputs": [],
   "source": [
    "cellinfo_df.to_csv(cell_output_file)"
   ]
  }
 ],
 "metadata": {
  "kernelspec": {
   "display_name": "integration",
   "language": "python",
   "name": "integration"
  },
  "language_info": {
   "codemirror_mode": {
    "name": "ipython",
    "version": 3
   },
   "file_extension": ".py",
   "mimetype": "text/x-python",
   "name": "python",
   "nbconvert_exporter": "python",
   "pygments_lexer": "ipython3",
   "version": "3.9.5"
  }
 },
 "nbformat": 4,
 "nbformat_minor": 4
}
