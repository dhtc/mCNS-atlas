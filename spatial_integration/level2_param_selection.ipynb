{
 "cells": [
  {
   "cell_type": "code",
   "execution_count": null,
   "metadata": {},
   "outputs": [],
   "source": [
    "import scanpy as sc\n",
    "import numpy as np\n",
    "import spin\n",
    "import gc\n",
    "import os\n",
    "import pandas as pd"
   ]
  },
  {
   "cell_type": "code",
   "execution_count": null,
   "metadata": {},
   "outputs": [],
   "source": [
    "xkey = 'row'\n",
    "ykey = 'col'\n",
    "topregion_key = 'topregion'\n",
    "subregion_key = 'subregion'\n",
    "region_key = 'region'\n",
    "topregions = list(range(17))\n",
    "dpi = 200\n",
    "\n",
    "basepath = '/stanley/WangLab/kamal/figures/atlas/param_selection/'\n",
    "if not os.path.exists(basepath):\n",
    "    os.mkdir(basepath)"
   ]
  },
  {
   "cell_type": "markdown",
   "metadata": {},
   "source": [
    "# 0: Cortex 1"
   ]
  },
  {
   "cell_type": "markdown",
   "metadata": {},
   "source": [
    "## Num nbrs"
   ]
  },
  {
   "cell_type": "code",
   "execution_count": null,
   "metadata": {},
   "outputs": [],
   "source": [
    "topregion = '0'\n",
    "regionpath = os.path.join(basepath, f'{topregion}/')\n",
    "if not os.path.exists(regionpath):\n",
    "    os.mkdir(regionpath)"
   ]
  },
  {
   "cell_type": "code",
   "execution_count": null,
   "metadata": {},
   "outputs": [],
   "source": [
    "num_nbrss = [f'_{i*10}nbrs' for i in range(2,7)]\n",
    "\n",
    "nbrpath = os.path.join(regionpath, 'nbr_selection/')\n",
    "if not os.path.exists(nbrpath):\n",
    "    os.mkdir(nbrpath)\n",
    "\n",
    "for num_nbrs in num_nbrss:\n",
    "\n",
    "    adata = sc.read_h5ad(f'/stanley/WangLab/kamal/data/integrated/spatial/atlas/nbr_titration/atlas_spin_concat_nocombat_subclustered_topregion{topregion}{num_nbrs}.h5ad')\n",
    "\n",
    "    tissue_path = os.path.join(nbrpath, f'tissue_colored_by_region{num_nbrs}.png')\n",
    "    latent_path = os.path.join(nbrpath, f'latent_colored_by_region{num_nbrs}.png')\n",
    "\n",
    "    regions = adata.obs[subregion_key].value_counts().index # sorted by number of cells\n",
    "    palette = sc.pl.palettes.default_102\n",
    "    cmap = {regions[i]:palette[i] for i in range(len(regions))}\n",
    "\n",
    "    spin.plot_tissue(adata, colors=adata.obs[subregion_key], cmap=cmap, xkey=xkey, ykey=ykey, s=0.5, figscale=20, path=tissue_path, dpi=dpi)\n",
    "\n",
    "    regions = adata.obs[subregion_key].value_counts().index # sorted by number of cells\n",
    "    palette = sc.pl.palettes.default_102\n",
    "    cmap = {regions[i]:palette[i] for i in range(len(regions))}\n",
    "\n",
    "    spin.plot_latent(adata, adata.obsm['X_umap_spin_sub'][:,0], adata.obsm['X_umap_spin_sub'][:,1],\n",
    "                     colors=adata.obs[subregion_key], cmap=cmap, s=0.5, legend=True, path=latent_path, dpi=dpi)"
   ]
  },
  {
   "cell_type": "markdown",
   "metadata": {},
   "source": [
    "## Resolution"
   ]
  },
  {
   "cell_type": "code",
   "execution_count": null,
   "metadata": {},
   "outputs": [],
   "source": [
    "respath = os.path.join(regionpath, 'res_selection/')\n",
    "if not os.path.exists(respath):\n",
    "    os.mkdir(respath)"
   ]
  },
  {
   "cell_type": "code",
   "execution_count": null,
   "metadata": {},
   "outputs": [],
   "source": [
    "adata_og = sc.read_h5ad(f'/stanley/WangLab/kamal/data/integrated/spatial/atlas/nbr_titration/atlas_spin_concat_nocombat_subclustered_topregion{topregion}{num_nbrs}.h5ad')"
   ]
  },
  {
   "cell_type": "code",
   "execution_count": null,
   "metadata": {},
   "outputs": [],
   "source": [
    "adata_og.uns"
   ]
  },
  {
   "cell_type": "code",
   "execution_count": null,
   "metadata": {},
   "outputs": [],
   "source": [
    "num_nbrs = '_40nbrs'\n",
    "# res = 1.0\n",
    "res = 1.7\n",
    "\n",
    "adata = sc.read_h5ad(f'/stanley/WangLab/kamal/data/integrated/spatial/atlas/nbr_titration/atlas_spin_concat_nocombat_subclustered_topregion{topregion}{num_nbrs}.h5ad')\n",
    "\n",
    "tissue_path = os.path.join(respath, f\"tissue_colored_by_region{num_nbrs}_res{str(res).replace('.', '')}.png\")\n",
    "latent_path = os.path.join(respath, f\"latent_colored_by_region{num_nbrs}_res{str(res).replace('.', '')}.png\")\n",
    "\n",
    "sc.tl.leiden(adata, resolution=res, key_added=subregion_key, neighbors_key=subregion_key)\n",
    "\n",
    "regions = adata.obs[subregion_key].value_counts().index # sorted by number of cells\n",
    "palette = sc.pl.palettes.default_102\n",
    "cmap = {regions[i]:palette[i] for i in range(len(regions))}\n",
    "\n",
    "spin.plot_tissue(adata, colors=adata.obs[subregion_key], cmap=cmap, xkey=xkey, ykey=ykey, s=0.5, figscale=20, path=tissue_path, dpi=dpi)\n",
    "spin.plot_latent(adata, adata.obsm['X_umap_spin_sub'][:,0], adata.obsm['X_umap_spin_sub'][:,1],\n",
    "                    colors=adata.obs[subregion_key], cmap=cmap, s=0.5, legend=True, path=latent_path, dpi=dpi)"
   ]
  },
  {
   "cell_type": "code",
   "execution_count": null,
   "metadata": {},
   "outputs": [],
   "source": [
    "adata.write(f'/stanley/WangLab/kamal/data/integrated/spatial/atlas/final/topregion{topregion}_subclustered.h5ad')"
   ]
  },
  {
   "cell_type": "markdown",
   "metadata": {},
   "source": [
    "## Plot individual subregions"
   ]
  },
  {
   "cell_type": "code",
   "execution_count": null,
   "metadata": {},
   "outputs": [],
   "source": [
    "subplotpath = os.path.join(regionpath, 'subregion_plots/')\n",
    "if not os.path.exists(subplotpath):\n",
    "    os.mkdir(subplotpath)"
   ]
  },
  {
   "cell_type": "code",
   "execution_count": null,
   "metadata": {},
   "outputs": [],
   "source": [
    "num_nbrs = '_40nbrs'\n",
    "\n",
    "adata = sc.read_h5ad(f'/stanley/WangLab/kamal/data/integrated/spatial/atlas/nbr_titration/atlas_spin_concat_nocombat_subclustered_topregion{topregion}{num_nbrs}.h5ad')\n",
    "\n",
    "subregions = adata.obs[subregion_key].value_counts().index # sorted by number of cells\n",
    "\n",
    "for i in range(len(subregions)):\n",
    "    subregion = subregions[i]\n",
    "    tissue_path = os.path.join(subplotpath, f'tissue_colored_by_subregion{subregion}.png')\n",
    "    latent_path = os.path.join(subplotpath, f'latent_colored_by_subregion{subregion}.png')\n",
    "    spin.plot_regions_tissue(adata, [subregion], subregion_key, xkey=xkey, ykey=ykey, s=0.5, figscale=20, path=tissue_path, dpi=dpi)\n",
    "    spin.plot_regions_latent(adata, 'X_umap_spin_sub', [subregion], subregion_key, s=0.5, legend=True, path=latent_path, dpi=dpi)"
   ]
  },
  {
   "cell_type": "markdown",
   "metadata": {},
   "source": [
    "## Gene markers"
   ]
  },
  {
   "cell_type": "code",
   "execution_count": null,
   "metadata": {},
   "outputs": [],
   "source": [
    "markerpath = os.path.join(regionpath, 'top_10_gene_markers_per_subcluster.csv')"
   ]
  },
  {
   "cell_type": "code",
   "execution_count": null,
   "metadata": {},
   "outputs": [],
   "source": [
    "num_nbrs = '_40nbrs'\n",
    "adata = sc.read_h5ad(f'/stanley/WangLab/kamal/data/integrated/spatial/atlas/nbr_titration/atlas_spin_concat_nocombat_subclustered_topregion{topregion}{num_nbrs}.h5ad')\n",
    "\n",
    "sc.tl.rank_genes_groups(adata, groupby=subregion_key, use_raw=False)\n",
    "\n",
    "subregions = adata.obs[subregion_key].value_counts().index # sorted by number of cells\n",
    "num_markers = 10\n",
    "markers = np.zeros((len(subregions),num_markers), dtype=object)\n",
    "\n",
    "for i in range(len(subregions)):\n",
    "    top_markers = sc.get.rank_genes_groups_df(adata, group=[subregions[i]])['names'][:num_markers].values\n",
    "    markers[i] = top_markers\n",
    "\n",
    "marker_df = pd.DataFrame(data=markers, columns=[f'rank{i+1}' for i in range(num_markers)])\n",
    "marker_df.index.name = 'subregion'\n",
    "marker_df.to_csv(markerpath)"
   ]
  },
  {
   "cell_type": "markdown",
   "metadata": {},
   "source": [
    "## Filter thresh"
   ]
  },
  {
   "cell_type": "code",
   "execution_count": null,
   "metadata": {},
   "outputs": [],
   "source": [
    "threshpath = os.path.join(regionpath, 'thresh_selection/')\n",
    "if not os.path.exists(threshpath):\n",
    "    os.mkdir(threshpath)"
   ]
  },
  {
   "cell_type": "code",
   "execution_count": null,
   "metadata": {},
   "outputs": [],
   "source": [
    "num_nbrs = '_40nbrs'\n",
    "\n",
    "adata = sc.read_h5ad(f'/stanley/WangLab/kamal/data/integrated/spatial/atlas/nbr_titration/atlas_spin_concat_nocombat_subclustered_topregion{topregion}{num_nbrs}.h5ad')\n",
    "print(f'Cluster size = {len(adata)}')\n",
    "print(adata.obs[subregion_key].value_counts())\n",
    "\n",
    "thresh = 1000\n",
    "counts = adata.obs[subregion_key].value_counts()\n",
    "good_regions = (counts > thresh)\n",
    "good_regions = good_regions.index[np.where(good_regions)]\n",
    "adata.obs['keep'] = np.isin(adata.obs[subregion_key], good_regions)\n",
    "\n",
    "tissue_path = os.path.join(threshpath, f'tissue_colored_by_removed_cells.png')\n",
    "latent_path = os.path.join(threshpath, f'latent_colored_by_removed_cells.png')\n",
    "spin.plot_regions_tissue(adata, [False], 'keep', xkey=xkey, ykey=ykey, s=0.5, figscale=20, path=tissue_path, dpi=dpi)\n",
    "spin.plot_regions_latent(adata, 'X_umap_spin_sub', [False], 'keep', s=0.5, legend=True, path=latent_path, dpi=dpi)\n",
    "\n",
    "adata = adata[np.isin(adata.obs[subregion_key], good_regions)]\n",
    "\n",
    "regions = adata.obs[subregion_key].value_counts().index # sorted by number of cells\n",
    "palette = sc.pl.palettes.default_102\n",
    "cmap = {regions[i]:palette[i] for i in range(len(regions))}\n",
    "\n",
    "tissue_path = os.path.join(threshpath, f'tissue_colored_by_regions_filtered.png')\n",
    "latent_path = os.path.join(threshpath, f'latent_colored_by_regions_filtered.png')\n",
    "spin.plot_tissue(adata, colors=adata.obs[subregion_key], cmap=cmap, xkey=xkey, ykey=ykey, s=0.5, figscale=20, path=tissue_path, dpi=dpi)\n",
    "spin.plot_latent(adata, adata.obsm['X_umap_spin_sub'][:,0], adata.obsm['X_umap_spin_sub'][:,1],\n",
    "                    colors=adata.obs[subregion_key], cmap=cmap, s=0.5, legend=True, path=latent_path, dpi=dpi)"
   ]
  },
  {
   "cell_type": "markdown",
   "metadata": {},
   "source": [
    "### Plot region"
   ]
  },
  {
   "cell_type": "code",
   "execution_count": null,
   "metadata": {},
   "outputs": [],
   "source": [
    "subregion = '14'\n",
    "spin.plot_regions_tissue(adata, [subregion], subregion_key, xkey=xkey, ykey=ykey, s=0.5, figscale=20, title=subregion)"
   ]
  },
  {
   "cell_type": "markdown",
   "metadata": {},
   "source": [
    "# 1: Midbrain"
   ]
  },
  {
   "cell_type": "markdown",
   "metadata": {},
   "source": [
    "## Num nbrs"
   ]
  },
  {
   "cell_type": "code",
   "execution_count": null,
   "metadata": {},
   "outputs": [],
   "source": [
    "topregion = '1'\n",
    "regionpath = os.path.join(basepath, f'{topregion}/')\n",
    "if not os.path.exists(regionpath):\n",
    "    os.mkdir(regionpath)"
   ]
  },
  {
   "cell_type": "code",
   "execution_count": null,
   "metadata": {},
   "outputs": [],
   "source": [
    "num_nbrss = [f'_{i*10}nbrs' for i in range(2,7)]\n",
    "\n",
    "nbrpath = os.path.join(regionpath, 'nbr_selection/')\n",
    "if not os.path.exists(nbrpath):\n",
    "    os.mkdir(nbrpath)\n",
    "\n",
    "for num_nbrs in num_nbrss:\n",
    "\n",
    "    adata = sc.read_h5ad(f'/stanley/WangLab/kamal/data/integrated/spatial/atlas/nbr_titration/atlas_spin_concat_nocombat_subclustered_topregion{topregion}{num_nbrs}.h5ad')\n",
    "\n",
    "    tissue_path = os.path.join(nbrpath, f'tissue_colored_by_region{num_nbrs}.png')\n",
    "    latent_path = os.path.join(nbrpath, f'latent_colored_by_region{num_nbrs}.png')\n",
    "\n",
    "    regions = adata.obs[subregion_key].value_counts().index # sorted by number of cells\n",
    "    palette = sc.pl.palettes.default_102\n",
    "    cmap = {regions[i]:palette[i] for i in range(len(regions))}\n",
    "\n",
    "    spin.plot_tissue(adata, colors=adata.obs[subregion_key], cmap=cmap, xkey=xkey, ykey=ykey, s=0.5, figscale=20, path=tissue_path, dpi=dpi)\n",
    "\n",
    "    regions = adata.obs[subregion_key].value_counts().index # sorted by number of cells\n",
    "    palette = sc.pl.palettes.default_102\n",
    "    cmap = {regions[i]:palette[i] for i in range(len(regions))}\n",
    "\n",
    "    spin.plot_latent(adata, adata.obsm['X_umap_spin_sub'][:,0], adata.obsm['X_umap_spin_sub'][:,1],\n",
    "                     colors=adata.obs[subregion_key], cmap=cmap, s=0.5, legend=True, path=latent_path, dpi=dpi)"
   ]
  },
  {
   "cell_type": "markdown",
   "metadata": {},
   "source": [
    "## Resolution"
   ]
  },
  {
   "cell_type": "code",
   "execution_count": null,
   "metadata": {},
   "outputs": [],
   "source": [
    "respath = os.path.join(regionpath, 'res_selection/')\n",
    "if not os.path.exists(respath):\n",
    "    os.mkdir(respath)"
   ]
  },
  {
   "cell_type": "code",
   "execution_count": null,
   "metadata": {},
   "outputs": [],
   "source": [
    "num_nbrs = '_60nbrs'\n",
    "adata = sc.read_h5ad(f'/stanley/WangLab/kamal/data/integrated/spatial/atlas/nbr_titration/atlas_spin_concat_nocombat_subclustered_topregion{topregion}{num_nbrs}.h5ad')"
   ]
  },
  {
   "cell_type": "code",
   "execution_count": null,
   "metadata": {},
   "outputs": [],
   "source": [
    "res = 0.7\n",
    "\n",
    "adata = sc.read_h5ad(f'/stanley/WangLab/kamal/data/integrated/spatial/atlas/nbr_titration/atlas_spin_concat_nocombat_subclustered_topregion{topregion}{num_nbrs}.h5ad')\n",
    "\n",
    "tissue_path = os.path.join(respath, f\"tissue_colored_by_region{num_nbrs}_res{str(res).replace('.', '')}.png\")\n",
    "latent_path = os.path.join(respath, f\"latent_colored_by_region{num_nbrs}_res{str(res).replace('.', '')}.png\")\n",
    "\n",
    "sc.tl.leiden(adata, resolution=res, key_added=subregion_key, neighbors_key=subregion_key)\n",
    "\n",
    "regions = adata.obs[subregion_key].value_counts().index # sorted by number of cells\n",
    "palette = sc.pl.palettes.default_102\n",
    "cmap = {regions[i]:palette[i] for i in range(len(regions))}\n",
    "\n",
    "# spin.plot_tissue(adata, colors=adata.obs[subregion_key], cmap=cmap, xkey=xkey, ykey=ykey, s=0.5, figscale=20, path=tissue_path, dpi=dpi)\n",
    "# spin.plot_latent(adata, adata.obsm['X_umap_spin_sub'][:,0], adata.obsm['X_umap_spin_sub'][:,1],\n",
    "#                     colors=adata.obs[subregion_key], cmap=cmap, s=0.5, legend=True, path=latent_path, dpi=dpi)"
   ]
  },
  {
   "cell_type": "code",
   "execution_count": null,
   "metadata": {},
   "outputs": [],
   "source": [
    "res = 1\n",
    "\n",
    "adata = sc.read_h5ad(f'/stanley/WangLab/kamal/data/integrated/spatial/atlas/nbr_titration/atlas_spin_concat_nocombat_subclustered_topregion{topregion}{num_nbrs}.h5ad')\n",
    "\n",
    "tissue_path = os.path.join(respath, f\"tissue_colored_by_region{num_nbrs}_res{str(res).replace('.', '')}.png\")\n",
    "latent_path = os.path.join(respath, f\"latent_colored_by_region{num_nbrs}_res{str(res).replace('.', '')}.png\")\n",
    "\n",
    "sc.tl.leiden(adata, resolution=res, key_added=subregion_key, neighbors_key=subregion_key)\n",
    "\n",
    "regions = adata.obs[subregion_key].value_counts().index # sorted by number of cells\n",
    "palette = sc.pl.palettes.default_102\n",
    "cmap = {regions[i]:palette[i] for i in range(len(regions))}\n",
    "\n",
    "spin.plot_tissue(adata, colors=adata.obs[subregion_key], cmap=cmap, xkey=xkey, ykey=ykey, s=0.5, figscale=20, path=tissue_path, dpi=dpi)\n",
    "spin.plot_latent(adata, adata.obsm['X_umap_spin_sub'][:,0], adata.obsm['X_umap_spin_sub'][:,1],\n",
    "                    colors=adata.obs[subregion_key], cmap=cmap, s=0.5, legend=True, path=latent_path, dpi=dpi)"
   ]
  },
  {
   "cell_type": "code",
   "execution_count": null,
   "metadata": {},
   "outputs": [],
   "source": [
    "res = 0.7\n",
    "\n",
    "adata = sc.read_h5ad(f'/stanley/WangLab/kamal/data/integrated/spatial/atlas/nbr_titration/atlas_spin_concat_nocombat_subclustered_topregion{topregion}{num_nbrs}.h5ad')\n",
    "\n",
    "tissue_path = os.path.join(respath, f\"tissue_colored_by_region{num_nbrs}_res{str(res).replace('.', '')}.png\")\n",
    "latent_path = os.path.join(respath, f\"latent_colored_by_region{num_nbrs}_res{str(res).replace('.', '')}.png\")\n",
    "\n",
    "sc.tl.leiden(adata, resolution=res, key_added=subregion_key, neighbors_key=subregion_key)\n",
    "\n",
    "regions = adata.obs[subregion_key].value_counts().index # sorted by number of cells\n",
    "palette = sc.pl.palettes.default_102\n",
    "cmap = {regions[i]:palette[i] for i in range(len(regions))}\n",
    "\n",
    "spin.plot_tissue(adata, colors=adata.obs[subregion_key], cmap=cmap, xkey=xkey, ykey=ykey, s=0.5, figscale=20, path=tissue_path, dpi=dpi)\n",
    "spin.plot_latent(adata, adata.obsm['X_umap_spin_sub'][:,0], adata.obsm['X_umap_spin_sub'][:,1],\n",
    "                    colors=adata.obs[subregion_key], cmap=cmap, s=0.5, legend=True, path=latent_path, dpi=dpi)"
   ]
  },
  {
   "cell_type": "code",
   "execution_count": null,
   "metadata": {},
   "outputs": [],
   "source": [
    "res = 0.4\n",
    "\n",
    "adata = sc.read_h5ad(f'/stanley/WangLab/kamal/data/integrated/spatial/atlas/nbr_titration/atlas_spin_concat_nocombat_subclustered_topregion{topregion}{num_nbrs}.h5ad')\n",
    "\n",
    "tissue_path = os.path.join(respath, f\"tissue_colored_by_region{num_nbrs}_res{str(res).replace('.', '')}.png\")\n",
    "latent_path = os.path.join(respath, f\"latent_colored_by_region{num_nbrs}_res{str(res).replace('.', '')}.png\")\n",
    "\n",
    "sc.tl.leiden(adata, resolution=res, key_added=subregion_key, neighbors_key=subregion_key)\n",
    "\n",
    "regions = adata.obs[subregion_key].value_counts().index # sorted by number of cells\n",
    "palette = sc.pl.palettes.default_102\n",
    "cmap = {regions[i]:palette[i] for i in range(len(regions))}\n",
    "\n",
    "spin.plot_tissue(adata, colors=adata.obs[subregion_key], cmap=cmap, xkey=xkey, ykey=ykey, s=0.5, figscale=20, path=tissue_path, dpi=dpi)\n",
    "spin.plot_latent(adata, adata.obsm['X_umap_spin_sub'][:,0], adata.obsm['X_umap_spin_sub'][:,1],\n",
    "                    colors=adata.obs[subregion_key], cmap=cmap, s=0.5, legend=True, path=latent_path, dpi=dpi)"
   ]
  },
  {
   "cell_type": "code",
   "execution_count": null,
   "metadata": {},
   "outputs": [],
   "source": [
    "res = 0.55\n",
    "\n",
    "adata = sc.read_h5ad(f'/stanley/WangLab/kamal/data/integrated/spatial/atlas/nbr_titration/atlas_spin_concat_nocombat_subclustered_topregion{topregion}{num_nbrs}.h5ad')\n",
    "\n",
    "tissue_path = os.path.join(respath, f\"tissue_colored_by_region{num_nbrs}_res{str(res).replace('.', '')}.png\")\n",
    "latent_path = os.path.join(respath, f\"latent_colored_by_region{num_nbrs}_res{str(res).replace('.', '')}.png\")\n",
    "\n",
    "sc.tl.leiden(adata, resolution=res, key_added=subregion_key, neighbors_key=subregion_key)\n",
    "\n",
    "regions = adata.obs[subregion_key].value_counts().index # sorted by number of cells\n",
    "palette = sc.pl.palettes.default_102\n",
    "cmap = {regions[i]:palette[i] for i in range(len(regions))}\n",
    "\n",
    "spin.plot_tissue(adata, colors=adata.obs[subregion_key], cmap=cmap, xkey=xkey, ykey=ykey, s=0.5, figscale=20, path=tissue_path, dpi=dpi)\n",
    "spin.plot_latent(adata, adata.obsm['X_umap_spin_sub'][:,0], adata.obsm['X_umap_spin_sub'][:,1],\n",
    "                    colors=adata.obs[subregion_key], cmap=cmap, s=0.5, legend=True, path=latent_path, dpi=dpi)"
   ]
  },
  {
   "cell_type": "code",
   "execution_count": null,
   "metadata": {},
   "outputs": [],
   "source": [
    "res = 0.45\n",
    "\n",
    "adata = sc.read_h5ad(f'/stanley/WangLab/kamal/data/integrated/spatial/atlas/nbr_titration/atlas_spin_concat_nocombat_subclustered_topregion{topregion}{num_nbrs}.h5ad')\n",
    "\n",
    "tissue_path = os.path.join(respath, f\"tissue_colored_by_region{num_nbrs}_res{str(res).replace('.', '')}.png\")\n",
    "latent_path = os.path.join(respath, f\"latent_colored_by_region{num_nbrs}_res{str(res).replace('.', '')}.png\")\n",
    "\n",
    "sc.tl.leiden(adata, resolution=res, key_added=subregion_key, neighbors_key=subregion_key)\n",
    "\n",
    "regions = adata.obs[subregion_key].value_counts().index # sorted by number of cells\n",
    "palette = sc.pl.palettes.default_102\n",
    "cmap = {regions[i]:palette[i] for i in range(len(regions))}\n",
    "\n",
    "spin.plot_tissue(adata, colors=adata.obs[subregion_key], cmap=cmap, xkey=xkey, ykey=ykey, s=0.5, figscale=20, path=tissue_path, dpi=dpi)\n",
    "spin.plot_latent(adata, adata.obsm['X_umap_spin_sub'][:,0], adata.obsm['X_umap_spin_sub'][:,1],\n",
    "                    colors=adata.obs[subregion_key], cmap=cmap, s=0.5, legend=True, path=latent_path, dpi=dpi)"
   ]
  },
  {
   "cell_type": "code",
   "execution_count": null,
   "metadata": {},
   "outputs": [],
   "source": [
    "res = 0.35\n",
    "\n",
    "adata = sc.read_h5ad(f'/stanley/WangLab/kamal/data/integrated/spatial/atlas/nbr_titration/atlas_spin_concat_nocombat_subclustered_topregion{topregion}{num_nbrs}.h5ad')\n",
    "\n",
    "tissue_path = os.path.join(respath, f\"tissue_colored_by_region{num_nbrs}_res{str(res).replace('.', '')}.png\")\n",
    "latent_path = os.path.join(respath, f\"latent_colored_by_region{num_nbrs}_res{str(res).replace('.', '')}.png\")\n",
    "\n",
    "sc.tl.leiden(adata, resolution=res, key_added=subregion_key, neighbors_key=subregion_key)\n",
    "\n",
    "regions = adata.obs[subregion_key].value_counts().index # sorted by number of cells\n",
    "palette = sc.pl.palettes.default_102\n",
    "cmap = {regions[i]:palette[i] for i in range(len(regions))}\n",
    "\n",
    "spin.plot_tissue(adata, colors=adata.obs[subregion_key], cmap=cmap, xkey=xkey, ykey=ykey, s=0.5, figscale=20, path=tissue_path, dpi=dpi)\n",
    "spin.plot_latent(adata, adata.obsm['X_umap_spin_sub'][:,0], adata.obsm['X_umap_spin_sub'][:,1],\n",
    "                    colors=adata.obs[subregion_key], cmap=cmap, s=0.5, legend=True, path=latent_path, dpi=dpi)"
   ]
  },
  {
   "cell_type": "code",
   "execution_count": null,
   "metadata": {},
   "outputs": [],
   "source": [
    "res = 0.7\n",
    "\n",
    "adata = sc.read_h5ad(f'/stanley/WangLab/kamal/data/integrated/spatial/atlas/nbr_titration/atlas_spin_concat_nocombat_subclustered_topregion{topregion}{num_nbrs}.h5ad')\n",
    "\n",
    "tissue_path = os.path.join(respath, f\"tissue_colored_by_region{num_nbrs}_res{str(res).replace('.', '')}.png\")\n",
    "latent_path = os.path.join(respath, f\"latent_colored_by_region{num_nbrs}_res{str(res).replace('.', '')}.png\")\n",
    "\n",
    "sc.tl.leiden(adata, resolution=res, key_added=subregion_key, neighbors_key=subregion_key)\n",
    "\n",
    "regions = adata.obs[subregion_key].value_counts().index # sorted by number of cells\n",
    "palette = sc.pl.palettes.default_102\n",
    "cmap = {regions[i]:palette[i] for i in range(len(regions))}\n",
    "\n",
    "spin.plot_tissue(adata, colors=adata.obs[subregion_key], cmap=cmap, xkey=xkey, ykey=ykey, s=0.5, figscale=20, path=tissue_path, dpi=dpi)\n",
    "spin.plot_latent(adata, adata.obsm['X_umap_spin_sub'][:,0], adata.obsm['X_umap_spin_sub'][:,1],\n",
    "                    colors=adata.obs[subregion_key], cmap=cmap, s=0.5, legend=True, path=latent_path, dpi=dpi)"
   ]
  },
  {
   "cell_type": "code",
   "execution_count": null,
   "metadata": {},
   "outputs": [],
   "source": [
    "adata.write(f'/stanley/WangLab/kamal/data/integrated/spatial/atlas/final/topregion{topregion}_subclustered.h5ad')"
   ]
  },
  {
   "cell_type": "markdown",
   "metadata": {},
   "source": [
    "## Filter thresh"
   ]
  },
  {
   "cell_type": "code",
   "execution_count": null,
   "metadata": {},
   "outputs": [],
   "source": [
    "threshpath = os.path.join(regionpath, 'thresh_selection/')\n",
    "if not os.path.exists(threshpath):\n",
    "    os.mkdir(threshpath)"
   ]
  },
  {
   "cell_type": "code",
   "execution_count": null,
   "metadata": {},
   "outputs": [],
   "source": [
    "print(f'Cluster size = {len(adata)}')\n",
    "print(adata.obs[subregion_key].value_counts())\n",
    "\n",
    "thresh = 1000\n",
    "counts = adata.obs[subregion_key].value_counts()\n",
    "good_regions = (counts > thresh)\n",
    "good_regions = good_regions.index[np.where(good_regions)]\n",
    "adata.obs['keep'] = np.isin(adata.obs[subregion_key], good_regions)\n",
    "\n",
    "tissue_path = os.path.join(threshpath, f'tissue_colored_by_removed_cells.png')\n",
    "latent_path = os.path.join(threshpath, f'latent_colored_by_removed_cells.png')\n",
    "spin.plot_regions_tissue(adata, [False], 'keep', xkey=xkey, ykey=ykey, s=0.5, figscale=20, path=tissue_path, dpi=dpi)\n",
    "spin.plot_regions_latent(adata, 'X_umap_spin_sub', [False], 'keep', s=0.5, legend=True, path=latent_path, dpi=dpi)\n",
    "\n",
    "adata = adata[np.isin(adata.obs[subregion_key], good_regions)]\n",
    "\n",
    "regions = adata.obs[subregion_key].value_counts().index # sorted by number of cells\n",
    "palette = sc.pl.palettes.default_102\n",
    "cmap = {regions[i]:palette[i] for i in range(len(regions))}\n",
    "\n",
    "tissue_path = os.path.join(threshpath, f'tissue_colored_by_regions_filtered.png')\n",
    "latent_path = os.path.join(threshpath, f'latent_colored_by_regions_filtered.png')\n",
    "spin.plot_tissue(adata, colors=adata.obs[subregion_key], cmap=cmap, xkey=xkey, ykey=ykey, s=0.5, figscale=20, path=tissue_path, dpi=dpi)\n",
    "spin.plot_latent(adata, adata.obsm['X_umap_spin_sub'][:,0], adata.obsm['X_umap_spin_sub'][:,1],\n",
    "                    colors=adata.obs[subregion_key], cmap=cmap, s=0.5, legend=True, path=latent_path, dpi=dpi)"
   ]
  },
  {
   "cell_type": "markdown",
   "metadata": {},
   "source": [
    "## Plot individual subregions"
   ]
  },
  {
   "cell_type": "code",
   "execution_count": null,
   "metadata": {},
   "outputs": [],
   "source": [
    "subplotpath = os.path.join(regionpath, 'subregion_plots/')\n",
    "if not os.path.exists(subplotpath):\n",
    "    os.mkdir(subplotpath)"
   ]
  },
  {
   "cell_type": "code",
   "execution_count": null,
   "metadata": {},
   "outputs": [],
   "source": [
    "subregions = adata.obs[subregion_key].value_counts().index # sorted by number of cells\n",
    "\n",
    "for i in range(len(subregions)):\n",
    "    subregion = subregions[i]\n",
    "    tissue_path = os.path.join(subplotpath, f'tissue_colored_by_subregion{subregion}.png')\n",
    "    latent_path = os.path.join(subplotpath, f'latent_colored_by_subregion{subregion}.png')\n",
    "    spin.plot_regions_tissue(adata, [subregion], subregion_key, xkey=xkey, ykey=ykey, s=0.5, figscale=20, path=tissue_path, dpi=dpi)\n",
    "    spin.plot_regions_latent(adata, 'X_umap_spin_sub', [subregion], subregion_key, s=0.5, legend=True, path=latent_path, dpi=dpi)"
   ]
  },
  {
   "cell_type": "markdown",
   "metadata": {},
   "source": [
    "## Gene markers"
   ]
  },
  {
   "cell_type": "code",
   "execution_count": null,
   "metadata": {},
   "outputs": [],
   "source": [
    "markerpath = os.path.join(regionpath, 'top_10_gene_markers_per_subcluster.csv')"
   ]
  },
  {
   "cell_type": "code",
   "execution_count": null,
   "metadata": {},
   "outputs": [],
   "source": [
    "sc.tl.rank_genes_groups(adata, groupby=subregion_key, use_raw=False)\n",
    "\n",
    "subregions = adata.obs[subregion_key].value_counts().index # sorted by number of cells\n",
    "num_markers = 10\n",
    "markers = np.zeros((len(subregions),num_markers), dtype=object)\n",
    "\n",
    "for i in range(len(subregions)):\n",
    "    top_markers = sc.get.rank_genes_groups_df(adata, group=[subregions[i]])['names'][:num_markers].values\n",
    "    markers[i] = top_markers\n",
    "\n",
    "marker_df = pd.DataFrame(data=markers, columns=[f'rank{i+1}' for i in range(num_markers)])\n",
    "marker_df.index.name = 'subregion'\n",
    "marker_df.to_csv(markerpath)"
   ]
  },
  {
   "cell_type": "markdown",
   "metadata": {},
   "source": [
    "# 2: Cb 1"
   ]
  },
  {
   "cell_type": "markdown",
   "metadata": {},
   "source": [
    "## Num nbrs"
   ]
  },
  {
   "cell_type": "code",
   "execution_count": null,
   "metadata": {},
   "outputs": [],
   "source": [
    "topregion = '2'\n",
    "regionpath = os.path.join(basepath, f'{topregion}/')\n",
    "if not os.path.exists(regionpath):\n",
    "    os.mkdir(regionpath)"
   ]
  },
  {
   "cell_type": "code",
   "execution_count": null,
   "metadata": {},
   "outputs": [],
   "source": [
    "num_nbrss = [f'_{i*10}nbrs' for i in range(2,7)]\n",
    "num_nbrss.remove('_30nbrs')\n",
    "\n",
    "nbrpath = os.path.join(regionpath, 'nbr_selection/')\n",
    "if not os.path.exists(nbrpath):\n",
    "    os.mkdir(nbrpath)\n",
    "\n",
    "for num_nbrs in num_nbrss:\n",
    "\n",
    "    adata = sc.read_h5ad(f'/stanley/WangLab/kamal/data/integrated/spatial/atlas/nbr_titration/atlas_spin_concat_nocombat_subclustered_topregion{topregion}{num_nbrs}.h5ad')\n",
    "\n",
    "    tissue_path = os.path.join(nbrpath, f'tissue_colored_by_region{num_nbrs}.png')\n",
    "    latent_path = os.path.join(nbrpath, f'latent_colored_by_region{num_nbrs}.png')\n",
    "\n",
    "    regions = adata.obs[subregion_key].value_counts().index # sorted by number of cells\n",
    "    palette = sc.pl.palettes.default_102\n",
    "    cmap = {regions[i]:palette[i] for i in range(len(regions))}\n",
    "\n",
    "    spin.plot_tissue(adata, colors=adata.obs[subregion_key], cmap=cmap, xkey=xkey, ykey=ykey, s=0.5, figscale=20, path=tissue_path, dpi=dpi)\n",
    "\n",
    "    regions = adata.obs[subregion_key].value_counts().index # sorted by number of cells\n",
    "    palette = sc.pl.palettes.default_102\n",
    "    cmap = {regions[i]:palette[i] for i in range(len(regions))}\n",
    "\n",
    "    spin.plot_latent(adata, adata.obsm['X_umap_spin_sub'][:,0], adata.obsm['X_umap_spin_sub'][:,1],\n",
    "                     colors=adata.obs[subregion_key], cmap=cmap, s=0.5, legend=True, path=latent_path, dpi=dpi)"
   ]
  },
  {
   "cell_type": "markdown",
   "metadata": {},
   "source": [
    "## Resolution"
   ]
  },
  {
   "cell_type": "code",
   "execution_count": null,
   "metadata": {},
   "outputs": [],
   "source": [
    "respath = os.path.join(regionpath, 'res_selection/')\n",
    "if not os.path.exists(respath):\n",
    "    os.mkdir(respath)"
   ]
  },
  {
   "cell_type": "code",
   "execution_count": null,
   "metadata": {},
   "outputs": [],
   "source": [
    "num_nbrs = '_20nbrs'\n",
    "res = 0.3\n",
    "\n",
    "adata = sc.read_h5ad(f'/stanley/WangLab/kamal/data/integrated/spatial/atlas/nbr_titration/atlas_spin_concat_nocombat_subclustered_topregion{topregion}{num_nbrs}.h5ad')\n",
    "\n",
    "tissue_path = os.path.join(respath, f\"tissue_colored_by_region{num_nbrs}_res{str(res).replace('.', '')}.png\")\n",
    "latent_path = os.path.join(respath, f\"latent_colored_by_region{num_nbrs}_res{str(res).replace('.', '')}.png\")\n",
    "\n",
    "sc.tl.leiden(adata, resolution=res, key_added=subregion_key, neighbors_key=subregion_key)\n",
    "\n",
    "regions = adata.obs[subregion_key].value_counts().index # sorted by number of cells\n",
    "palette = sc.pl.palettes.default_102\n",
    "cmap = {regions[i]:palette[i] for i in range(len(regions))}\n",
    "\n",
    "spin.plot_tissue(adata, colors=adata.obs[subregion_key], cmap=cmap, xkey=xkey, ykey=ykey, s=0.5, figscale=20, path=tissue_path, dpi=dpi)\n",
    "spin.plot_latent(adata, adata.obsm['X_umap_spin_sub'][:,0], adata.obsm['X_umap_spin_sub'][:,1],\n",
    "                    colors=adata.obs[subregion_key], cmap=cmap, s=0.5, legend=True, path=latent_path, dpi=dpi)"
   ]
  },
  {
   "cell_type": "code",
   "execution_count": null,
   "metadata": {},
   "outputs": [],
   "source": [
    "adata.write(f'/stanley/WangLab/kamal/data/integrated/spatial/atlas/final/topregion{topregion}_subclustered.h5ad')"
   ]
  },
  {
   "cell_type": "markdown",
   "metadata": {},
   "source": [
    "## Plot individual subregions"
   ]
  },
  {
   "cell_type": "code",
   "execution_count": null,
   "metadata": {},
   "outputs": [],
   "source": [
    "subplotpath = os.path.join(regionpath, 'subregion_plots/')\n",
    "if not os.path.exists(subplotpath):\n",
    "    os.mkdir(subplotpath)"
   ]
  },
  {
   "cell_type": "code",
   "execution_count": null,
   "metadata": {},
   "outputs": [],
   "source": [
    "subregions = adata.obs[subregion_key].value_counts().index # sorted by number of cells\n",
    "\n",
    "for i in range(len(subregions)):\n",
    "    subregion = subregions[i]\n",
    "    tissue_path = os.path.join(subplotpath, f'tissue_colored_by_subregion{subregion}.png')\n",
    "    latent_path = os.path.join(subplotpath, f'latent_colored_by_subregion{subregion}.png')\n",
    "    spin.plot_regions_tissue(adata, [subregion], subregion_key, xkey=xkey, ykey=ykey, s=0.5, figscale=20, path=tissue_path, dpi=dpi)\n",
    "    spin.plot_regions_latent(adata, 'X_umap_spin_sub', [subregion], subregion_key, s=0.5, legend=True, path=latent_path, dpi=dpi)"
   ]
  },
  {
   "cell_type": "markdown",
   "metadata": {},
   "source": [
    "## Gene markers"
   ]
  },
  {
   "cell_type": "code",
   "execution_count": null,
   "metadata": {},
   "outputs": [],
   "source": [
    "markerpath = os.path.join(regionpath, 'top_10_gene_markers_per_subcluster.csv')"
   ]
  },
  {
   "cell_type": "code",
   "execution_count": null,
   "metadata": {},
   "outputs": [],
   "source": [
    "sc.tl.rank_genes_groups(adata, groupby=subregion_key, use_raw=False)\n",
    "\n",
    "subregions = adata.obs[subregion_key].value_counts().index # sorted by number of cells\n",
    "num_markers = 10\n",
    "markers = np.zeros((len(subregions),num_markers), dtype=object)\n",
    "\n",
    "for i in range(len(subregions)):\n",
    "    top_markers = sc.get.rank_genes_groups_df(adata, group=[subregions[i]])['names'][:num_markers].values\n",
    "    markers[i] = top_markers\n",
    "\n",
    "marker_df = pd.DataFrame(data=markers, columns=[f'rank{i+1}' for i in range(num_markers)])\n",
    "marker_df.index.name = 'subregion'\n",
    "marker_df.to_csv(markerpath)"
   ]
  },
  {
   "cell_type": "markdown",
   "metadata": {},
   "source": [
    "## Filter thresh"
   ]
  },
  {
   "cell_type": "code",
   "execution_count": null,
   "metadata": {},
   "outputs": [],
   "source": [
    "threshpath = os.path.join(regionpath, 'thresh_selection/')\n",
    "if not os.path.exists(threshpath):\n",
    "    os.mkdir(threshpath)"
   ]
  },
  {
   "cell_type": "code",
   "execution_count": null,
   "metadata": {},
   "outputs": [],
   "source": [
    "print(f'Cluster size = {len(adata)}')\n",
    "print(adata.obs[subregion_key].value_counts())\n",
    "\n",
    "thresh = 1000\n",
    "counts = adata.obs[subregion_key].value_counts()\n",
    "good_regions = (counts > thresh)\n",
    "good_regions = good_regions.index[np.where(good_regions)]\n",
    "adata.obs['keep'] = np.isin(adata.obs[subregion_key], good_regions)\n",
    "\n",
    "tissue_path = os.path.join(threshpath, f'tissue_colored_by_removed_cells.png')\n",
    "latent_path = os.path.join(threshpath, f'latent_colored_by_removed_cells.png')\n",
    "spin.plot_regions_tissue(adata, [False], 'keep', xkey=xkey, ykey=ykey, s=0.5, figscale=20, path=tissue_path, dpi=dpi)\n",
    "spin.plot_regions_latent(adata, 'X_umap_spin_sub', [False], 'keep', s=0.5, legend=True, path=latent_path, dpi=dpi)\n",
    "\n",
    "adata = adata[np.isin(adata.obs[subregion_key], good_regions)]\n",
    "\n",
    "regions = adata.obs[subregion_key].value_counts().index # sorted by number of cells\n",
    "palette = sc.pl.palettes.default_102\n",
    "cmap = {regions[i]:palette[i] for i in range(len(regions))}\n",
    "\n",
    "tissue_path = os.path.join(threshpath, f'tissue_colored_by_regions_filtered.png')\n",
    "latent_path = os.path.join(threshpath, f'latent_colored_by_regions_filtered.png')\n",
    "spin.plot_tissue(adata, colors=adata.obs[subregion_key], cmap=cmap, xkey=xkey, ykey=ykey, s=0.5, figscale=20, path=tissue_path, dpi=dpi)\n",
    "spin.plot_latent(adata, adata.obsm['X_umap_spin_sub'][:,0], adata.obsm['X_umap_spin_sub'][:,1],\n",
    "                    colors=adata.obs[subregion_key], cmap=cmap, s=0.5, legend=True, path=latent_path, dpi=dpi)"
   ]
  },
  {
   "cell_type": "markdown",
   "metadata": {},
   "source": [
    "# 3: Str"
   ]
  },
  {
   "cell_type": "markdown",
   "metadata": {},
   "source": [
    "## Num nbrs"
   ]
  },
  {
   "cell_type": "code",
   "execution_count": null,
   "metadata": {},
   "outputs": [],
   "source": [
    "topregion = '3'\n",
    "regionpath = os.path.join(basepath, f'{topregion}/')\n",
    "if not os.path.exists(regionpath):\n",
    "    os.mkdir(regionpath)"
   ]
  },
  {
   "cell_type": "code",
   "execution_count": null,
   "metadata": {},
   "outputs": [],
   "source": [
    "num_nbrss = [f'_{i*10}nbrs' for i in range(2,7)]\n",
    "\n",
    "nbrpath = os.path.join(regionpath, 'nbr_selection/')\n",
    "if not os.path.exists(nbrpath):\n",
    "    os.mkdir(nbrpath)\n",
    "\n",
    "for num_nbrs in num_nbrss:\n",
    "\n",
    "    adata = sc.read_h5ad(f'/stanley/WangLab/kamal/data/integrated/spatial/atlas/nbr_titration/atlas_spin_concat_nocombat_subclustered_topregion{topregion}{num_nbrs}.h5ad')\n",
    "\n",
    "    tissue_path = os.path.join(nbrpath, f'tissue_colored_by_region{num_nbrs}.png')\n",
    "    latent_path = os.path.join(nbrpath, f'latent_colored_by_region{num_nbrs}.png')\n",
    "\n",
    "    regions = adata.obs[subregion_key].value_counts().index # sorted by number of cells\n",
    "    palette = sc.pl.palettes.default_102\n",
    "    cmap = {regions[i]:palette[i] for i in range(len(regions))}\n",
    "\n",
    "    spin.plot_tissue(adata, colors=adata.obs[subregion_key], cmap=cmap, xkey=xkey, ykey=ykey, s=0.5, figscale=20, path=tissue_path, dpi=dpi)\n",
    "\n",
    "    regions = adata.obs[subregion_key].value_counts().index # sorted by number of cells\n",
    "    palette = sc.pl.palettes.default_102\n",
    "    cmap = {regions[i]:palette[i] for i in range(len(regions))}\n",
    "\n",
    "    spin.plot_latent(adata, adata.obsm['X_umap_spin_sub'][:,0], adata.obsm['X_umap_spin_sub'][:,1],\n",
    "                     colors=adata.obs[subregion_key], cmap=cmap, s=0.5, legend=True, path=latent_path, dpi=dpi)"
   ]
  },
  {
   "cell_type": "markdown",
   "metadata": {},
   "source": [
    "## Resolution"
   ]
  },
  {
   "cell_type": "code",
   "execution_count": null,
   "metadata": {},
   "outputs": [],
   "source": [
    "respath = os.path.join(regionpath, 'res_selection/')\n",
    "if not os.path.exists(respath):\n",
    "    os.mkdir(respath)"
   ]
  },
  {
   "cell_type": "code",
   "execution_count": null,
   "metadata": {},
   "outputs": [],
   "source": [
    "num_nbrs = '_60nbrs'\n",
    "adata = sc.read_h5ad(f'/stanley/WangLab/kamal/data/integrated/spatial/atlas/nbr_titration/atlas_spin_concat_nocombat_subclustered_topregion{topregion}{num_nbrs}.h5ad')"
   ]
  },
  {
   "cell_type": "code",
   "execution_count": null,
   "metadata": {},
   "outputs": [],
   "source": [
    "res = 0.5\n",
    "\n",
    "adata = sc.read_h5ad(f'/stanley/WangLab/kamal/data/integrated/spatial/atlas/nbr_titration/atlas_spin_concat_nocombat_subclustered_topregion{topregion}{num_nbrs}.h5ad')\n",
    "\n",
    "tissue_path = os.path.join(respath, f\"tissue_colored_by_region{num_nbrs}_res{str(res).replace('.', '')}.png\")\n",
    "latent_path = os.path.join(respath, f\"latent_colored_by_region{num_nbrs}_res{str(res).replace('.', '')}.png\")\n",
    "\n",
    "sc.tl.leiden(adata, resolution=res, key_added=subregion_key, neighbors_key=subregion_key)\n",
    "\n",
    "regions = adata.obs[subregion_key].value_counts().index # sorted by number of cells\n",
    "palette = sc.pl.palettes.default_102\n",
    "cmap = {regions[i]:palette[i] for i in range(len(regions))}\n",
    "\n",
    "spin.plot_tissue(adata, colors=adata.obs[subregion_key], cmap=cmap, xkey=xkey, ykey=ykey, s=0.5, figscale=20, path=tissue_path, dpi=dpi)\n",
    "spin.plot_latent(adata, adata.obsm['X_umap_spin_sub'][:,0], adata.obsm['X_umap_spin_sub'][:,1],\n",
    "                    colors=adata.obs[subregion_key], cmap=cmap, s=0.5, legend=True, path=latent_path, dpi=dpi)"
   ]
  },
  {
   "cell_type": "code",
   "execution_count": null,
   "metadata": {},
   "outputs": [],
   "source": [
    "adata.write(f'/stanley/WangLab/kamal/data/integrated/spatial/atlas/final/topregion{topregion}_subclustered.h5ad')"
   ]
  },
  {
   "cell_type": "markdown",
   "metadata": {},
   "source": [
    "## Plot individual subregions"
   ]
  },
  {
   "cell_type": "code",
   "execution_count": null,
   "metadata": {},
   "outputs": [],
   "source": [
    "subplotpath = os.path.join(regionpath, 'subregion_plots/')\n",
    "if not os.path.exists(subplotpath):\n",
    "    os.mkdir(subplotpath)"
   ]
  },
  {
   "cell_type": "code",
   "execution_count": null,
   "metadata": {},
   "outputs": [],
   "source": [
    "subregions = adata.obs[subregion_key].value_counts().index # sorted by number of cells\n",
    "\n",
    "for i in range(len(subregions)):\n",
    "    subregion = subregions[i]\n",
    "    tissue_path = os.path.join(subplotpath, f'tissue_colored_by_subregion{subregion}.png')\n",
    "    latent_path = os.path.join(subplotpath, f'latent_colored_by_subregion{subregion}.png')\n",
    "    spin.plot_regions_tissue(adata, [subregion], subregion_key, xkey=xkey, ykey=ykey, s=0.5, figscale=20, path=tissue_path, dpi=dpi)\n",
    "    spin.plot_regions_latent(adata, 'X_umap_spin_sub', [subregion], subregion_key, s=0.5, legend=True, path=latent_path, dpi=dpi)"
   ]
  },
  {
   "cell_type": "markdown",
   "metadata": {},
   "source": [
    "## Gene markers"
   ]
  },
  {
   "cell_type": "code",
   "execution_count": null,
   "metadata": {},
   "outputs": [],
   "source": [
    "markerpath = os.path.join(regionpath, 'top_10_gene_markers_per_subcluster.csv')"
   ]
  },
  {
   "cell_type": "code",
   "execution_count": null,
   "metadata": {},
   "outputs": [],
   "source": [
    "sc.tl.rank_genes_groups(adata, groupby=subregion_key, use_raw=False)\n",
    "\n",
    "subregions = adata.obs[subregion_key].value_counts().index # sorted by number of cells\n",
    "num_markers = 10\n",
    "markers = np.zeros((len(subregions),num_markers), dtype=object)\n",
    "\n",
    "for i in range(len(subregions)):\n",
    "    top_markers = sc.get.rank_genes_groups_df(adata, group=[subregions[i]])['names'][:num_markers].values\n",
    "    markers[i] = top_markers\n",
    "\n",
    "marker_df = pd.DataFrame(data=markers, columns=[f'rank{i+1}' for i in range(num_markers)])\n",
    "marker_df.index.name = 'subregion'\n",
    "marker_df.to_csv(markerpath)"
   ]
  },
  {
   "cell_type": "markdown",
   "metadata": {},
   "source": [
    "## Filter thresh"
   ]
  },
  {
   "cell_type": "code",
   "execution_count": null,
   "metadata": {},
   "outputs": [],
   "source": [
    "threshpath = os.path.join(regionpath, 'thresh_selection/')\n",
    "if not os.path.exists(threshpath):\n",
    "    os.mkdir(threshpath)"
   ]
  },
  {
   "cell_type": "code",
   "execution_count": null,
   "metadata": {},
   "outputs": [],
   "source": [
    "print(f'Cluster size = {len(adata)}')\n",
    "print(adata.obs[subregion_key].value_counts())\n",
    "\n",
    "thresh = 1000\n",
    "counts = adata.obs[subregion_key].value_counts()\n",
    "good_regions = (counts > thresh)\n",
    "good_regions = good_regions.index[np.where(good_regions)]\n",
    "adata.obs['keep'] = np.isin(adata.obs[subregion_key], good_regions)\n",
    "\n",
    "tissue_path = os.path.join(threshpath, f'tissue_colored_by_removed_cells.png')\n",
    "latent_path = os.path.join(threshpath, f'latent_colored_by_removed_cells.png')\n",
    "spin.plot_regions_tissue(adata, [False], 'keep', xkey=xkey, ykey=ykey, s=0.5, figscale=20, path=tissue_path, dpi=dpi)\n",
    "spin.plot_regions_latent(adata, 'X_umap_spin_sub', [False], 'keep', s=0.5, legend=True, path=latent_path, dpi=dpi)\n",
    "\n",
    "adata = adata[np.isin(adata.obs[subregion_key], good_regions)]\n",
    "\n",
    "regions = adata.obs[subregion_key].value_counts().index # sorted by number of cells\n",
    "palette = sc.pl.palettes.default_102\n",
    "cmap = {regions[i]:palette[i] for i in range(len(regions))}\n",
    "\n",
    "tissue_path = os.path.join(threshpath, f'tissue_colored_by_regions_filtered.png')\n",
    "latent_path = os.path.join(threshpath, f'latent_colored_by_regions_filtered.png')\n",
    "spin.plot_tissue(adata, colors=adata.obs[subregion_key], cmap=cmap, xkey=xkey, ykey=ykey, s=0.5, figscale=20, path=tissue_path, dpi=dpi)\n",
    "spin.plot_latent(adata, adata.obsm['X_umap_spin_sub'][:,0], adata.obsm['X_umap_spin_sub'][:,1],\n",
    "                    colors=adata.obs[subregion_key], cmap=cmap, s=0.5, legend=True, path=latent_path, dpi=dpi)"
   ]
  },
  {
   "cell_type": "markdown",
   "metadata": {},
   "source": [
    "# 4: Ob 1"
   ]
  },
  {
   "cell_type": "markdown",
   "metadata": {},
   "source": [
    "## Num nbrs"
   ]
  },
  {
   "cell_type": "code",
   "execution_count": null,
   "metadata": {},
   "outputs": [],
   "source": [
    "topregion = '4'\n",
    "regionpath = os.path.join(basepath, f'{topregion}/')\n",
    "if not os.path.exists(regionpath):\n",
    "    os.mkdir(regionpath)"
   ]
  },
  {
   "cell_type": "code",
   "execution_count": null,
   "metadata": {},
   "outputs": [],
   "source": [
    "num_nbrss = [f'_{i*10}nbrs' for i in range(2,7)]\n",
    "\n",
    "nbrpath = os.path.join(regionpath, 'nbr_selection/')\n",
    "if not os.path.exists(nbrpath):\n",
    "    os.mkdir(nbrpath)\n",
    "\n",
    "for num_nbrs in num_nbrss:\n",
    "\n",
    "    adata = sc.read_h5ad(f'/stanley/WangLab/kamal/data/integrated/spatial/atlas/nbr_titration/atlas_spin_concat_nocombat_subclustered_topregion{topregion}{num_nbrs}.h5ad')\n",
    "\n",
    "    tissue_path = os.path.join(nbrpath, f'tissue_colored_by_region{num_nbrs}.png')\n",
    "    latent_path = os.path.join(nbrpath, f'latent_colored_by_region{num_nbrs}.png')\n",
    "\n",
    "    regions = adata.obs[subregion_key].value_counts().index # sorted by number of cells\n",
    "    palette = sc.pl.palettes.default_102\n",
    "    cmap = {regions[i]:palette[i] for i in range(len(regions))}\n",
    "\n",
    "    spin.plot_tissue(adata, colors=adata.obs[subregion_key], cmap=cmap, xkey=xkey, ykey=ykey, s=0.5, figscale=20, path=tissue_path, dpi=dpi)\n",
    "\n",
    "    regions = adata.obs[subregion_key].value_counts().index # sorted by number of cells\n",
    "    palette = sc.pl.palettes.default_102\n",
    "    cmap = {regions[i]:palette[i] for i in range(len(regions))}\n",
    "\n",
    "    spin.plot_latent(adata, adata.obsm['X_umap_spin_sub'][:,0], adata.obsm['X_umap_spin_sub'][:,1],\n",
    "                     colors=adata.obs[subregion_key], cmap=cmap, s=0.5, legend=True, path=latent_path, dpi=dpi)"
   ]
  },
  {
   "cell_type": "markdown",
   "metadata": {},
   "source": [
    "## Resolution"
   ]
  },
  {
   "cell_type": "code",
   "execution_count": null,
   "metadata": {},
   "outputs": [],
   "source": [
    "respath = os.path.join(regionpath, 'res_selection/')\n",
    "if not os.path.exists(respath):\n",
    "    os.mkdir(respath)"
   ]
  },
  {
   "cell_type": "code",
   "execution_count": null,
   "metadata": {},
   "outputs": [],
   "source": [
    "num_nbrs = '_30nbrs'\n",
    "res = 0.1\n",
    "\n",
    "adata = sc.read_h5ad(f'/stanley/WangLab/kamal/data/integrated/spatial/atlas/nbr_titration/atlas_spin_concat_nocombat_subclustered_topregion{topregion}{num_nbrs}.h5ad')\n",
    "\n",
    "tissue_path = os.path.join(respath, f\"tissue_colored_by_region{num_nbrs}_res{str(res).replace('.', '')}.png\")\n",
    "latent_path = os.path.join(respath, f\"latent_colored_by_region{num_nbrs}_res{str(res).replace('.', '')}.png\")\n",
    "\n",
    "sc.tl.leiden(adata, resolution=res, key_added=subregion_key, neighbors_key=subregion_key)\n",
    "\n",
    "regions = adata.obs[subregion_key].value_counts().index # sorted by number of cells\n",
    "palette = sc.pl.palettes.default_102\n",
    "cmap = {regions[i]:palette[i] for i in range(len(regions))}\n",
    "\n",
    "spin.plot_tissue(adata, colors=adata.obs[subregion_key], cmap=cmap, xkey=xkey, ykey=ykey, s=0.5, figscale=20, path=tissue_path, dpi=dpi)\n",
    "spin.plot_latent(adata, adata.obsm['X_umap_spin_sub'][:,0], adata.obsm['X_umap_spin_sub'][:,1],\n",
    "                    colors=adata.obs[subregion_key], cmap=cmap, s=0.5, legend=True, path=latent_path, dpi=dpi)"
   ]
  },
  {
   "cell_type": "code",
   "execution_count": null,
   "metadata": {},
   "outputs": [],
   "source": [
    "adata.write(f'/stanley/WangLab/kamal/data/integrated/spatial/atlas/final/topregion{topregion}_subclustered.h5ad')"
   ]
  },
  {
   "cell_type": "markdown",
   "metadata": {},
   "source": [
    "## Plot individual subregions"
   ]
  },
  {
   "cell_type": "code",
   "execution_count": null,
   "metadata": {},
   "outputs": [],
   "source": [
    "subplotpath = os.path.join(regionpath, 'subregion_plots/')\n",
    "if not os.path.exists(subplotpath):\n",
    "    os.mkdir(subplotpath)"
   ]
  },
  {
   "cell_type": "code",
   "execution_count": null,
   "metadata": {},
   "outputs": [],
   "source": [
    "num_nbrs = '_30nbrs'\n",
    "adata = sc.read_h5ad(f'/stanley/WangLab/kamal/data/integrated/spatial/atlas/nbr_titration/atlas_spin_concat_nocombat_subclustered_topregion{topregion}{num_nbrs}.h5ad')\n",
    "\n",
    "subregions = adata.obs[subregion_key].value_counts().index # sorted by number of cells\n",
    "\n",
    "for i in range(len(subregions)):\n",
    "    subregion = subregions[i]\n",
    "    tissue_path = os.path.join(subplotpath, f'tissue_colored_by_subregion{subregion}.png')\n",
    "    latent_path = os.path.join(subplotpath, f'latent_colored_by_subregion{subregion}.png')\n",
    "    spin.plot_regions_tissue(adata, [subregion], subregion_key, xkey=xkey, ykey=ykey, s=0.5, figscale=20, path=tissue_path, dpi=dpi)\n",
    "    spin.plot_regions_latent(adata, 'X_umap_spin_sub', [subregion], subregion_key, s=0.5, legend=True, path=latent_path, dpi=dpi)"
   ]
  },
  {
   "cell_type": "markdown",
   "metadata": {},
   "source": [
    "## Gene markers"
   ]
  },
  {
   "cell_type": "code",
   "execution_count": null,
   "metadata": {},
   "outputs": [],
   "source": [
    "markerpath = os.path.join(regionpath, 'top_10_gene_markers_per_subcluster.csv')"
   ]
  },
  {
   "cell_type": "code",
   "execution_count": null,
   "metadata": {},
   "outputs": [],
   "source": [
    "sc.tl.rank_genes_groups(adata, groupby=subregion_key, use_raw=False)\n",
    "\n",
    "subregions = adata.obs[subregion_key].value_counts().index # sorted by number of cells\n",
    "num_markers = 10\n",
    "markers = np.zeros((len(subregions),num_markers), dtype=object)\n",
    "\n",
    "for i in range(len(subregions)):\n",
    "    top_markers = sc.get.rank_genes_groups_df(adata, group=[subregions[i]])['names'][:num_markers].values\n",
    "    markers[i] = top_markers\n",
    "\n",
    "marker_df = pd.DataFrame(data=markers, columns=[f'rank{i+1}' for i in range(num_markers)])\n",
    "marker_df.index.name = 'subregion'\n",
    "marker_df.to_csv(markerpath)"
   ]
  },
  {
   "cell_type": "markdown",
   "metadata": {},
   "source": [
    "## Filter thresh"
   ]
  },
  {
   "cell_type": "code",
   "execution_count": null,
   "metadata": {},
   "outputs": [],
   "source": [
    "threshpath = os.path.join(regionpath, 'thresh_selection/')\n",
    "if not os.path.exists(threshpath):\n",
    "    os.mkdir(threshpath)"
   ]
  },
  {
   "cell_type": "code",
   "execution_count": null,
   "metadata": {},
   "outputs": [],
   "source": [
    "print(f'Cluster size = {len(adata)}')\n",
    "print(adata.obs[subregion_key].value_counts())\n",
    "\n",
    "thresh = 1000\n",
    "counts = adata.obs[subregion_key].value_counts()\n",
    "good_regions = (counts > thresh)\n",
    "good_regions = good_regions.index[np.where(good_regions)]\n",
    "adata.obs['keep'] = np.isin(adata.obs[subregion_key], good_regions)\n",
    "\n",
    "tissue_path = os.path.join(threshpath, f'tissue_colored_by_removed_cells.png')\n",
    "latent_path = os.path.join(threshpath, f'latent_colored_by_removed_cells.png')\n",
    "spin.plot_regions_tissue(adata, [False], 'keep', xkey=xkey, ykey=ykey, s=0.5, figscale=20, path=tissue_path, dpi=dpi)\n",
    "spin.plot_regions_latent(adata, 'X_umap_spin_sub', [False], 'keep', s=0.5, legend=True, path=latent_path, dpi=dpi)\n",
    "\n",
    "adata = adata[np.isin(adata.obs[subregion_key], good_regions)]\n",
    "\n",
    "regions = adata.obs[subregion_key].value_counts().index # sorted by number of cells\n",
    "palette = sc.pl.palettes.default_102\n",
    "cmap = {regions[i]:palette[i] for i in range(len(regions))}\n",
    "\n",
    "tissue_path = os.path.join(threshpath, f'tissue_colored_by_regions_filtered.png')\n",
    "latent_path = os.path.join(threshpath, f'latent_colored_by_regions_filtered.png')\n",
    "spin.plot_tissue(adata, colors=adata.obs[subregion_key], cmap=cmap, xkey=xkey, ykey=ykey, s=0.5, figscale=20, path=tissue_path, dpi=dpi)\n",
    "spin.plot_latent(adata, adata.obsm['X_umap_spin_sub'][:,0], adata.obsm['X_umap_spin_sub'][:,1],\n",
    "                    colors=adata.obs[subregion_key], cmap=cmap, s=0.5, legend=True, path=latent_path, dpi=dpi)"
   ]
  },
  {
   "cell_type": "markdown",
   "metadata": {},
   "source": [
    "# 5: fiber tracts"
   ]
  },
  {
   "cell_type": "markdown",
   "metadata": {},
   "source": [
    "## Num nbrs"
   ]
  },
  {
   "cell_type": "code",
   "execution_count": null,
   "metadata": {},
   "outputs": [],
   "source": [
    "topregion = '5'\n",
    "regionpath = os.path.join(basepath, f'{topregion}/')\n",
    "if not os.path.exists(regionpath):\n",
    "    os.mkdir(regionpath)"
   ]
  },
  {
   "cell_type": "code",
   "execution_count": null,
   "metadata": {},
   "outputs": [],
   "source": [
    "num_nbrss = [f'_{i*10}nbrs' for i in range(2,7)]\n",
    "\n",
    "nbrpath = os.path.join(regionpath, 'nbr_selection/')\n",
    "if not os.path.exists(nbrpath):\n",
    "    os.mkdir(nbrpath)\n",
    "\n",
    "for num_nbrs in num_nbrss:\n",
    "\n",
    "    adata = sc.read_h5ad(f'/stanley/WangLab/kamal/data/integrated/spatial/atlas/nbr_titration/atlas_spin_concat_nocombat_subclustered_topregion{topregion}{num_nbrs}.h5ad')\n",
    "\n",
    "    tissue_path = os.path.join(nbrpath, f'tissue_colored_by_region{num_nbrs}.png')\n",
    "    latent_path = os.path.join(nbrpath, f'latent_colored_by_region{num_nbrs}.png')\n",
    "\n",
    "    regions = adata.obs[subregion_key].value_counts().index # sorted by number of cells\n",
    "    palette = sc.pl.palettes.default_102\n",
    "    cmap = {regions[i]:palette[i] for i in range(len(regions))}\n",
    "\n",
    "    spin.plot_tissue(adata, colors=adata.obs[subregion_key], cmap=cmap, xkey=xkey, ykey=ykey, s=0.5, figscale=20, path=tissue_path, dpi=dpi)\n",
    "\n",
    "    regions = adata.obs[subregion_key].value_counts().index # sorted by number of cells\n",
    "    palette = sc.pl.palettes.default_102\n",
    "    cmap = {regions[i]:palette[i] for i in range(len(regions))}\n",
    "\n",
    "    spin.plot_latent(adata, adata.obsm['X_umap_spin_sub'][:,0], adata.obsm['X_umap_spin_sub'][:,1],\n",
    "                     colors=adata.obs[subregion_key], cmap=cmap, s=0.5, legend=True, path=latent_path, dpi=dpi)"
   ]
  },
  {
   "cell_type": "markdown",
   "metadata": {},
   "source": [
    "## Resolution"
   ]
  },
  {
   "cell_type": "code",
   "execution_count": null,
   "metadata": {},
   "outputs": [],
   "source": [
    "respath = os.path.join(regionpath, 'res_selection/')\n",
    "if not os.path.exists(respath):\n",
    "    os.mkdir(respath)"
   ]
  },
  {
   "cell_type": "code",
   "execution_count": null,
   "metadata": {},
   "outputs": [],
   "source": [
    "num_nbrs = '_50nbrs'"
   ]
  },
  {
   "cell_type": "code",
   "execution_count": null,
   "metadata": {},
   "outputs": [],
   "source": [
    "res = 0.2\n",
    "\n",
    "adata = sc.read_h5ad(f'/stanley/WangLab/kamal/data/integrated/spatial/atlas/nbr_titration/atlas_spin_concat_nocombat_subclustered_topregion{topregion}{num_nbrs}.h5ad')\n",
    "\n",
    "tissue_path = os.path.join(respath, f\"tissue_colored_by_region{num_nbrs}_res{str(res).replace('.', '')}.png\")\n",
    "latent_path = os.path.join(respath, f\"latent_colored_by_region{num_nbrs}_res{str(res).replace('.', '')}.png\")\n",
    "\n",
    "sc.tl.leiden(adata, resolution=res, key_added=subregion_key, neighbors_key=subregion_key)\n",
    "\n",
    "regions = adata.obs[subregion_key].value_counts().index # sorted by number of cells\n",
    "palette = sc.pl.palettes.default_102\n",
    "cmap = {regions[i]:palette[i] for i in range(len(regions))}\n",
    "\n",
    "spin.plot_tissue(adata, colors=adata.obs[subregion_key], cmap=cmap, xkey=xkey, ykey=ykey, s=0.5, figscale=20, path=tissue_path, dpi=dpi)\n",
    "spin.plot_latent(adata, adata.obsm['X_umap_spin_sub'][:,0], adata.obsm['X_umap_spin_sub'][:,1],\n",
    "                    colors=adata.obs[subregion_key], cmap=cmap, s=0.5, legend=True, path=latent_path, dpi=dpi)"
   ]
  },
  {
   "cell_type": "code",
   "execution_count": null,
   "metadata": {},
   "outputs": [],
   "source": [
    "adata.write(f'/stanley/WangLab/kamal/data/integrated/spatial/atlas/final/topregion{topregion}_subclustered.h5ad')"
   ]
  },
  {
   "cell_type": "markdown",
   "metadata": {},
   "source": [
    "## Filter thresh"
   ]
  },
  {
   "cell_type": "code",
   "execution_count": null,
   "metadata": {},
   "outputs": [],
   "source": [
    "threshpath = os.path.join(regionpath, 'thresh_selection/')\n",
    "if not os.path.exists(threshpath):\n",
    "    os.mkdir(threshpath)"
   ]
  },
  {
   "cell_type": "code",
   "execution_count": null,
   "metadata": {},
   "outputs": [],
   "source": [
    "print(f'Cluster size = {len(adata)}')\n",
    "print(adata.obs[subregion_key].value_counts())\n",
    "\n",
    "thresh = 1000\n",
    "counts = adata.obs[subregion_key].value_counts()\n",
    "good_regions = (counts > thresh)\n",
    "good_regions = good_regions.index[np.where(good_regions)]\n",
    "adata.obs['keep'] = np.isin(adata.obs[subregion_key], good_regions)\n",
    "\n",
    "tissue_path = os.path.join(threshpath, f'tissue_colored_by_removed_cells.png')\n",
    "latent_path = os.path.join(threshpath, f'latent_colored_by_removed_cells.png')\n",
    "spin.plot_regions_tissue(adata, [False], 'keep', xkey=xkey, ykey=ykey, s=0.5, figscale=20, path=tissue_path, dpi=dpi)\n",
    "spin.plot_regions_latent(adata, 'X_umap_spin_sub', [False], 'keep', s=0.5, legend=True, path=latent_path, dpi=dpi)\n",
    "\n",
    "adata = adata[np.isin(adata.obs[subregion_key], good_regions)]\n",
    "\n",
    "regions = adata.obs[subregion_key].value_counts().index # sorted by number of cells\n",
    "palette = sc.pl.palettes.default_102\n",
    "cmap = {regions[i]:palette[i] for i in range(len(regions))}\n",
    "\n",
    "tissue_path = os.path.join(threshpath, f'tissue_colored_by_regions_filtered.png')\n",
    "latent_path = os.path.join(threshpath, f'latent_colored_by_regions_filtered.png')\n",
    "spin.plot_tissue(adata, colors=adata.obs[subregion_key], cmap=cmap, xkey=xkey, ykey=ykey, s=0.5, figscale=20, path=tissue_path, dpi=dpi)\n",
    "spin.plot_latent(adata, adata.obsm['X_umap_spin_sub'][:,0], adata.obsm['X_umap_spin_sub'][:,1],\n",
    "                    colors=adata.obs[subregion_key], cmap=cmap, s=0.5, legend=True, path=latent_path, dpi=dpi)"
   ]
  },
  {
   "cell_type": "markdown",
   "metadata": {},
   "source": [
    "## Plot individual subregions"
   ]
  },
  {
   "cell_type": "code",
   "execution_count": null,
   "metadata": {},
   "outputs": [],
   "source": [
    "subplotpath = os.path.join(regionpath, 'subregion_plots/')\n",
    "if not os.path.exists(subplotpath):\n",
    "    os.mkdir(subplotpath)"
   ]
  },
  {
   "cell_type": "code",
   "execution_count": null,
   "metadata": {},
   "outputs": [],
   "source": [
    "subregions = adata.obs[subregion_key].value_counts().index # sorted by number of cells\n",
    "\n",
    "for i in range(len(subregions)):\n",
    "    subregion = subregions[i]\n",
    "    tissue_path = os.path.join(subplotpath, f'tissue_colored_by_subregion{subregion}.png')\n",
    "    latent_path = os.path.join(subplotpath, f'latent_colored_by_subregion{subregion}.png')\n",
    "    spin.plot_regions_tissue(adata, [subregion], subregion_key, xkey=xkey, ykey=ykey, s=0.5, figscale=20, path=tissue_path, dpi=dpi)\n",
    "    spin.plot_regions_latent(adata, 'X_umap_spin_sub', [subregion], subregion_key, s=0.5, legend=True, path=latent_path, dpi=dpi)"
   ]
  },
  {
   "cell_type": "markdown",
   "metadata": {},
   "source": [
    "## Gene markers"
   ]
  },
  {
   "cell_type": "code",
   "execution_count": null,
   "metadata": {},
   "outputs": [],
   "source": [
    "markerpath = os.path.join(regionpath, 'top_10_gene_markers_per_subcluster.csv')"
   ]
  },
  {
   "cell_type": "code",
   "execution_count": null,
   "metadata": {},
   "outputs": [],
   "source": [
    "sc.tl.rank_genes_groups(adata, groupby=subregion_key, use_raw=False)\n",
    "\n",
    "subregions = adata.obs[subregion_key].value_counts().index # sorted by number of cells\n",
    "num_markers = 10\n",
    "markers = np.zeros((len(subregions),num_markers), dtype=object)\n",
    "\n",
    "for i in range(len(subregions)):\n",
    "    top_markers = sc.get.rank_genes_groups_df(adata, group=[subregions[i]])['names'][:num_markers].values\n",
    "    markers[i] = top_markers\n",
    "\n",
    "marker_df = pd.DataFrame(data=markers, columns=[f'rank{i+1}' for i in range(num_markers)])\n",
    "marker_df.index.name = 'subregion'\n",
    "marker_df.to_csv(markerpath)"
   ]
  },
  {
   "cell_type": "code",
   "execution_count": null,
   "metadata": {},
   "outputs": [],
   "source": [
    "gene = 'NTSR1'\n",
    "spin.plot_tissue(adata, colors=adata[:,gene].X.flatten(), cmap='viridis', xkey=xkey, ykey=ykey, s=0.5, figscale=20)"
   ]
  },
  {
   "cell_type": "code",
   "execution_count": null,
   "metadata": {},
   "outputs": [],
   "source": [
    "gene = 'GKN3'\n",
    "spin.plot_tissue(adata, colors=adata[:,gene].X.flatten(), cmap='viridis', xkey=xkey, ykey=ykey, s=0.5, figscale=20)"
   ]
  },
  {
   "cell_type": "code",
   "execution_count": null,
   "metadata": {},
   "outputs": [],
   "source": [
    "gene = 'HRH2'\n",
    "spin.plot_tissue(adata, colors=adata[:,gene].X.flatten(), cmap='viridis', xkey=xkey, ykey=ykey, s=0.5, figscale=20)"
   ]
  },
  {
   "cell_type": "markdown",
   "metadata": {},
   "source": [
    "# 6: meninges"
   ]
  },
  {
   "cell_type": "markdown",
   "metadata": {},
   "source": [
    "## Num nbrs"
   ]
  },
  {
   "cell_type": "code",
   "execution_count": null,
   "metadata": {},
   "outputs": [],
   "source": [
    "topregion = '6'\n",
    "regionpath = os.path.join(basepath, f'{topregion}/')\n",
    "if not os.path.exists(regionpath):\n",
    "    os.mkdir(regionpath)"
   ]
  },
  {
   "cell_type": "code",
   "execution_count": null,
   "metadata": {},
   "outputs": [],
   "source": [
    "num_nbrss = [f'_{i*10}nbrs' for i in range(2,7)]\n",
    "\n",
    "nbrpath = os.path.join(regionpath, 'nbr_selection/')\n",
    "if not os.path.exists(nbrpath):\n",
    "    os.mkdir(nbrpath)\n",
    "\n",
    "for num_nbrs in num_nbrss:\n",
    "\n",
    "    adata = sc.read_h5ad(f'/stanley/WangLab/kamal/data/integrated/spatial/atlas/nbr_titration/atlas_spin_concat_nocombat_subclustered_topregion{topregion}{num_nbrs}.h5ad')\n",
    "\n",
    "    tissue_path = os.path.join(nbrpath, f'tissue_colored_by_region{num_nbrs}.png')\n",
    "    latent_path = os.path.join(nbrpath, f'latent_colored_by_region{num_nbrs}.png')\n",
    "\n",
    "    regions = adata.obs[subregion_key].value_counts().index # sorted by number of cells\n",
    "    palette = sc.pl.palettes.default_102*2\n",
    "    cmap = {regions[i]:palette[i] for i in range(len(regions))}\n",
    "\n",
    "    spin.plot_tissue(adata, colors=adata.obs[subregion_key], cmap=cmap, xkey=xkey, ykey=ykey, s=0.5, figscale=20, path=tissue_path, dpi=dpi)\n",
    "\n",
    "    regions = adata.obs[subregion_key].value_counts().index # sorted by number of cells\n",
    "    palette = sc.pl.palettes.default_102*2\n",
    "    cmap = {regions[i]:palette[i] for i in range(len(regions))}\n",
    "\n",
    "    spin.plot_latent(adata, adata.obsm['X_umap_spin_sub'][:,0], adata.obsm['X_umap_spin_sub'][:,1],\n",
    "                     colors=adata.obs[subregion_key], cmap=cmap, s=0.5, legend=True, path=latent_path, dpi=dpi)"
   ]
  },
  {
   "cell_type": "markdown",
   "metadata": {},
   "source": [
    "## Resolution"
   ]
  },
  {
   "cell_type": "code",
   "execution_count": null,
   "metadata": {},
   "outputs": [],
   "source": [
    "respath = os.path.join(regionpath, 'res_selection/')\n",
    "if not os.path.exists(respath):\n",
    "    os.mkdir(respath)"
   ]
  },
  {
   "cell_type": "code",
   "execution_count": null,
   "metadata": {},
   "outputs": [],
   "source": [
    "num_nbrs = '_30nbrs'"
   ]
  },
  {
   "cell_type": "code",
   "execution_count": null,
   "metadata": {},
   "outputs": [],
   "source": [
    "res = 0.2\n",
    "\n",
    "adata = sc.read_h5ad(f'/stanley/WangLab/kamal/data/integrated/spatial/atlas/nbr_titration/atlas_spin_concat_nocombat_subclustered_topregion{topregion}{num_nbrs}.h5ad')\n",
    "\n",
    "tissue_path = os.path.join(respath, f\"tissue_colored_by_region{num_nbrs}_res{str(res).replace('.', '')}.png\")\n",
    "latent_path = os.path.join(respath, f\"latent_colored_by_region{num_nbrs}_res{str(res).replace('.', '')}.png\")\n",
    "\n",
    "sc.tl.leiden(adata, resolution=res, key_added=subregion_key, neighbors_key=subregion_key)\n",
    "\n",
    "regions = adata.obs[subregion_key].value_counts().index # sorted by number of cells\n",
    "palette = sc.pl.palettes.default_102\n",
    "cmap = {regions[i]:palette[i] for i in range(len(regions))}\n",
    "\n",
    "spin.plot_tissue(adata, colors=adata.obs[subregion_key], cmap=cmap, xkey=xkey, ykey=ykey, s=0.5, figscale=20, path=tissue_path, dpi=dpi)\n",
    "spin.plot_latent(adata, adata.obsm['X_umap_spin_sub'][:,0], adata.obsm['X_umap_spin_sub'][:,1],\n",
    "                    colors=adata.obs[subregion_key], cmap=cmap, s=0.5, legend=True, path=latent_path, dpi=dpi)"
   ]
  },
  {
   "cell_type": "code",
   "execution_count": null,
   "metadata": {},
   "outputs": [],
   "source": [
    "adata.write(f'/stanley/WangLab/kamal/data/integrated/spatial/atlas/final/topregion{topregion}_subclustered.h5ad')"
   ]
  },
  {
   "cell_type": "markdown",
   "metadata": {},
   "source": [
    "## Filter thresh"
   ]
  },
  {
   "cell_type": "code",
   "execution_count": null,
   "metadata": {},
   "outputs": [],
   "source": [
    "threshpath = os.path.join(regionpath, 'thresh_selection/')\n",
    "if not os.path.exists(threshpath):\n",
    "    os.mkdir(threshpath)"
   ]
  },
  {
   "cell_type": "code",
   "execution_count": null,
   "metadata": {},
   "outputs": [],
   "source": [
    "print(f'Cluster size = {len(adata)}')\n",
    "print(adata.obs[subregion_key].value_counts())\n",
    "\n",
    "thresh = 1000\n",
    "counts = adata.obs[subregion_key].value_counts()\n",
    "good_regions = (counts > thresh)\n",
    "good_regions = good_regions.index[np.where(good_regions)]\n",
    "adata.obs['keep'] = np.isin(adata.obs[subregion_key], good_regions)\n",
    "\n",
    "tissue_path = os.path.join(threshpath, f'tissue_colored_by_removed_cells.png')\n",
    "latent_path = os.path.join(threshpath, f'latent_colored_by_removed_cells.png')\n",
    "spin.plot_regions_tissue(adata, [False], 'keep', xkey=xkey, ykey=ykey, s=0.5, figscale=20, path=tissue_path, dpi=dpi)\n",
    "spin.plot_regions_latent(adata, 'X_umap_spin_sub', [False], 'keep', s=0.5, legend=True, path=latent_path, dpi=dpi)\n",
    "\n",
    "adata = adata[np.isin(adata.obs[subregion_key], good_regions)]\n",
    "\n",
    "regions = adata.obs[subregion_key].value_counts().index # sorted by number of cells\n",
    "palette = sc.pl.palettes.default_102\n",
    "cmap = {regions[i]:palette[i] for i in range(len(regions))}\n",
    "\n",
    "tissue_path = os.path.join(threshpath, f'tissue_colored_by_regions_filtered.png')\n",
    "latent_path = os.path.join(threshpath, f'latent_colored_by_regions_filtered.png')\n",
    "spin.plot_tissue(adata, colors=adata.obs[subregion_key], cmap=cmap, xkey=xkey, ykey=ykey, s=0.5, figscale=20, path=tissue_path, dpi=dpi)\n",
    "spin.plot_latent(adata, adata.obsm['X_umap_spin_sub'][:,0], adata.obsm['X_umap_spin_sub'][:,1],\n",
    "                    colors=adata.obs[subregion_key], cmap=cmap, s=0.5, legend=True, path=latent_path, dpi=dpi)"
   ]
  },
  {
   "cell_type": "markdown",
   "metadata": {},
   "source": [
    "## Plot individual subregions"
   ]
  },
  {
   "cell_type": "code",
   "execution_count": null,
   "metadata": {},
   "outputs": [],
   "source": [
    "subplotpath = os.path.join(regionpath, 'subregion_plots/')\n",
    "if not os.path.exists(subplotpath):\n",
    "    os.mkdir(subplotpath)"
   ]
  },
  {
   "cell_type": "code",
   "execution_count": null,
   "metadata": {},
   "outputs": [],
   "source": [
    "subregions = adata.obs[subregion_key].value_counts().index # sorted by number of cells\n",
    "\n",
    "for i in range(len(subregions)):\n",
    "    subregion = subregions[i]\n",
    "    tissue_path = os.path.join(subplotpath, f'tissue_colored_by_subregion{subregion}.png')\n",
    "    latent_path = os.path.join(subplotpath, f'latent_colored_by_subregion{subregion}.png')\n",
    "    spin.plot_regions_tissue(adata, [subregion], subregion_key, xkey=xkey, ykey=ykey, s=0.5, figscale=20, path=tissue_path, dpi=dpi)\n",
    "    spin.plot_regions_latent(adata, 'X_umap_spin_sub', [subregion], subregion_key, s=0.5, legend=True, path=latent_path, dpi=dpi)"
   ]
  },
  {
   "cell_type": "markdown",
   "metadata": {},
   "source": [
    "## Gene markers"
   ]
  },
  {
   "cell_type": "code",
   "execution_count": null,
   "metadata": {},
   "outputs": [],
   "source": [
    "markerpath = os.path.join(regionpath, 'top_10_gene_markers_per_subcluster.csv')"
   ]
  },
  {
   "cell_type": "code",
   "execution_count": null,
   "metadata": {},
   "outputs": [],
   "source": [
    "sc.tl.rank_genes_groups(adata, groupby=subregion_key, use_raw=False)\n",
    "\n",
    "subregions = adata.obs[subregion_key].value_counts().index # sorted by number of cells\n",
    "num_markers = 10\n",
    "markers = np.zeros((len(subregions),num_markers), dtype=object)\n",
    "\n",
    "for i in range(len(subregions)):\n",
    "    top_markers = sc.get.rank_genes_groups_df(adata, group=[subregions[i]])['names'][:num_markers].values\n",
    "    markers[i] = top_markers\n",
    "\n",
    "marker_df = pd.DataFrame(data=markers, columns=[f'rank{i+1}' for i in range(num_markers)])\n",
    "marker_df.index.name = 'subregion'\n",
    "marker_df.to_csv(markerpath)"
   ]
  },
  {
   "cell_type": "code",
   "execution_count": null,
   "metadata": {},
   "outputs": [],
   "source": [
    "gene = 'CST3'\n",
    "spin.plot_tissue(adata, colors=adata[:,gene].X.flatten(), cmap='viridis', xkey=xkey, ykey=ykey, s=0.5, figscale=20)"
   ]
  },
  {
   "cell_type": "markdown",
   "metadata": {},
   "source": [
    "# 7: Cortex 2"
   ]
  },
  {
   "cell_type": "markdown",
   "metadata": {},
   "source": [
    "## Num nbrs"
   ]
  },
  {
   "cell_type": "code",
   "execution_count": null,
   "metadata": {},
   "outputs": [],
   "source": [
    "topregion = '7'\n",
    "regionpath = os.path.join(basepath, f'{topregion}/')\n",
    "if not os.path.exists(regionpath):\n",
    "    os.mkdir(regionpath)"
   ]
  },
  {
   "cell_type": "code",
   "execution_count": null,
   "metadata": {},
   "outputs": [],
   "source": [
    "num_nbrss = [f'_{i*10}nbrs' for i in range(2,7)]\n",
    "\n",
    "nbrpath = os.path.join(regionpath, 'nbr_selection/')\n",
    "if not os.path.exists(nbrpath):\n",
    "    os.mkdir(nbrpath)\n",
    "\n",
    "for num_nbrs in num_nbrss:\n",
    "\n",
    "    adata = sc.read_h5ad(f'/stanley/WangLab/kamal/data/integrated/spatial/atlas/nbr_titration/atlas_spin_concat_nocombat_subclustered_topregion{topregion}{num_nbrs}.h5ad')\n",
    "\n",
    "    tissue_path = os.path.join(nbrpath, f'tissue_colored_by_region{num_nbrs}.png')\n",
    "    latent_path = os.path.join(nbrpath, f'latent_colored_by_region{num_nbrs}.png')\n",
    "\n",
    "    regions = adata.obs[subregion_key].value_counts().index # sorted by number of cells\n",
    "    palette = sc.pl.palettes.default_102*2\n",
    "    cmap = {regions[i]:palette[i] for i in range(len(regions))}\n",
    "\n",
    "    spin.plot_tissue(adata, colors=adata.obs[subregion_key], cmap=cmap, xkey=xkey, ykey=ykey, s=0.5, figscale=20, path=tissue_path, dpi=dpi)\n",
    "\n",
    "    regions = adata.obs[subregion_key].value_counts().index # sorted by number of cells\n",
    "    palette = sc.pl.palettes.default_102*2\n",
    "    cmap = {regions[i]:palette[i] for i in range(len(regions))}\n",
    "\n",
    "    spin.plot_latent(adata, adata.obsm['X_umap_spin_sub'][:,0], adata.obsm['X_umap_spin_sub'][:,1],\n",
    "                     colors=adata.obs[subregion_key], cmap=cmap, s=0.5, legend=True, path=latent_path, dpi=dpi)"
   ]
  },
  {
   "cell_type": "markdown",
   "metadata": {},
   "source": [
    "## Resolution"
   ]
  },
  {
   "cell_type": "code",
   "execution_count": null,
   "metadata": {},
   "outputs": [],
   "source": [
    "respath = os.path.join(regionpath, 'res_selection/')\n",
    "if not os.path.exists(respath):\n",
    "    os.mkdir(respath)"
   ]
  },
  {
   "cell_type": "code",
   "execution_count": null,
   "metadata": {},
   "outputs": [],
   "source": [
    "num_nbrs = '_30nbrs'"
   ]
  },
  {
   "cell_type": "code",
   "execution_count": null,
   "metadata": {},
   "outputs": [],
   "source": [
    "res = 0.6\n",
    "\n",
    "adata = sc.read_h5ad(f'/stanley/WangLab/kamal/data/integrated/spatial/atlas/nbr_titration/atlas_spin_concat_nocombat_subclustered_topregion{topregion}{num_nbrs}.h5ad')\n",
    "\n",
    "tissue_path = os.path.join(respath, f\"tissue_colored_by_region{num_nbrs}_res{str(res).replace('.', '')}.png\")\n",
    "latent_path = os.path.join(respath, f\"latent_colored_by_region{num_nbrs}_res{str(res).replace('.', '')}.png\")\n",
    "\n",
    "sc.tl.leiden(adata, resolution=res, key_added=subregion_key, neighbors_key=subregion_key)\n",
    "\n",
    "regions = adata.obs[subregion_key].value_counts().index # sorted by number of cells\n",
    "palette = sc.pl.palettes.default_102\n",
    "cmap = {regions[i]:palette[i] for i in range(len(regions))}\n",
    "\n",
    "spin.plot_tissue(adata, colors=adata.obs[subregion_key], cmap=cmap, xkey=xkey, ykey=ykey, s=0.5, figscale=20, path=tissue_path, dpi=dpi)\n",
    "spin.plot_latent(adata, adata.obsm['X_umap_spin_sub'][:,0], adata.obsm['X_umap_spin_sub'][:,1],\n",
    "                    colors=adata.obs[subregion_key], cmap=cmap, s=0.5, legend=True, path=latent_path, dpi=dpi)"
   ]
  },
  {
   "cell_type": "code",
   "execution_count": null,
   "metadata": {},
   "outputs": [],
   "source": [
    "adata.write(f'/stanley/WangLab/kamal/data/integrated/spatial/atlas/final/topregion{topregion}_subclustered.h5ad')"
   ]
  },
  {
   "cell_type": "markdown",
   "metadata": {},
   "source": [
    "## Gene markers"
   ]
  },
  {
   "cell_type": "code",
   "execution_count": null,
   "metadata": {},
   "outputs": [],
   "source": [
    "markerpath = os.path.join(regionpath, 'top_10_gene_markers_per_subcluster.csv')"
   ]
  },
  {
   "cell_type": "code",
   "execution_count": null,
   "metadata": {},
   "outputs": [],
   "source": [
    "sc.tl.rank_genes_groups(adata, groupby=subregion_key, use_raw=False)\n",
    "\n",
    "subregions = adata.obs[subregion_key].value_counts().index # sorted by number of cells\n",
    "num_markers = 10\n",
    "markers = np.zeros((len(subregions),num_markers), dtype=object)\n",
    "\n",
    "for i in range(len(subregions)):\n",
    "    top_markers = sc.get.rank_genes_groups_df(adata, group=[subregions[i]])['names'][:num_markers].values\n",
    "    markers[i] = top_markers\n",
    "\n",
    "marker_df = pd.DataFrame(data=markers, columns=[f'rank{i+1}' for i in range(num_markers)])\n",
    "marker_df.index.name = 'subregion'\n",
    "marker_df.to_csv(markerpath)"
   ]
  },
  {
   "cell_type": "code",
   "execution_count": null,
   "metadata": {},
   "outputs": [],
   "source": [
    "gene = 'ALCAM'\n",
    "spin.plot_tissue(adata, colors=adata[:,gene].X.flatten(), cmap='viridis', xkey=xkey, ykey=ykey, s=0.5, figscale=20)"
   ]
  },
  {
   "cell_type": "markdown",
   "metadata": {},
   "source": [
    "## Filter thresh"
   ]
  },
  {
   "cell_type": "code",
   "execution_count": null,
   "metadata": {},
   "outputs": [],
   "source": [
    "threshpath = os.path.join(regionpath, 'thresh_selection/')\n",
    "if not os.path.exists(threshpath):\n",
    "    os.mkdir(threshpath)"
   ]
  },
  {
   "cell_type": "code",
   "execution_count": null,
   "metadata": {},
   "outputs": [],
   "source": [
    "print(f'Cluster size = {len(adata)}')\n",
    "print(adata.obs[subregion_key].value_counts())\n",
    "\n",
    "thresh = 1000\n",
    "counts = adata.obs[subregion_key].value_counts()\n",
    "good_regions = (counts > thresh)\n",
    "good_regions = good_regions.index[np.where(good_regions)]\n",
    "adata.obs['keep'] = np.isin(adata.obs[subregion_key], good_regions)\n",
    "\n",
    "tissue_path = os.path.join(threshpath, f'tissue_colored_by_removed_cells.png')\n",
    "latent_path = os.path.join(threshpath, f'latent_colored_by_removed_cells.png')\n",
    "spin.plot_regions_tissue(adata, [False], 'keep', xkey=xkey, ykey=ykey, s=0.5, figscale=20, path=tissue_path, dpi=dpi)\n",
    "spin.plot_regions_latent(adata, 'X_umap_spin_sub', [False], 'keep', s=0.5, legend=True, path=latent_path, dpi=dpi)\n",
    "\n",
    "adata = adata[np.isin(adata.obs[subregion_key], good_regions)]\n",
    "\n",
    "regions = adata.obs[subregion_key].value_counts().index # sorted by number of cells\n",
    "palette = sc.pl.palettes.default_102\n",
    "cmap = {regions[i]:palette[i] for i in range(len(regions))}\n",
    "\n",
    "tissue_path = os.path.join(threshpath, f'tissue_colored_by_regions_filtered.png')\n",
    "latent_path = os.path.join(threshpath, f'latent_colored_by_regions_filtered.png')\n",
    "spin.plot_tissue(adata, colors=adata.obs[subregion_key], cmap=cmap, xkey=xkey, ykey=ykey, s=0.5, figscale=20, path=tissue_path, dpi=dpi)\n",
    "spin.plot_latent(adata, adata.obsm['X_umap_spin_sub'][:,0], adata.obsm['X_umap_spin_sub'][:,1],\n",
    "                    colors=adata.obs[subregion_key], cmap=cmap, s=0.5, legend=True, path=latent_path, dpi=dpi)"
   ]
  },
  {
   "cell_type": "markdown",
   "metadata": {},
   "source": [
    "## Plot individual subregions"
   ]
  },
  {
   "cell_type": "code",
   "execution_count": null,
   "metadata": {},
   "outputs": [],
   "source": [
    "subplotpath = os.path.join(regionpath, 'subregion_plots/')\n",
    "if not os.path.exists(subplotpath):\n",
    "    os.mkdir(subplotpath)"
   ]
  },
  {
   "cell_type": "code",
   "execution_count": null,
   "metadata": {},
   "outputs": [],
   "source": [
    "subregions = adata.obs[subregion_key].value_counts().index # sorted by number of cells\n",
    "\n",
    "for i in range(len(subregions)):\n",
    "    subregion = subregions[i]\n",
    "    tissue_path = os.path.join(subplotpath, f'tissue_colored_by_subregion{subregion}.png')\n",
    "    latent_path = os.path.join(subplotpath, f'latent_colored_by_subregion{subregion}.png')\n",
    "    spin.plot_regions_tissue(adata, [subregion], subregion_key, xkey=xkey, ykey=ykey, s=0.5, figscale=20, path=tissue_path, dpi=dpi)\n",
    "    spin.plot_regions_latent(adata, 'X_umap_spin_sub', [subregion], subregion_key, s=0.5, legend=True, path=latent_path, dpi=dpi)"
   ]
  },
  {
   "cell_type": "markdown",
   "metadata": {},
   "source": [
    "# 8: Ob 2"
   ]
  },
  {
   "cell_type": "markdown",
   "metadata": {},
   "source": [
    "## Num nbrs"
   ]
  },
  {
   "cell_type": "code",
   "execution_count": null,
   "metadata": {},
   "outputs": [],
   "source": [
    "topregion = '8'\n",
    "regionpath = os.path.join(basepath, f'{topregion}/')\n",
    "if not os.path.exists(regionpath):\n",
    "    os.mkdir(regionpath)"
   ]
  },
  {
   "cell_type": "code",
   "execution_count": null,
   "metadata": {},
   "outputs": [],
   "source": [
    "num_nbrss = [f'_{i*10}nbrs' for i in range(2,7)]\n",
    "\n",
    "nbrpath = os.path.join(regionpath, 'nbr_selection/')\n",
    "if not os.path.exists(nbrpath):\n",
    "    os.mkdir(nbrpath)\n",
    "\n",
    "for num_nbrs in num_nbrss:\n",
    "\n",
    "    adata = sc.read_h5ad(f'/stanley/WangLab/kamal/data/integrated/spatial/atlas/nbr_titration/atlas_spin_concat_nocombat_subclustered_topregion{topregion}{num_nbrs}.h5ad')\n",
    "\n",
    "    tissue_path = os.path.join(nbrpath, f'tissue_colored_by_region{num_nbrs}.png')\n",
    "    latent_path = os.path.join(nbrpath, f'latent_colored_by_region{num_nbrs}.png')\n",
    "\n",
    "    regions = adata.obs[subregion_key].value_counts().index # sorted by number of cells\n",
    "    palette = sc.pl.palettes.default_102*2\n",
    "    cmap = {regions[i]:palette[i] for i in range(len(regions))}\n",
    "\n",
    "    spin.plot_tissue(adata, colors=adata.obs[subregion_key], cmap=cmap, xkey=xkey, ykey=ykey, s=0.5, figscale=20, path=tissue_path, dpi=dpi)\n",
    "\n",
    "    regions = adata.obs[subregion_key].value_counts().index # sorted by number of cells\n",
    "    palette = sc.pl.palettes.default_102*2\n",
    "    cmap = {regions[i]:palette[i] for i in range(len(regions))}\n",
    "\n",
    "    spin.plot_latent(adata, adata.obsm['X_umap_spin_sub'][:,0], adata.obsm['X_umap_spin_sub'][:,1],\n",
    "                     colors=adata.obs[subregion_key], cmap=cmap, s=0.5, legend=True, path=latent_path, dpi=dpi)"
   ]
  },
  {
   "cell_type": "markdown",
   "metadata": {},
   "source": [
    "## Resolution"
   ]
  },
  {
   "cell_type": "code",
   "execution_count": null,
   "metadata": {},
   "outputs": [],
   "source": [
    "respath = os.path.join(regionpath, 'res_selection/')\n",
    "if not os.path.exists(respath):\n",
    "    os.mkdir(respath)"
   ]
  },
  {
   "cell_type": "code",
   "execution_count": null,
   "metadata": {},
   "outputs": [],
   "source": [
    "num_nbrs = '_20nbrs'"
   ]
  },
  {
   "cell_type": "code",
   "execution_count": null,
   "metadata": {},
   "outputs": [],
   "source": [
    "res = 0.2\n",
    "\n",
    "adata = sc.read_h5ad(f'/stanley/WangLab/kamal/data/integrated/spatial/atlas/nbr_titration/atlas_spin_concat_nocombat_subclustered_topregion{topregion}{num_nbrs}.h5ad')\n",
    "\n",
    "tissue_path = os.path.join(respath, f\"tissue_colored_by_region{num_nbrs}_res{str(res).replace('.', '')}.png\")\n",
    "latent_path = os.path.join(respath, f\"latent_colored_by_region{num_nbrs}_res{str(res).replace('.', '')}.png\")\n",
    "\n",
    "sc.tl.leiden(adata, resolution=res, key_added=subregion_key, neighbors_key=subregion_key)\n",
    "\n",
    "regions = adata.obs[subregion_key].value_counts().index # sorted by number of cells\n",
    "palette = sc.pl.palettes.default_102\n",
    "cmap = {regions[i]:palette[i] for i in range(len(regions))}\n",
    "\n",
    "spin.plot_tissue(adata, colors=adata.obs[subregion_key], cmap=cmap, xkey=xkey, ykey=ykey, s=0.5, figscale=20, path=tissue_path, dpi=dpi)\n",
    "spin.plot_latent(adata, adata.obsm['X_umap_spin_sub'][:,0], adata.obsm['X_umap_spin_sub'][:,1],\n",
    "                    colors=adata.obs[subregion_key], cmap=cmap, s=0.5, legend=True, path=latent_path, dpi=dpi)"
   ]
  },
  {
   "cell_type": "code",
   "execution_count": null,
   "metadata": {},
   "outputs": [],
   "source": [
    "adata.write(f'/stanley/WangLab/kamal/data/integrated/spatial/atlas/final/topregion{topregion}_subclustered.h5ad')"
   ]
  },
  {
   "cell_type": "markdown",
   "metadata": {},
   "source": [
    "## Gene markers"
   ]
  },
  {
   "cell_type": "code",
   "execution_count": null,
   "metadata": {},
   "outputs": [],
   "source": [
    "markerpath = os.path.join(regionpath, 'top_10_gene_markers_per_subcluster.csv')"
   ]
  },
  {
   "cell_type": "code",
   "execution_count": null,
   "metadata": {},
   "outputs": [],
   "source": [
    "sc.tl.rank_genes_groups(adata, groupby=subregion_key, use_raw=False)\n",
    "\n",
    "subregions = adata.obs[subregion_key].value_counts().index # sorted by number of cells\n",
    "num_markers = 10\n",
    "markers = np.zeros((len(subregions),num_markers), dtype=object)\n",
    "\n",
    "for i in range(len(subregions)):\n",
    "    top_markers = sc.get.rank_genes_groups_df(adata, group=[subregions[i]])['names'][:num_markers].values\n",
    "    markers[i] = top_markers\n",
    "\n",
    "marker_df = pd.DataFrame(data=markers, columns=[f'rank{i+1}' for i in range(num_markers)])\n",
    "marker_df.index.name = 'subregion'\n",
    "marker_df.to_csv(markerpath)"
   ]
  },
  {
   "cell_type": "code",
   "execution_count": null,
   "metadata": {},
   "outputs": [],
   "source": [
    "gene = 'KCTD12'\n",
    "spin.plot_tissue(adata, colors=adata[:,gene].X.flatten(), cmap='viridis', xkey=xkey, ykey=ykey, s=0.5, figscale=20)"
   ]
  },
  {
   "cell_type": "code",
   "execution_count": null,
   "metadata": {},
   "outputs": [],
   "source": [
    "gene = 'VTN'\n",
    "spin.plot_tissue(adata, colors=adata[:,gene].X.flatten(), cmap='viridis', xkey=xkey, ykey=ykey, s=0.5, figscale=20)"
   ]
  },
  {
   "cell_type": "markdown",
   "metadata": {},
   "source": [
    "## Filter thresh"
   ]
  },
  {
   "cell_type": "code",
   "execution_count": null,
   "metadata": {},
   "outputs": [],
   "source": [
    "threshpath = os.path.join(regionpath, 'thresh_selection/')\n",
    "if not os.path.exists(threshpath):\n",
    "    os.mkdir(threshpath)"
   ]
  },
  {
   "cell_type": "code",
   "execution_count": null,
   "metadata": {},
   "outputs": [],
   "source": [
    "print(f'Cluster size = {len(adata)}')\n",
    "print(adata.obs[subregion_key].value_counts())\n",
    "\n",
    "thresh = 1000\n",
    "counts = adata.obs[subregion_key].value_counts()\n",
    "good_regions = (counts > thresh)\n",
    "good_regions = good_regions.index[np.where(good_regions)]\n",
    "adata.obs['keep'] = np.isin(adata.obs[subregion_key], good_regions)\n",
    "\n",
    "tissue_path = os.path.join(threshpath, f'tissue_colored_by_removed_cells.png')\n",
    "latent_path = os.path.join(threshpath, f'latent_colored_by_removed_cells.png')\n",
    "spin.plot_regions_tissue(adata, [False], 'keep', xkey=xkey, ykey=ykey, s=0.5, figscale=20, path=tissue_path, dpi=dpi)\n",
    "spin.plot_regions_latent(adata, 'X_umap_spin_sub', [False], 'keep', s=0.5, legend=True, path=latent_path, dpi=dpi)\n",
    "\n",
    "adata = adata[np.isin(adata.obs[subregion_key], good_regions)]\n",
    "\n",
    "regions = adata.obs[subregion_key].value_counts().index # sorted by number of cells\n",
    "palette = sc.pl.palettes.default_102\n",
    "cmap = {regions[i]:palette[i] for i in range(len(regions))}\n",
    "\n",
    "tissue_path = os.path.join(threshpath, f'tissue_colored_by_regions_filtered.png')\n",
    "latent_path = os.path.join(threshpath, f'latent_colored_by_regions_filtered.png')\n",
    "spin.plot_tissue(adata, colors=adata.obs[subregion_key], cmap=cmap, xkey=xkey, ykey=ykey, s=0.5, figscale=20, path=tissue_path, dpi=dpi)\n",
    "spin.plot_latent(adata, adata.obsm['X_umap_spin_sub'][:,0], adata.obsm['X_umap_spin_sub'][:,1],\n",
    "                    colors=adata.obs[subregion_key], cmap=cmap, s=0.5, legend=True, path=latent_path, dpi=dpi)"
   ]
  },
  {
   "cell_type": "markdown",
   "metadata": {},
   "source": [
    "## Plot individual subregions"
   ]
  },
  {
   "cell_type": "code",
   "execution_count": null,
   "metadata": {},
   "outputs": [],
   "source": [
    "subplotpath = os.path.join(regionpath, 'subregion_plots/')\n",
    "if not os.path.exists(subplotpath):\n",
    "    os.mkdir(subplotpath)"
   ]
  },
  {
   "cell_type": "code",
   "execution_count": null,
   "metadata": {},
   "outputs": [],
   "source": [
    "subregions = adata.obs[subregion_key].value_counts().index # sorted by number of cells\n",
    "\n",
    "for i in range(len(subregions)):\n",
    "    subregion = subregions[i]\n",
    "    tissue_path = os.path.join(subplotpath, f'tissue_colored_by_subregion{subregion}.png')\n",
    "    latent_path = os.path.join(subplotpath, f'latent_colored_by_subregion{subregion}.png')\n",
    "    spin.plot_regions_tissue(adata, [subregion], subregion_key, xkey=xkey, ykey=ykey, s=0.5, figscale=20, path=tissue_path, dpi=dpi)\n",
    "    spin.plot_regions_latent(adata, 'X_umap_spin_sub', [subregion], subregion_key, s=0.5, legend=True, path=latent_path, dpi=dpi)"
   ]
  },
  {
   "cell_type": "markdown",
   "metadata": {},
   "source": [
    "# 9: Thalamus"
   ]
  },
  {
   "cell_type": "markdown",
   "metadata": {},
   "source": [
    "## Num nbrs"
   ]
  },
  {
   "cell_type": "code",
   "execution_count": null,
   "metadata": {},
   "outputs": [],
   "source": [
    "topregion = '9'\n",
    "regionpath = os.path.join(basepath, f'{topregion}/')\n",
    "if not os.path.exists(regionpath):\n",
    "    os.mkdir(regionpath)"
   ]
  },
  {
   "cell_type": "code",
   "execution_count": null,
   "metadata": {},
   "outputs": [],
   "source": [
    "num_nbrss = [f'_{i*10}nbrs' for i in range(2,7)]\n",
    "\n",
    "nbrpath = os.path.join(regionpath, 'nbr_selection/')\n",
    "if not os.path.exists(nbrpath):\n",
    "    os.mkdir(nbrpath)\n",
    "\n",
    "for num_nbrs in num_nbrss:\n",
    "\n",
    "    adata = sc.read_h5ad(f'/stanley/WangLab/kamal/data/integrated/spatial/atlas/nbr_titration/atlas_spin_concat_nocombat_subclustered_topregion{topregion}{num_nbrs}.h5ad')\n",
    "\n",
    "    tissue_path = os.path.join(nbrpath, f'tissue_colored_by_region{num_nbrs}.png')\n",
    "    latent_path = os.path.join(nbrpath, f'latent_colored_by_region{num_nbrs}.png')\n",
    "\n",
    "    regions = adata.obs[subregion_key].value_counts().index # sorted by number of cells\n",
    "    palette = sc.pl.palettes.default_102*2\n",
    "    cmap = {regions[i]:palette[i] for i in range(len(regions))}\n",
    "\n",
    "    spin.plot_tissue(adata, colors=adata.obs[subregion_key], cmap=cmap, xkey=xkey, ykey=ykey, s=0.5, figscale=20, path=tissue_path, dpi=dpi)\n",
    "\n",
    "    regions = adata.obs[subregion_key].value_counts().index # sorted by number of cells\n",
    "    palette = sc.pl.palettes.default_102*2\n",
    "    cmap = {regions[i]:palette[i] for i in range(len(regions))}\n",
    "\n",
    "    spin.plot_latent(adata, adata.obsm['X_umap_spin_sub'][:,0], adata.obsm['X_umap_spin_sub'][:,1],\n",
    "                     colors=adata.obs[subregion_key], cmap=cmap, s=0.5, legend=True, path=latent_path, dpi=dpi)"
   ]
  },
  {
   "cell_type": "markdown",
   "metadata": {},
   "source": [
    "## Resolution"
   ]
  },
  {
   "cell_type": "code",
   "execution_count": null,
   "metadata": {},
   "outputs": [],
   "source": [
    "respath = os.path.join(regionpath, 'res_selection/')\n",
    "if not os.path.exists(respath):\n",
    "    os.mkdir(respath)"
   ]
  },
  {
   "cell_type": "code",
   "execution_count": null,
   "metadata": {},
   "outputs": [],
   "source": [
    "num_nbrs = '_60nbrs'"
   ]
  },
  {
   "cell_type": "code",
   "execution_count": null,
   "metadata": {},
   "outputs": [],
   "source": [
    "res = 0.5\n",
    "\n",
    "adata = sc.read_h5ad(f'/stanley/WangLab/kamal/data/integrated/spatial/atlas/nbr_titration/atlas_spin_concat_nocombat_subclustered_topregion{topregion}{num_nbrs}.h5ad')\n",
    "\n",
    "tissue_path = os.path.join(respath, f\"tissue_colored_by_region{num_nbrs}_res{str(res).replace('.', '')}.png\")\n",
    "latent_path = os.path.join(respath, f\"latent_colored_by_region{num_nbrs}_res{str(res).replace('.', '')}.png\")\n",
    "\n",
    "sc.tl.leiden(adata, resolution=res, key_added=subregion_key, neighbors_key=subregion_key)\n",
    "\n",
    "regions = adata.obs[subregion_key].value_counts().index # sorted by number of cells\n",
    "palette = sc.pl.palettes.default_102\n",
    "cmap = {regions[i]:palette[i] for i in range(len(regions))}\n",
    "\n",
    "spin.plot_tissue(adata, colors=adata.obs[subregion_key], cmap=cmap, xkey=xkey, ykey=ykey, s=0.5, figscale=20, path=tissue_path, dpi=dpi)\n",
    "spin.plot_latent(adata, adata.obsm['X_umap_spin_sub'][:,0], adata.obsm['X_umap_spin_sub'][:,1],\n",
    "                    colors=adata.obs[subregion_key], cmap=cmap, s=0.5, legend=True, path=latent_path, dpi=dpi)"
   ]
  },
  {
   "cell_type": "code",
   "execution_count": null,
   "metadata": {},
   "outputs": [],
   "source": [
    "adata.write(f'/stanley/WangLab/kamal/data/integrated/spatial/atlas/final/topregion{topregion}_subclustered.h5ad')"
   ]
  },
  {
   "cell_type": "markdown",
   "metadata": {},
   "source": [
    "## Gene markers"
   ]
  },
  {
   "cell_type": "code",
   "execution_count": null,
   "metadata": {},
   "outputs": [],
   "source": [
    "markerpath = os.path.join(regionpath, 'top_10_gene_markers_per_subcluster.csv')"
   ]
  },
  {
   "cell_type": "code",
   "execution_count": null,
   "metadata": {},
   "outputs": [],
   "source": [
    "sc.tl.rank_genes_groups(adata, groupby=subregion_key, use_raw=False)\n",
    "\n",
    "subregions = adata.obs[subregion_key].value_counts().index # sorted by number of cells\n",
    "num_markers = 10\n",
    "markers = np.zeros((len(subregions),num_markers), dtype=object)\n",
    "\n",
    "for i in range(len(subregions)):\n",
    "    top_markers = sc.get.rank_genes_groups_df(adata, group=[subregions[i]])['names'][:num_markers].values\n",
    "    markers[i] = top_markers\n",
    "\n",
    "marker_df = pd.DataFrame(data=markers, columns=[f'rank{i+1}' for i in range(num_markers)])\n",
    "marker_df.index.name = 'subregion'\n",
    "marker_df.to_csv(markerpath)"
   ]
  },
  {
   "cell_type": "code",
   "execution_count": null,
   "metadata": {},
   "outputs": [],
   "source": [
    "gene = 'RGS16'\n",
    "spin.plot_tissue(adata, colors=adata[:,gene].X.flatten(), cmap='viridis', xkey=xkey, ykey=ykey, s=0.5, figscale=20)"
   ]
  },
  {
   "cell_type": "markdown",
   "metadata": {},
   "source": [
    "## Filter thresh"
   ]
  },
  {
   "cell_type": "code",
   "execution_count": null,
   "metadata": {},
   "outputs": [],
   "source": [
    "threshpath = os.path.join(regionpath, 'thresh_selection/')\n",
    "if not os.path.exists(threshpath):\n",
    "    os.mkdir(threshpath)"
   ]
  },
  {
   "cell_type": "code",
   "execution_count": null,
   "metadata": {},
   "outputs": [],
   "source": [
    "print(f'Cluster size = {len(adata)}')\n",
    "print(adata.obs[subregion_key].value_counts())\n",
    "\n",
    "thresh = 1000\n",
    "counts = adata.obs[subregion_key].value_counts()\n",
    "good_regions = (counts > thresh)\n",
    "good_regions = good_regions.index[np.where(good_regions)]\n",
    "adata.obs['keep'] = np.isin(adata.obs[subregion_key], good_regions)\n",
    "\n",
    "tissue_path = os.path.join(threshpath, f'tissue_colored_by_removed_cells.png')\n",
    "latent_path = os.path.join(threshpath, f'latent_colored_by_removed_cells.png')\n",
    "spin.plot_regions_tissue(adata, [False], 'keep', xkey=xkey, ykey=ykey, s=0.5, figscale=20, path=tissue_path, dpi=dpi)\n",
    "spin.plot_regions_latent(adata, 'X_umap_spin_sub', [False], 'keep', s=0.5, legend=True, path=latent_path, dpi=dpi)\n",
    "\n",
    "adata = adata[np.isin(adata.obs[subregion_key], good_regions)]\n",
    "\n",
    "regions = adata.obs[subregion_key].value_counts().index # sorted by number of cells\n",
    "palette = sc.pl.palettes.default_102\n",
    "cmap = {regions[i]:palette[i] for i in range(len(regions))}\n",
    "\n",
    "tissue_path = os.path.join(threshpath, f'tissue_colored_by_regions_filtered.png')\n",
    "latent_path = os.path.join(threshpath, f'latent_colored_by_regions_filtered.png')\n",
    "spin.plot_tissue(adata, colors=adata.obs[subregion_key], cmap=cmap, xkey=xkey, ykey=ykey, s=0.5, figscale=20, path=tissue_path, dpi=dpi)\n",
    "spin.plot_latent(adata, adata.obsm['X_umap_spin_sub'][:,0], adata.obsm['X_umap_spin_sub'][:,1],\n",
    "                    colors=adata.obs[subregion_key], cmap=cmap, s=0.5, legend=True, path=latent_path, dpi=dpi)"
   ]
  },
  {
   "cell_type": "markdown",
   "metadata": {},
   "source": [
    "## Plot individual subregions"
   ]
  },
  {
   "cell_type": "code",
   "execution_count": null,
   "metadata": {},
   "outputs": [],
   "source": [
    "subplotpath = os.path.join(regionpath, 'subregion_plots/')\n",
    "if not os.path.exists(subplotpath):\n",
    "    os.mkdir(subplotpath)"
   ]
  },
  {
   "cell_type": "code",
   "execution_count": null,
   "metadata": {},
   "outputs": [],
   "source": [
    "subregions = adata.obs[subregion_key].value_counts().index # sorted by number of cells\n",
    "\n",
    "for i in range(len(subregions)):\n",
    "    subregion = subregions[i]\n",
    "    tissue_path = os.path.join(subplotpath, f'tissue_colored_by_subregion{subregion}.png')\n",
    "    latent_path = os.path.join(subplotpath, f'latent_colored_by_subregion{subregion}.png')\n",
    "    spin.plot_regions_tissue(adata, [subregion], subregion_key, xkey=xkey, ykey=ykey, s=0.5, figscale=20, path=tissue_path, dpi=dpi)\n",
    "    spin.plot_regions_latent(adata, 'X_umap_spin_sub', [subregion], subregion_key, s=0.5, legend=True, path=latent_path, dpi=dpi)"
   ]
  },
  {
   "cell_type": "markdown",
   "metadata": {},
   "source": [
    "# 10: Cb 2"
   ]
  },
  {
   "cell_type": "markdown",
   "metadata": {},
   "source": [
    "## Num nbrs"
   ]
  },
  {
   "cell_type": "code",
   "execution_count": null,
   "metadata": {},
   "outputs": [],
   "source": [
    "topregion = '10'\n",
    "regionpath = os.path.join(basepath, f'{topregion}/')\n",
    "if not os.path.exists(regionpath):\n",
    "    os.mkdir(regionpath)"
   ]
  },
  {
   "cell_type": "code",
   "execution_count": null,
   "metadata": {},
   "outputs": [],
   "source": [
    "num_nbrss = [f'_{i*10}nbrs' for i in range(2,7)]\n",
    "\n",
    "nbrpath = os.path.join(regionpath, 'nbr_selection/')\n",
    "if not os.path.exists(nbrpath):\n",
    "    os.mkdir(nbrpath)\n",
    "\n",
    "for num_nbrs in num_nbrss:\n",
    "\n",
    "    adata = sc.read_h5ad(f'/stanley/WangLab/kamal/data/integrated/spatial/atlas/nbr_titration/atlas_spin_concat_nocombat_subclustered_topregion{topregion}{num_nbrs}.h5ad')\n",
    "\n",
    "    tissue_path = os.path.join(nbrpath, f'tissue_colored_by_region{num_nbrs}.png')\n",
    "    latent_path = os.path.join(nbrpath, f'latent_colored_by_region{num_nbrs}.png')\n",
    "\n",
    "    regions = adata.obs[subregion_key].value_counts().index # sorted by number of cells\n",
    "    palette = sc.pl.palettes.default_102*2\n",
    "    cmap = {regions[i]:palette[i] for i in range(len(regions))}\n",
    "\n",
    "    spin.plot_tissue(adata, colors=adata.obs[subregion_key], cmap=cmap, xkey=xkey, ykey=ykey, s=0.5, figscale=20, path=tissue_path, dpi=dpi)\n",
    "\n",
    "    regions = adata.obs[subregion_key].value_counts().index # sorted by number of cells\n",
    "    palette = sc.pl.palettes.default_102*2\n",
    "    cmap = {regions[i]:palette[i] for i in range(len(regions))}\n",
    "\n",
    "    spin.plot_latent(adata, adata.obsm['X_umap_spin_sub'][:,0], adata.obsm['X_umap_spin_sub'][:,1],\n",
    "                     colors=adata.obs[subregion_key], cmap=cmap, s=0.5, legend=True, path=latent_path, dpi=dpi)"
   ]
  },
  {
   "cell_type": "markdown",
   "metadata": {},
   "source": [
    "## Resolution"
   ]
  },
  {
   "cell_type": "code",
   "execution_count": null,
   "metadata": {},
   "outputs": [],
   "source": [
    "respath = os.path.join(regionpath, 'res_selection/')\n",
    "if not os.path.exists(respath):\n",
    "    os.mkdir(respath)"
   ]
  },
  {
   "cell_type": "code",
   "execution_count": null,
   "metadata": {},
   "outputs": [],
   "source": [
    "num_nbrs = '_20nbrs'"
   ]
  },
  {
   "cell_type": "code",
   "execution_count": null,
   "metadata": {},
   "outputs": [],
   "source": [
    "res = 0.25\n",
    "\n",
    "adata = sc.read_h5ad(f'/stanley/WangLab/kamal/data/integrated/spatial/atlas/nbr_titration/atlas_spin_concat_nocombat_subclustered_topregion{topregion}{num_nbrs}.h5ad')\n",
    "\n",
    "tissue_path = os.path.join(respath, f\"tissue_colored_by_region{num_nbrs}_res{str(res).replace('.', '')}.png\")\n",
    "latent_path = os.path.join(respath, f\"latent_colored_by_region{num_nbrs}_res{str(res).replace('.', '')}.png\")\n",
    "\n",
    "sc.tl.leiden(adata, resolution=res, key_added=subregion_key, neighbors_key=subregion_key)\n",
    "\n",
    "regions = adata.obs[subregion_key].value_counts().index # sorted by number of cells\n",
    "palette = sc.pl.palettes.default_102\n",
    "cmap = {regions[i]:palette[i] for i in range(len(regions))}\n",
    "\n",
    "spin.plot_tissue(adata, colors=adata.obs[subregion_key], cmap=cmap, xkey=xkey, ykey=ykey, s=0.5, figscale=20, path=tissue_path, dpi=dpi)\n",
    "spin.plot_latent(adata, adata.obsm['X_umap_spin_sub'][:,0], adata.obsm['X_umap_spin_sub'][:,1],\n",
    "                    colors=adata.obs[subregion_key], cmap=cmap, s=0.5, legend=True, path=latent_path, dpi=dpi)"
   ]
  },
  {
   "cell_type": "code",
   "execution_count": null,
   "metadata": {},
   "outputs": [],
   "source": [
    "adata.write(f'/stanley/WangLab/kamal/data/integrated/spatial/atlas/final/topregion{topregion}_subclustered.h5ad')"
   ]
  },
  {
   "cell_type": "markdown",
   "metadata": {},
   "source": [
    "## Gene markers"
   ]
  },
  {
   "cell_type": "code",
   "execution_count": null,
   "metadata": {},
   "outputs": [],
   "source": [
    "markerpath = os.path.join(regionpath, 'top_10_gene_markers_per_subcluster.csv')"
   ]
  },
  {
   "cell_type": "code",
   "execution_count": null,
   "metadata": {},
   "outputs": [],
   "source": [
    "sc.tl.rank_genes_groups(adata, groupby=subregion_key, use_raw=False)\n",
    "\n",
    "subregions = adata.obs[subregion_key].value_counts().index # sorted by number of cells\n",
    "num_markers = 10\n",
    "markers = np.zeros((len(subregions),num_markers), dtype=object)\n",
    "\n",
    "for i in range(len(subregions)):\n",
    "    top_markers = sc.get.rank_genes_groups_df(adata, group=[subregions[i]])['names'][:num_markers].values\n",
    "    markers[i] = top_markers\n",
    "\n",
    "marker_df = pd.DataFrame(data=markers, columns=[f'rank{i+1}' for i in range(num_markers)])\n",
    "marker_df.index.name = 'subregion'\n",
    "marker_df.to_csv(markerpath)"
   ]
  },
  {
   "cell_type": "code",
   "execution_count": null,
   "metadata": {},
   "outputs": [],
   "source": [
    "gene = 'NRGN'\n",
    "spin.plot_tissue(adata, colors=adata[:,gene].X.flatten(), cmap='viridis', xkey=xkey, ykey=ykey, s=0.5, figscale=20)"
   ]
  },
  {
   "cell_type": "markdown",
   "metadata": {},
   "source": [
    "## Filter thresh"
   ]
  },
  {
   "cell_type": "code",
   "execution_count": null,
   "metadata": {},
   "outputs": [],
   "source": [
    "threshpath = os.path.join(regionpath, 'thresh_selection/')\n",
    "if not os.path.exists(threshpath):\n",
    "    os.mkdir(threshpath)"
   ]
  },
  {
   "cell_type": "code",
   "execution_count": null,
   "metadata": {},
   "outputs": [],
   "source": [
    "print(f'Cluster size = {len(adata)}')\n",
    "print(adata.obs[subregion_key].value_counts())\n",
    "\n",
    "thresh = 1000\n",
    "counts = adata.obs[subregion_key].value_counts()\n",
    "good_regions = (counts > thresh)\n",
    "good_regions = good_regions.index[np.where(good_regions)]\n",
    "adata.obs['keep'] = np.isin(adata.obs[subregion_key], good_regions)\n",
    "\n",
    "tissue_path = os.path.join(threshpath, f'tissue_colored_by_removed_cells.png')\n",
    "latent_path = os.path.join(threshpath, f'latent_colored_by_removed_cells.png')\n",
    "spin.plot_regions_tissue(adata, [False], 'keep', xkey=xkey, ykey=ykey, s=0.5, figscale=20, path=tissue_path, dpi=dpi)\n",
    "spin.plot_regions_latent(adata, 'X_umap_spin_sub', [False], 'keep', s=0.5, legend=True, path=latent_path, dpi=dpi)\n",
    "\n",
    "adata = adata[np.isin(adata.obs[subregion_key], good_regions)]\n",
    "\n",
    "regions = adata.obs[subregion_key].value_counts().index # sorted by number of cells\n",
    "palette = sc.pl.palettes.default_102\n",
    "cmap = {regions[i]:palette[i] for i in range(len(regions))}\n",
    "\n",
    "tissue_path = os.path.join(threshpath, f'tissue_colored_by_regions_filtered.png')\n",
    "latent_path = os.path.join(threshpath, f'latent_colored_by_regions_filtered.png')\n",
    "spin.plot_tissue(adata, colors=adata.obs[subregion_key], cmap=cmap, xkey=xkey, ykey=ykey, s=0.5, figscale=20, path=tissue_path, dpi=dpi)\n",
    "spin.plot_latent(adata, adata.obsm['X_umap_spin_sub'][:,0], adata.obsm['X_umap_spin_sub'][:,1],\n",
    "                    colors=adata.obs[subregion_key], cmap=cmap, s=0.5, legend=True, path=latent_path, dpi=dpi)"
   ]
  },
  {
   "cell_type": "markdown",
   "metadata": {},
   "source": [
    "## Plot individual subregions"
   ]
  },
  {
   "cell_type": "code",
   "execution_count": null,
   "metadata": {},
   "outputs": [],
   "source": [
    "subplotpath = os.path.join(regionpath, 'subregion_plots/')\n",
    "if not os.path.exists(subplotpath):\n",
    "    os.mkdir(subplotpath)"
   ]
  },
  {
   "cell_type": "code",
   "execution_count": null,
   "metadata": {},
   "outputs": [],
   "source": [
    "subregions = adata.obs[subregion_key].value_counts().index # sorted by number of cells\n",
    "\n",
    "for i in range(len(subregions)):\n",
    "    subregion = subregions[i]\n",
    "    tissue_path = os.path.join(subplotpath, f'tissue_colored_by_subregion{subregion}.png')\n",
    "    latent_path = os.path.join(subplotpath, f'latent_colored_by_subregion{subregion}.png')\n",
    "    spin.plot_regions_tissue(adata, [subregion], subregion_key, xkey=xkey, ykey=ykey, s=0.5, figscale=20, path=tissue_path, dpi=dpi)\n",
    "    spin.plot_regions_latent(adata, 'X_umap_spin_sub', [subregion], subregion_key, s=0.5, legend=True, path=latent_path, dpi=dpi)"
   ]
  },
  {
   "cell_type": "markdown",
   "metadata": {},
   "source": [
    "# 11: choroid"
   ]
  },
  {
   "cell_type": "markdown",
   "metadata": {},
   "source": [
    "## Num nbrs"
   ]
  },
  {
   "cell_type": "code",
   "execution_count": null,
   "metadata": {},
   "outputs": [],
   "source": [
    "topregion = '11'\n",
    "regionpath = os.path.join(basepath, f'{topregion}/')\n",
    "if not os.path.exists(regionpath):\n",
    "    os.mkdir(regionpath)"
   ]
  },
  {
   "cell_type": "code",
   "execution_count": null,
   "metadata": {},
   "outputs": [],
   "source": [
    "num_nbrss = [f'_{i*10}nbrs' for i in range(2,7)]\n",
    "\n",
    "nbrpath = os.path.join(regionpath, 'nbr_selection/')\n",
    "if not os.path.exists(nbrpath):\n",
    "    os.mkdir(nbrpath)\n",
    "\n",
    "for num_nbrs in num_nbrss:\n",
    "\n",
    "    adata = sc.read_h5ad(f'/stanley/WangLab/kamal/data/integrated/spatial/atlas/nbr_titration/atlas_spin_concat_nocombat_subclustered_topregion{topregion}{num_nbrs}.h5ad')\n",
    "\n",
    "    tissue_path = os.path.join(nbrpath, f'tissue_colored_by_region{num_nbrs}.png')\n",
    "    latent_path = os.path.join(nbrpath, f'latent_colored_by_region{num_nbrs}.png')\n",
    "\n",
    "    regions = adata.obs[subregion_key].value_counts().index # sorted by number of cells\n",
    "    palette = sc.pl.palettes.default_102*2\n",
    "    cmap = {regions[i]:palette[i] for i in range(len(regions))}\n",
    "\n",
    "    spin.plot_tissue(adata, colors=adata.obs[subregion_key], cmap=cmap, xkey=xkey, ykey=ykey, s=0.5, figscale=20, path=tissue_path, dpi=dpi)\n",
    "\n",
    "    regions = adata.obs[subregion_key].value_counts().index # sorted by number of cells\n",
    "    palette = sc.pl.palettes.default_102*2\n",
    "    cmap = {regions[i]:palette[i] for i in range(len(regions))}\n",
    "\n",
    "    spin.plot_latent(adata, adata.obsm['X_umap_spin_sub'][:,0], adata.obsm['X_umap_spin_sub'][:,1],\n",
    "                     colors=adata.obs[subregion_key], cmap=cmap, s=0.5, legend=True, path=latent_path, dpi=dpi)"
   ]
  },
  {
   "cell_type": "markdown",
   "metadata": {},
   "source": [
    "## Resolution"
   ]
  },
  {
   "cell_type": "code",
   "execution_count": null,
   "metadata": {},
   "outputs": [],
   "source": [
    "respath = os.path.join(regionpath, 'res_selection/')\n",
    "if not os.path.exists(respath):\n",
    "    os.mkdir(respath)"
   ]
  },
  {
   "cell_type": "code",
   "execution_count": null,
   "metadata": {},
   "outputs": [],
   "source": [
    "num_nbrs = '_60nbrs'"
   ]
  },
  {
   "cell_type": "code",
   "execution_count": null,
   "metadata": {},
   "outputs": [],
   "source": [
    "res = 0.38\n",
    "# res = 0.4\n",
    "\n",
    "adata = sc.read_h5ad(f'/stanley/WangLab/kamal/data/integrated/spatial/atlas/nbr_titration/atlas_spin_concat_nocombat_subclustered_topregion{topregion}{num_nbrs}.h5ad')\n",
    "\n",
    "tissue_path = os.path.join(respath, f\"tissue_colored_by_region{num_nbrs}_res{str(res).replace('.', '')}.png\")\n",
    "latent_path = os.path.join(respath, f\"latent_colored_by_region{num_nbrs}_res{str(res).replace('.', '')}.png\")\n",
    "\n",
    "sc.tl.leiden(adata, resolution=res, key_added=subregion_key, neighbors_key=subregion_key)\n",
    "\n",
    "regions = adata.obs[subregion_key].value_counts().index # sorted by number of cells\n",
    "palette = sc.pl.palettes.default_102\n",
    "cmap = {regions[i]:palette[i] for i in range(len(regions))}\n",
    "\n",
    "spin.plot_tissue(adata, colors=adata.obs[subregion_key], cmap=cmap, xkey=xkey, ykey=ykey, s=0.5, figscale=20, path=tissue_path, dpi=dpi)\n",
    "spin.plot_latent(adata, adata.obsm['X_umap_spin_sub'][:,0], adata.obsm['X_umap_spin_sub'][:,1],\n",
    "                    colors=adata.obs[subregion_key], cmap=cmap, s=0.5, legend=True, path=latent_path, dpi=dpi)"
   ]
  },
  {
   "cell_type": "code",
   "execution_count": null,
   "metadata": {},
   "outputs": [],
   "source": [
    "adata.write(f'/stanley/WangLab/kamal/data/integrated/spatial/atlas/final/topregion{topregion}_subclustered.h5ad')"
   ]
  },
  {
   "cell_type": "markdown",
   "metadata": {},
   "source": [
    "## Filter thresh"
   ]
  },
  {
   "cell_type": "code",
   "execution_count": null,
   "metadata": {},
   "outputs": [],
   "source": [
    "threshpath = os.path.join(regionpath, 'thresh_selection/')\n",
    "if not os.path.exists(threshpath):\n",
    "    os.mkdir(threshpath)"
   ]
  },
  {
   "cell_type": "code",
   "execution_count": null,
   "metadata": {},
   "outputs": [],
   "source": [
    "print(f'Cluster size = {len(adata)}')\n",
    "print(adata.obs[subregion_key].value_counts())\n",
    "\n",
    "thresh = 500\n",
    "counts = adata.obs[subregion_key].value_counts()\n",
    "good_regions = (counts > thresh)\n",
    "good_regions = good_regions.index[np.where(good_regions)]\n",
    "adata.obs['keep'] = np.isin(adata.obs[subregion_key], good_regions)\n",
    "\n",
    "tissue_path = os.path.join(threshpath, f'tissue_colored_by_removed_cells.png')\n",
    "latent_path = os.path.join(threshpath, f'latent_colored_by_removed_cells.png')\n",
    "spin.plot_regions_tissue(adata, [False], 'keep', xkey=xkey, ykey=ykey, s=0.5, figscale=20, path=tissue_path, dpi=dpi)\n",
    "spin.plot_regions_latent(adata, 'X_umap_spin_sub', [False], 'keep', s=0.5, legend=True, path=latent_path, dpi=dpi)\n",
    "\n",
    "adata = adata[np.isin(adata.obs[subregion_key], good_regions)]\n",
    "\n",
    "regions = adata.obs[subregion_key].value_counts().index # sorted by number of cells\n",
    "palette = sc.pl.palettes.default_102\n",
    "cmap = {regions[i]:palette[i] for i in range(len(regions))}\n",
    "\n",
    "tissue_path = os.path.join(threshpath, f'tissue_colored_by_regions_filtered.png')\n",
    "latent_path = os.path.join(threshpath, f'latent_colored_by_regions_filtered.png')\n",
    "spin.plot_tissue(adata, colors=adata.obs[subregion_key], cmap=cmap, xkey=xkey, ykey=ykey, s=0.5, figscale=20, path=tissue_path, dpi=dpi)\n",
    "spin.plot_latent(adata, adata.obsm['X_umap_spin_sub'][:,0], adata.obsm['X_umap_spin_sub'][:,1],\n",
    "                    colors=adata.obs[subregion_key], cmap=cmap, s=0.5, legend=True, path=latent_path, dpi=dpi)"
   ]
  },
  {
   "cell_type": "markdown",
   "metadata": {},
   "source": [
    "## Plot individual subregions"
   ]
  },
  {
   "cell_type": "code",
   "execution_count": null,
   "metadata": {},
   "outputs": [],
   "source": [
    "subplotpath = os.path.join(regionpath, 'subregion_plots/')\n",
    "if not os.path.exists(subplotpath):\n",
    "    os.mkdir(subplotpath)"
   ]
  },
  {
   "cell_type": "code",
   "execution_count": null,
   "metadata": {},
   "outputs": [],
   "source": [
    "subregions = adata.obs[subregion_key].value_counts().index # sorted by number of cells\n",
    "\n",
    "for i in range(len(subregions)):\n",
    "    subregion = subregions[i]\n",
    "    tissue_path = os.path.join(subplotpath, f'tissue_colored_by_subregion{subregion}.png')\n",
    "    latent_path = os.path.join(subplotpath, f'latent_colored_by_subregion{subregion}.png')\n",
    "    spin.plot_regions_tissue(adata, [subregion], subregion_key, xkey=xkey, ykey=ykey, s=0.5, figscale=20, path=tissue_path, dpi=dpi)\n",
    "    spin.plot_regions_latent(adata, 'X_umap_spin_sub', [subregion], subregion_key, s=0.5, legend=True, path=latent_path, dpi=dpi)"
   ]
  },
  {
   "cell_type": "markdown",
   "metadata": {},
   "source": [
    "## Gene markers"
   ]
  },
  {
   "cell_type": "code",
   "execution_count": null,
   "metadata": {},
   "outputs": [],
   "source": [
    "markerpath = os.path.join(regionpath, 'top_10_gene_markers_per_subcluster.csv')"
   ]
  },
  {
   "cell_type": "code",
   "execution_count": null,
   "metadata": {},
   "outputs": [],
   "source": [
    "sc.tl.rank_genes_groups(adata, groupby=subregion_key, use_raw=False)\n",
    "\n",
    "subregions = adata.obs[subregion_key].value_counts().index # sorted by number of cells\n",
    "num_markers = 10\n",
    "markers = np.zeros((len(subregions),num_markers), dtype=object)\n",
    "\n",
    "for i in range(len(subregions)):\n",
    "    top_markers = sc.get.rank_genes_groups_df(adata, group=[subregions[i]])['names'][:num_markers].values\n",
    "    markers[i] = top_markers\n",
    "\n",
    "marker_df = pd.DataFrame(data=markers, columns=[f'rank{i+1}' for i in range(num_markers)])\n",
    "marker_df.index.name = 'subregion'\n",
    "marker_df.to_csv(markerpath)"
   ]
  },
  {
   "cell_type": "code",
   "execution_count": null,
   "metadata": {},
   "outputs": [],
   "source": [
    "gene = 'TMEM212'\n",
    "spin.plot_tissue(adata, colors=adata[:,gene].X.flatten(), cmap='viridis', xkey=xkey, ykey=ykey, s=0.5, figscale=20)"
   ]
  },
  {
   "cell_type": "markdown",
   "metadata": {},
   "source": [
    "# 12: DG"
   ]
  },
  {
   "cell_type": "markdown",
   "metadata": {},
   "source": [
    "## Num nbrs"
   ]
  },
  {
   "cell_type": "code",
   "execution_count": null,
   "metadata": {},
   "outputs": [],
   "source": [
    "topregion = '12'\n",
    "regionpath = os.path.join(basepath, f'{topregion}/')\n",
    "if not os.path.exists(regionpath):\n",
    "    os.mkdir(regionpath)"
   ]
  },
  {
   "cell_type": "code",
   "execution_count": null,
   "metadata": {},
   "outputs": [],
   "source": [
    "num_nbrss = [f'_{i*10}nbrs' for i in range(2,7)]\n",
    "\n",
    "nbrpath = os.path.join(regionpath, 'nbr_selection/')\n",
    "if not os.path.exists(nbrpath):\n",
    "    os.mkdir(nbrpath)\n",
    "\n",
    "for num_nbrs in num_nbrss:\n",
    "\n",
    "    adata = sc.read_h5ad(f'/stanley/WangLab/kamal/data/integrated/spatial/atlas/nbr_titration/atlas_spin_concat_nocombat_subclustered_topregion{topregion}{num_nbrs}.h5ad')\n",
    "\n",
    "    tissue_path = os.path.join(nbrpath, f'tissue_colored_by_region{num_nbrs}.png')\n",
    "    latent_path = os.path.join(nbrpath, f'latent_colored_by_region{num_nbrs}.png')\n",
    "\n",
    "    regions = adata.obs[subregion_key].value_counts().index # sorted by number of cells\n",
    "    palette = sc.pl.palettes.default_102*2\n",
    "    cmap = {regions[i]:palette[i] for i in range(len(regions))}\n",
    "\n",
    "    spin.plot_tissue(adata, colors=adata.obs[subregion_key], cmap=cmap, xkey=xkey, ykey=ykey, s=0.5, figscale=20, path=tissue_path, dpi=dpi)\n",
    "\n",
    "    regions = adata.obs[subregion_key].value_counts().index # sorted by number of cells\n",
    "    palette = sc.pl.palettes.default_102*2\n",
    "    cmap = {regions[i]:palette[i] for i in range(len(regions))}\n",
    "\n",
    "    spin.plot_latent(adata, adata.obsm['X_umap_spin_sub'][:,0], adata.obsm['X_umap_spin_sub'][:,1],\n",
    "                     colors=adata.obs[subregion_key], cmap=cmap, s=0.5, legend=True, path=latent_path, dpi=dpi)"
   ]
  },
  {
   "cell_type": "markdown",
   "metadata": {},
   "source": [
    "## Resolution"
   ]
  },
  {
   "cell_type": "code",
   "execution_count": null,
   "metadata": {},
   "outputs": [],
   "source": [
    "respath = os.path.join(regionpath, 'res_selection/')\n",
    "if not os.path.exists(respath):\n",
    "    os.mkdir(respath)"
   ]
  },
  {
   "cell_type": "code",
   "execution_count": null,
   "metadata": {},
   "outputs": [],
   "source": [
    "num_nbrs = '_30nbrs'"
   ]
  },
  {
   "cell_type": "code",
   "execution_count": null,
   "metadata": {},
   "outputs": [],
   "source": [
    "res = 0.3\n",
    "# res = 0.4\n",
    "\n",
    "adata = sc.read_h5ad(f'/stanley/WangLab/kamal/data/integrated/spatial/atlas/nbr_titration/atlas_spin_concat_nocombat_subclustered_topregion{topregion}{num_nbrs}.h5ad')\n",
    "\n",
    "tissue_path = os.path.join(respath, f\"tissue_colored_by_region{num_nbrs}_res{str(res).replace('.', '')}.png\")\n",
    "latent_path = os.path.join(respath, f\"latent_colored_by_region{num_nbrs}_res{str(res).replace('.', '')}.png\")\n",
    "\n",
    "sc.tl.leiden(adata, resolution=res, key_added=subregion_key, neighbors_key=subregion_key)\n",
    "\n",
    "regions = adata.obs[subregion_key].value_counts().index # sorted by number of cells\n",
    "palette = sc.pl.palettes.default_102\n",
    "cmap = {regions[i]:palette[i] for i in range(len(regions))}\n",
    "\n",
    "spin.plot_tissue(adata, colors=adata.obs[subregion_key], cmap=cmap, xkey=xkey, ykey=ykey, s=0.5, figscale=20, path=tissue_path, dpi=dpi)\n",
    "spin.plot_latent(adata, adata.obsm['X_umap_spin_sub'][:,0], adata.obsm['X_umap_spin_sub'][:,1],\n",
    "                    colors=adata.obs[subregion_key], cmap=cmap, s=0.5, legend=True, path=latent_path, dpi=dpi)"
   ]
  },
  {
   "cell_type": "code",
   "execution_count": null,
   "metadata": {},
   "outputs": [],
   "source": [
    "adata.write(f'/stanley/WangLab/kamal/data/integrated/spatial/atlas/final/topregion{topregion}_subclustered.h5ad')"
   ]
  },
  {
   "cell_type": "markdown",
   "metadata": {},
   "source": [
    "## Filter thresh"
   ]
  },
  {
   "cell_type": "code",
   "execution_count": null,
   "metadata": {},
   "outputs": [],
   "source": [
    "threshpath = os.path.join(regionpath, 'thresh_selection/')\n",
    "if not os.path.exists(threshpath):\n",
    "    os.mkdir(threshpath)"
   ]
  },
  {
   "cell_type": "code",
   "execution_count": null,
   "metadata": {},
   "outputs": [],
   "source": [
    "print(f'Cluster size = {len(adata)}')\n",
    "print(adata.obs[subregion_key].value_counts())\n",
    "\n",
    "thresh = 1000\n",
    "counts = adata.obs[subregion_key].value_counts()\n",
    "good_regions = (counts > thresh)\n",
    "good_regions = good_regions.index[np.where(good_regions)]\n",
    "adata.obs['keep'] = np.isin(adata.obs[subregion_key], good_regions)\n",
    "\n",
    "tissue_path = os.path.join(threshpath, f'tissue_colored_by_removed_cells.png')\n",
    "latent_path = os.path.join(threshpath, f'latent_colored_by_removed_cells.png')\n",
    "spin.plot_regions_tissue(adata, [False], 'keep', xkey=xkey, ykey=ykey, s=0.5, figscale=20, path=tissue_path, dpi=dpi)\n",
    "spin.plot_regions_latent(adata, 'X_umap_spin_sub', [False], 'keep', s=0.5, legend=True, path=latent_path, dpi=dpi)\n",
    "\n",
    "adata = adata[np.isin(adata.obs[subregion_key], good_regions)]\n",
    "\n",
    "regions = adata.obs[subregion_key].value_counts().index # sorted by number of cells\n",
    "palette = sc.pl.palettes.default_102\n",
    "cmap = {regions[i]:palette[i] for i in range(len(regions))}\n",
    "\n",
    "tissue_path = os.path.join(threshpath, f'tissue_colored_by_regions_filtered.png')\n",
    "latent_path = os.path.join(threshpath, f'latent_colored_by_regions_filtered.png')\n",
    "spin.plot_tissue(adata, colors=adata.obs[subregion_key], cmap=cmap, xkey=xkey, ykey=ykey, s=0.5, figscale=20, path=tissue_path, dpi=dpi)\n",
    "spin.plot_latent(adata, adata.obsm['X_umap_spin_sub'][:,0], adata.obsm['X_umap_spin_sub'][:,1],\n",
    "                    colors=adata.obs[subregion_key], cmap=cmap, s=0.5, legend=True, path=latent_path, dpi=dpi)"
   ]
  },
  {
   "cell_type": "markdown",
   "metadata": {},
   "source": [
    "## Plot individual subregions"
   ]
  },
  {
   "cell_type": "code",
   "execution_count": null,
   "metadata": {},
   "outputs": [],
   "source": [
    "subplotpath = os.path.join(regionpath, 'subregion_plots/')\n",
    "if not os.path.exists(subplotpath):\n",
    "    os.mkdir(subplotpath)"
   ]
  },
  {
   "cell_type": "code",
   "execution_count": null,
   "metadata": {},
   "outputs": [],
   "source": [
    "subregions = adata.obs[subregion_key].value_counts().index # sorted by number of cells\n",
    "\n",
    "for i in range(len(subregions)):\n",
    "    subregion = subregions[i]\n",
    "    tissue_path = os.path.join(subplotpath, f'tissue_colored_by_subregion{subregion}.png')\n",
    "    latent_path = os.path.join(subplotpath, f'latent_colored_by_subregion{subregion}.png')\n",
    "    spin.plot_regions_tissue(adata, [subregion], subregion_key, xkey=xkey, ykey=ykey, s=0.5, figscale=20, path=tissue_path, dpi=dpi)\n",
    "    spin.plot_regions_latent(adata, 'X_umap_spin_sub', [subregion], subregion_key, s=0.5, legend=True, path=latent_path, dpi=dpi)"
   ]
  },
  {
   "cell_type": "markdown",
   "metadata": {},
   "source": [
    "## Gene markers"
   ]
  },
  {
   "cell_type": "code",
   "execution_count": null,
   "metadata": {},
   "outputs": [],
   "source": [
    "markerpath = os.path.join(regionpath, 'top_10_gene_markers_per_subcluster.csv')"
   ]
  },
  {
   "cell_type": "code",
   "execution_count": null,
   "metadata": {},
   "outputs": [],
   "source": [
    "sc.tl.rank_genes_groups(adata, groupby=subregion_key, use_raw=False)\n",
    "\n",
    "subregions = adata.obs[subregion_key].value_counts().index # sorted by number of cells\n",
    "num_markers = 10\n",
    "markers = np.zeros((len(subregions),num_markers), dtype=object)\n",
    "\n",
    "for i in range(len(subregions)):\n",
    "    top_markers = sc.get.rank_genes_groups_df(adata, group=[subregions[i]])['names'][:num_markers].values\n",
    "    markers[i] = top_markers\n",
    "\n",
    "marker_df = pd.DataFrame(data=markers, columns=[f'rank{i+1}' for i in range(num_markers)])\n",
    "marker_df.index.name = 'subregion'\n",
    "marker_df.to_csv(markerpath)"
   ]
  },
  {
   "cell_type": "code",
   "execution_count": null,
   "metadata": {},
   "outputs": [],
   "source": [
    "gene = 'CLU'\n",
    "spin.plot_tissue(adata, colors=adata[:,gene].X.flatten(), cmap='viridis', xkey=xkey, ykey=ykey, s=0.5, figscale=20)"
   ]
  },
  {
   "cell_type": "markdown",
   "metadata": {},
   "source": [
    "# 13: CA"
   ]
  },
  {
   "cell_type": "markdown",
   "metadata": {},
   "source": [
    "## Num nbrs"
   ]
  },
  {
   "cell_type": "code",
   "execution_count": null,
   "metadata": {},
   "outputs": [],
   "source": [
    "topregion = '13'\n",
    "regionpath = os.path.join(basepath, f'{topregion}/')\n",
    "if not os.path.exists(regionpath):\n",
    "    os.mkdir(regionpath)"
   ]
  },
  {
   "cell_type": "code",
   "execution_count": null,
   "metadata": {},
   "outputs": [],
   "source": [
    "num_nbrss = [f'_{i*10}nbrs' for i in range(2,7)]\n",
    "\n",
    "nbrpath = os.path.join(regionpath, 'nbr_selection/')\n",
    "if not os.path.exists(nbrpath):\n",
    "    os.mkdir(nbrpath)\n",
    "\n",
    "for num_nbrs in num_nbrss:\n",
    "\n",
    "    adata = sc.read_h5ad(f'/stanley/WangLab/kamal/data/integrated/spatial/atlas/nbr_titration/atlas_spin_concat_nocombat_subclustered_topregion{topregion}{num_nbrs}.h5ad')\n",
    "\n",
    "    tissue_path = os.path.join(nbrpath, f'tissue_colored_by_region{num_nbrs}.png')\n",
    "    latent_path = os.path.join(nbrpath, f'latent_colored_by_region{num_nbrs}.png')\n",
    "\n",
    "    regions = adata.obs[subregion_key].value_counts().index # sorted by number of cells\n",
    "    palette = sc.pl.palettes.default_102*2\n",
    "    cmap = {regions[i]:palette[i] for i in range(len(regions))}\n",
    "\n",
    "    spin.plot_tissue(adata, colors=adata.obs[subregion_key], cmap=cmap, xkey=xkey, ykey=ykey, s=0.5, figscale=20, path=tissue_path, dpi=dpi)\n",
    "\n",
    "    regions = adata.obs[subregion_key].value_counts().index # sorted by number of cells\n",
    "    palette = sc.pl.palettes.default_102*2\n",
    "    cmap = {regions[i]:palette[i] for i in range(len(regions))}\n",
    "\n",
    "    spin.plot_latent(adata, adata.obsm['X_umap_spin_sub'][:,0], adata.obsm['X_umap_spin_sub'][:,1],\n",
    "                     colors=adata.obs[subregion_key], cmap=cmap, s=0.5, legend=True, path=latent_path, dpi=dpi)"
   ]
  },
  {
   "cell_type": "markdown",
   "metadata": {},
   "source": [
    "## Resolution"
   ]
  },
  {
   "cell_type": "code",
   "execution_count": null,
   "metadata": {},
   "outputs": [],
   "source": [
    "respath = os.path.join(regionpath, 'res_selection/')\n",
    "if not os.path.exists(respath):\n",
    "    os.mkdir(respath)"
   ]
  },
  {
   "cell_type": "code",
   "execution_count": null,
   "metadata": {},
   "outputs": [],
   "source": [
    "num_nbrs = '_30nbrs'"
   ]
  },
  {
   "cell_type": "code",
   "execution_count": null,
   "metadata": {},
   "outputs": [],
   "source": [
    "res = 0.15\n",
    "\n",
    "adata = sc.read_h5ad(f'/stanley/WangLab/kamal/data/integrated/spatial/atlas/nbr_titration/atlas_spin_concat_nocombat_subclustered_topregion{topregion}{num_nbrs}.h5ad')\n",
    "\n",
    "tissue_path = os.path.join(respath, f\"tissue_colored_by_region{num_nbrs}_res{str(res).replace('.', '')}.png\")\n",
    "latent_path = os.path.join(respath, f\"latent_colored_by_region{num_nbrs}_res{str(res).replace('.', '')}.png\")\n",
    "\n",
    "sc.tl.leiden(adata, resolution=res, key_added=subregion_key, neighbors_key=subregion_key)\n",
    "\n",
    "regions = adata.obs[subregion_key].value_counts().index # sorted by number of cells\n",
    "palette = sc.pl.palettes.default_102\n",
    "cmap = {regions[i]:palette[i] for i in range(len(regions))}\n",
    "\n",
    "spin.plot_tissue(adata, colors=adata.obs[subregion_key], cmap=cmap, xkey=xkey, ykey=ykey, s=0.5, figscale=20, path=tissue_path, dpi=dpi)\n",
    "spin.plot_latent(adata, adata.obsm['X_umap_spin_sub'][:,0], adata.obsm['X_umap_spin_sub'][:,1],\n",
    "                    colors=adata.obs[subregion_key], cmap=cmap, s=0.5, legend=True, path=latent_path, dpi=dpi)"
   ]
  },
  {
   "cell_type": "code",
   "execution_count": null,
   "metadata": {},
   "outputs": [],
   "source": [
    "adata.write(f'/stanley/WangLab/kamal/data/integrated/spatial/atlas/final/topregion{topregion}_subclustered.h5ad')"
   ]
  },
  {
   "cell_type": "markdown",
   "metadata": {},
   "source": [
    "## Filter thresh"
   ]
  },
  {
   "cell_type": "code",
   "execution_count": null,
   "metadata": {},
   "outputs": [],
   "source": [
    "threshpath = os.path.join(regionpath, 'thresh_selection/')\n",
    "if not os.path.exists(threshpath):\n",
    "    os.mkdir(threshpath)"
   ]
  },
  {
   "cell_type": "code",
   "execution_count": null,
   "metadata": {},
   "outputs": [],
   "source": [
    "print(f'Cluster size = {len(adata)}')\n",
    "print(adata.obs[subregion_key].value_counts())\n",
    "\n",
    "thresh = 1000\n",
    "counts = adata.obs[subregion_key].value_counts()\n",
    "good_regions = (counts > thresh)\n",
    "good_regions = good_regions.index[np.where(good_regions)]\n",
    "adata.obs['keep'] = np.isin(adata.obs[subregion_key], good_regions)\n",
    "\n",
    "tissue_path = os.path.join(threshpath, f'tissue_colored_by_removed_cells.png')\n",
    "latent_path = os.path.join(threshpath, f'latent_colored_by_removed_cells.png')\n",
    "spin.plot_regions_tissue(adata, [False], 'keep', xkey=xkey, ykey=ykey, s=0.5, figscale=20, path=tissue_path, dpi=dpi)\n",
    "spin.plot_regions_latent(adata, 'X_umap_spin_sub', [False], 'keep', s=0.5, legend=True, path=latent_path, dpi=dpi)\n",
    "\n",
    "adata = adata[np.isin(adata.obs[subregion_key], good_regions)]\n",
    "\n",
    "regions = adata.obs[subregion_key].value_counts().index # sorted by number of cells\n",
    "palette = sc.pl.palettes.default_102\n",
    "cmap = {regions[i]:palette[i] for i in range(len(regions))}\n",
    "\n",
    "tissue_path = os.path.join(threshpath, f'tissue_colored_by_regions_filtered.png')\n",
    "latent_path = os.path.join(threshpath, f'latent_colored_by_regions_filtered.png')\n",
    "spin.plot_tissue(adata, colors=adata.obs[subregion_key], cmap=cmap, xkey=xkey, ykey=ykey, s=0.5, figscale=20, path=tissue_path, dpi=dpi)\n",
    "spin.plot_latent(adata, adata.obsm['X_umap_spin_sub'][:,0], adata.obsm['X_umap_spin_sub'][:,1],\n",
    "                    colors=adata.obs[subregion_key], cmap=cmap, s=0.5, legend=True, path=latent_path, dpi=dpi)"
   ]
  },
  {
   "cell_type": "markdown",
   "metadata": {},
   "source": [
    "## Plot individual subregions"
   ]
  },
  {
   "cell_type": "code",
   "execution_count": null,
   "metadata": {},
   "outputs": [],
   "source": [
    "subplotpath = os.path.join(regionpath, 'subregion_plots/')\n",
    "if not os.path.exists(subplotpath):\n",
    "    os.mkdir(subplotpath)"
   ]
  },
  {
   "cell_type": "code",
   "execution_count": null,
   "metadata": {},
   "outputs": [],
   "source": [
    "subregions = adata.obs[subregion_key].value_counts().index # sorted by number of cells\n",
    "\n",
    "for i in range(len(subregions)):\n",
    "    subregion = subregions[i]\n",
    "    tissue_path = os.path.join(subplotpath, f'tissue_colored_by_subregion{subregion}.png')\n",
    "    latent_path = os.path.join(subplotpath, f'latent_colored_by_subregion{subregion}.png')\n",
    "    spin.plot_regions_tissue(adata, [subregion], subregion_key, xkey=xkey, ykey=ykey, s=0.5, figscale=20, path=tissue_path, dpi=dpi)\n",
    "    spin.plot_regions_latent(adata, 'X_umap_spin_sub', [subregion], subregion_key, s=0.5, legend=True, path=latent_path, dpi=dpi)"
   ]
  },
  {
   "cell_type": "markdown",
   "metadata": {},
   "source": [
    "## Gene markers"
   ]
  },
  {
   "cell_type": "code",
   "execution_count": null,
   "metadata": {},
   "outputs": [],
   "source": [
    "markerpath = os.path.join(regionpath, 'top_10_gene_markers_per_subcluster.csv')"
   ]
  },
  {
   "cell_type": "code",
   "execution_count": null,
   "metadata": {},
   "outputs": [],
   "source": [
    "sc.tl.rank_genes_groups(adata, groupby=subregion_key, use_raw=False)\n",
    "\n",
    "subregions = adata.obs[subregion_key].value_counts().index # sorted by number of cells\n",
    "num_markers = 10\n",
    "markers = np.zeros((len(subregions),num_markers), dtype=object)\n",
    "\n",
    "for i in range(len(subregions)):\n",
    "    top_markers = sc.get.rank_genes_groups_df(adata, group=[subregions[i]])['names'][:num_markers].values\n",
    "    markers[i] = top_markers\n",
    "\n",
    "marker_df = pd.DataFrame(data=markers, columns=[f'rank{i+1}' for i in range(num_markers)])\n",
    "marker_df.index.name = 'subregion'\n",
    "marker_df.to_csv(markerpath)"
   ]
  },
  {
   "cell_type": "code",
   "execution_count": null,
   "metadata": {},
   "outputs": [],
   "source": [
    "gene = 'VAMP1'\n",
    "spin.plot_tissue(adata, colors=adata[:,gene].X.flatten(), cmap='viridis', xkey=xkey, ykey=ykey, s=0.5, figscale=20)"
   ]
  },
  {
   "cell_type": "markdown",
   "metadata": {},
   "source": [
    "# 14: Midbrain 2"
   ]
  },
  {
   "cell_type": "markdown",
   "metadata": {},
   "source": [
    "## Num nbrs"
   ]
  },
  {
   "cell_type": "code",
   "execution_count": null,
   "metadata": {},
   "outputs": [],
   "source": [
    "topregion = '14'\n",
    "regionpath = os.path.join(basepath, f'{topregion}/')\n",
    "if not os.path.exists(regionpath):\n",
    "    os.mkdir(regionpath)"
   ]
  },
  {
   "cell_type": "code",
   "execution_count": null,
   "metadata": {},
   "outputs": [],
   "source": [
    "num_nbrss = [f'_{i*10}nbrs' for i in range(2,7)]\n",
    "num_nbrss.remove('_30nbrs')\n",
    "\n",
    "nbrpath = os.path.join(regionpath, 'nbr_selection/')\n",
    "if not os.path.exists(nbrpath):\n",
    "    os.mkdir(nbrpath)\n",
    "\n",
    "for num_nbrs in num_nbrss:\n",
    "\n",
    "    adata = sc.read_h5ad(f'/stanley/WangLab/kamal/data/integrated/spatial/atlas/nbr_titration/atlas_spin_concat_nocombat_subclustered_topregion{topregion}{num_nbrs}.h5ad')\n",
    "\n",
    "    tissue_path = os.path.join(nbrpath, f'tissue_colored_by_region{num_nbrs}.png')\n",
    "    latent_path = os.path.join(nbrpath, f'latent_colored_by_region{num_nbrs}.png')\n",
    "\n",
    "    regions = adata.obs[subregion_key].value_counts().index # sorted by number of cells\n",
    "    palette = sc.pl.palettes.default_102*2\n",
    "    cmap = {regions[i]:palette[i] for i in range(len(regions))}\n",
    "\n",
    "    spin.plot_tissue(adata, colors=adata.obs[subregion_key], cmap=cmap, xkey=xkey, ykey=ykey, s=0.5, figscale=20, path=tissue_path, dpi=dpi)\n",
    "\n",
    "    regions = adata.obs[subregion_key].value_counts().index # sorted by number of cells\n",
    "    palette = sc.pl.palettes.default_102*2\n",
    "    cmap = {regions[i]:palette[i] for i in range(len(regions))}\n",
    "\n",
    "    spin.plot_latent(adata, adata.obsm['X_umap_spin_sub'][:,0], adata.obsm['X_umap_spin_sub'][:,1],\n",
    "                     colors=adata.obs[subregion_key], cmap=cmap, s=0.5, legend=True, path=latent_path, dpi=dpi)"
   ]
  },
  {
   "cell_type": "markdown",
   "metadata": {},
   "source": [
    "## Resolution"
   ]
  },
  {
   "cell_type": "code",
   "execution_count": null,
   "metadata": {},
   "outputs": [],
   "source": [
    "respath = os.path.join(regionpath, 'res_selection/')\n",
    "if not os.path.exists(respath):\n",
    "    os.mkdir(respath)"
   ]
  },
  {
   "cell_type": "code",
   "execution_count": null,
   "metadata": {},
   "outputs": [],
   "source": [
    "num_nbrs = '_50nbrs'"
   ]
  },
  {
   "cell_type": "code",
   "execution_count": null,
   "metadata": {},
   "outputs": [],
   "source": [
    "res = 0.03\n",
    "\n",
    "adata = sc.read_h5ad(f'/stanley/WangLab/kamal/data/integrated/spatial/atlas/nbr_titration/atlas_spin_concat_nocombat_subclustered_topregion{topregion}{num_nbrs}.h5ad')\n",
    "\n",
    "tissue_path = os.path.join(respath, f\"tissue_colored_by_region{num_nbrs}_res{str(res).replace('.', '')}.png\")\n",
    "latent_path = os.path.join(respath, f\"latent_colored_by_region{num_nbrs}_res{str(res).replace('.', '')}.png\")\n",
    "\n",
    "sc.tl.leiden(adata, resolution=res, key_added=subregion_key, neighbors_key=subregion_key)\n",
    "\n",
    "regions = adata.obs[subregion_key].value_counts().index # sorted by number of cells\n",
    "palette = sc.pl.palettes.default_102\n",
    "cmap = {regions[i]:palette[i] for i in range(len(regions))}\n",
    "\n",
    "spin.plot_tissue(adata, colors=adata.obs[subregion_key], cmap=cmap, xkey=xkey, ykey=ykey, s=0.5, figscale=20, path=tissue_path, dpi=dpi)\n",
    "spin.plot_latent(adata, adata.obsm['X_umap_spin_sub'][:,0], adata.obsm['X_umap_spin_sub'][:,1],\n",
    "                    colors=adata.obs[subregion_key], cmap=cmap, s=0.5, legend=True, path=latent_path, dpi=dpi)"
   ]
  },
  {
   "cell_type": "code",
   "execution_count": null,
   "metadata": {},
   "outputs": [],
   "source": [
    "adata.write(f'/stanley/WangLab/kamal/data/integrated/spatial/atlas/final/topregion{topregion}_subclustered.h5ad')"
   ]
  },
  {
   "cell_type": "markdown",
   "metadata": {},
   "source": [
    "## Filter thresh"
   ]
  },
  {
   "cell_type": "code",
   "execution_count": null,
   "metadata": {},
   "outputs": [],
   "source": [
    "threshpath = os.path.join(regionpath, 'thresh_selection/')\n",
    "if not os.path.exists(threshpath):\n",
    "    os.mkdir(threshpath)"
   ]
  },
  {
   "cell_type": "code",
   "execution_count": null,
   "metadata": {},
   "outputs": [],
   "source": [
    "print(f'Cluster size = {len(adata)}')\n",
    "print(adata.obs[subregion_key].value_counts())\n",
    "\n",
    "thresh = 500\n",
    "counts = adata.obs[subregion_key].value_counts()\n",
    "good_regions = (counts > thresh)\n",
    "good_regions = good_regions.index[np.where(good_regions)]\n",
    "adata.obs['keep'] = np.isin(adata.obs[subregion_key], good_regions)\n",
    "\n",
    "tissue_path = os.path.join(threshpath, f'tissue_colored_by_removed_cells.png')\n",
    "latent_path = os.path.join(threshpath, f'latent_colored_by_removed_cells.png')\n",
    "spin.plot_regions_tissue(adata, [False], 'keep', xkey=xkey, ykey=ykey, s=0.5, figscale=20, path=tissue_path, dpi=dpi)\n",
    "spin.plot_regions_latent(adata, 'X_umap_spin_sub', [False], 'keep', s=0.5, legend=True, path=latent_path, dpi=dpi)\n",
    "\n",
    "adata = adata[np.isin(adata.obs[subregion_key], good_regions)]\n",
    "\n",
    "regions = adata.obs[subregion_key].value_counts().index # sorted by number of cells\n",
    "palette = sc.pl.palettes.default_102\n",
    "cmap = {regions[i]:palette[i] for i in range(len(regions))}\n",
    "\n",
    "tissue_path = os.path.join(threshpath, f'tissue_colored_by_regions_filtered.png')\n",
    "latent_path = os.path.join(threshpath, f'latent_colored_by_regions_filtered.png')\n",
    "spin.plot_tissue(adata, colors=adata.obs[subregion_key], cmap=cmap, xkey=xkey, ykey=ykey, s=0.5, figscale=20, path=tissue_path, dpi=dpi)\n",
    "spin.plot_latent(adata, adata.obsm['X_umap_spin_sub'][:,0], adata.obsm['X_umap_spin_sub'][:,1],\n",
    "                    colors=adata.obs[subregion_key], cmap=cmap, s=0.5, legend=True, path=latent_path, dpi=dpi)"
   ]
  },
  {
   "cell_type": "markdown",
   "metadata": {},
   "source": [
    "## Plot individual subregions"
   ]
  },
  {
   "cell_type": "code",
   "execution_count": null,
   "metadata": {},
   "outputs": [],
   "source": [
    "subplotpath = os.path.join(regionpath, 'subregion_plots/')\n",
    "if not os.path.exists(subplotpath):\n",
    "    os.mkdir(subplotpath)"
   ]
  },
  {
   "cell_type": "code",
   "execution_count": null,
   "metadata": {},
   "outputs": [],
   "source": [
    "subregions = adata.obs[subregion_key].value_counts().index # sorted by number of cells\n",
    "\n",
    "for i in range(len(subregions)):\n",
    "    subregion = subregions[i]\n",
    "    tissue_path = os.path.join(subplotpath, f'tissue_colored_by_subregion{subregion}.png')\n",
    "    latent_path = os.path.join(subplotpath, f'latent_colored_by_subregion{subregion}.png')\n",
    "    spin.plot_regions_tissue(adata, [subregion], subregion_key, xkey=xkey, ykey=ykey, s=0.5, figscale=20, path=tissue_path, dpi=dpi)\n",
    "    spin.plot_regions_latent(adata, 'X_umap_spin_sub', [subregion], subregion_key, s=0.5, legend=True, path=latent_path, dpi=dpi)"
   ]
  },
  {
   "cell_type": "markdown",
   "metadata": {},
   "source": [
    "## Gene markers"
   ]
  },
  {
   "cell_type": "code",
   "execution_count": null,
   "metadata": {},
   "outputs": [],
   "source": [
    "markerpath = os.path.join(regionpath, 'top_10_gene_markers_per_subcluster.csv')"
   ]
  },
  {
   "cell_type": "code",
   "execution_count": null,
   "metadata": {},
   "outputs": [],
   "source": [
    "sc.tl.rank_genes_groups(adata, groupby=subregion_key, use_raw=False)\n",
    "\n",
    "subregions = adata.obs[subregion_key].value_counts().index # sorted by number of cells\n",
    "num_markers = 10\n",
    "markers = np.zeros((len(subregions),num_markers), dtype=object)\n",
    "\n",
    "for i in range(len(subregions)):\n",
    "    top_markers = sc.get.rank_genes_groups_df(adata, group=[subregions[i]])['names'][:num_markers].values\n",
    "    markers[i] = top_markers\n",
    "\n",
    "marker_df = pd.DataFrame(data=markers, columns=[f'rank{i+1}' for i in range(num_markers)])\n",
    "marker_df.index.name = 'subregion'\n",
    "marker_df.to_csv(markerpath)"
   ]
  },
  {
   "cell_type": "code",
   "execution_count": null,
   "metadata": {},
   "outputs": [],
   "source": [
    "gene = 'VAMP1'\n",
    "spin.plot_tissue(adata, colors=adata[:,gene].X.flatten(), cmap='viridis', xkey=xkey, ykey=ykey, s=0.5, figscale=20)"
   ]
  },
  {
   "cell_type": "markdown",
   "metadata": {},
   "source": [
    "# 15: spinal cord"
   ]
  },
  {
   "cell_type": "markdown",
   "metadata": {},
   "source": [
    "## Num nbrs"
   ]
  },
  {
   "cell_type": "code",
   "execution_count": null,
   "metadata": {},
   "outputs": [],
   "source": [
    "topregion = '15'\n",
    "regionpath = os.path.join(basepath, f'{topregion}/')\n",
    "if not os.path.exists(regionpath):\n",
    "    os.mkdir(regionpath)"
   ]
  },
  {
   "cell_type": "code",
   "execution_count": null,
   "metadata": {},
   "outputs": [],
   "source": [
    "num_nbrss = [f'_{i*10}nbrs' for i in range(2,7)]\n",
    "num_nbrss.remove('_30nbrs')\n",
    "\n",
    "nbrpath = os.path.join(regionpath, 'nbr_selection/')\n",
    "if not os.path.exists(nbrpath):\n",
    "    os.mkdir(nbrpath)\n",
    "\n",
    "for num_nbrs in num_nbrss:\n",
    "\n",
    "    adata = sc.read_h5ad(f'/stanley/WangLab/kamal/data/integrated/spatial/atlas/nbr_titration/atlas_spin_concat_nocombat_subclustered_topregion{topregion}{num_nbrs}.h5ad')\n",
    "\n",
    "    tissue_path = os.path.join(nbrpath, f'tissue_colored_by_region{num_nbrs}.png')\n",
    "    latent_path = os.path.join(nbrpath, f'latent_colored_by_region{num_nbrs}.png')\n",
    "\n",
    "    regions = adata.obs[subregion_key].value_counts().index # sorted by number of cells\n",
    "    palette = sc.pl.palettes.default_102*2\n",
    "    cmap = {regions[i]:palette[i] for i in range(len(regions))}\n",
    "\n",
    "    spin.plot_tissue(adata, colors=adata.obs[subregion_key], cmap=cmap, xkey=xkey, ykey=ykey, s=0.5, figscale=20, path=tissue_path, dpi=dpi)\n",
    "\n",
    "    regions = adata.obs[subregion_key].value_counts().index # sorted by number of cells\n",
    "    palette = sc.pl.palettes.default_102*2\n",
    "    cmap = {regions[i]:palette[i] for i in range(len(regions))}\n",
    "\n",
    "    spin.plot_latent(adata, adata.obsm['X_umap_spin_sub'][:,0], adata.obsm['X_umap_spin_sub'][:,1],\n",
    "                     colors=adata.obs[subregion_key], cmap=cmap, s=0.5, legend=True, path=latent_path, dpi=dpi)"
   ]
  },
  {
   "cell_type": "markdown",
   "metadata": {},
   "source": [
    "## Resolution"
   ]
  },
  {
   "cell_type": "code",
   "execution_count": null,
   "metadata": {},
   "outputs": [],
   "source": [
    "respath = os.path.join(regionpath, 'res_selection/')\n",
    "if not os.path.exists(respath):\n",
    "    os.mkdir(respath)"
   ]
  },
  {
   "cell_type": "code",
   "execution_count": null,
   "metadata": {},
   "outputs": [],
   "source": [
    "num_nbrs = '_20nbrs'"
   ]
  },
  {
   "cell_type": "code",
   "execution_count": null,
   "metadata": {},
   "outputs": [],
   "source": [
    "res = 0.3\n",
    "\n",
    "adata = sc.read_h5ad(f'/stanley/WangLab/kamal/data/integrated/spatial/atlas/nbr_titration/atlas_spin_concat_nocombat_subclustered_topregion{topregion}{num_nbrs}.h5ad')\n",
    "\n",
    "tissue_path = os.path.join(respath, f\"tissue_colored_by_region{num_nbrs}_res{str(res).replace('.', '')}.png\")\n",
    "latent_path = os.path.join(respath, f\"latent_colored_by_region{num_nbrs}_res{str(res).replace('.', '')}.png\")\n",
    "\n",
    "sc.tl.leiden(adata, resolution=res, key_added=subregion_key, neighbors_key=subregion_key)\n",
    "\n",
    "regions = adata.obs[subregion_key].value_counts().index # sorted by number of cells\n",
    "palette = sc.pl.palettes.default_102\n",
    "cmap = {regions[i]:palette[i] for i in range(len(regions))}\n",
    "\n",
    "spin.plot_tissue(adata, colors=adata.obs[subregion_key], cmap=cmap, xkey=xkey, ykey=ykey, s=0.5, figscale=20, path=tissue_path, dpi=dpi)\n",
    "spin.plot_latent(adata, adata.obsm['X_umap_spin_sub'][:,0], adata.obsm['X_umap_spin_sub'][:,1],\n",
    "                    colors=adata.obs[subregion_key], cmap=cmap, s=0.5, legend=True, path=latent_path, dpi=dpi)"
   ]
  },
  {
   "cell_type": "code",
   "execution_count": null,
   "metadata": {},
   "outputs": [],
   "source": [
    "adata.write(f'/stanley/WangLab/kamal/data/integrated/spatial/atlas/final/topregion{topregion}_subclustered.h5ad')"
   ]
  },
  {
   "cell_type": "markdown",
   "metadata": {},
   "source": [
    "## Filter thresh"
   ]
  },
  {
   "cell_type": "code",
   "execution_count": null,
   "metadata": {},
   "outputs": [],
   "source": [
    "threshpath = os.path.join(regionpath, 'thresh_selection/')\n",
    "if not os.path.exists(threshpath):\n",
    "    os.mkdir(threshpath)"
   ]
  },
  {
   "cell_type": "code",
   "execution_count": null,
   "metadata": {},
   "outputs": [],
   "source": [
    "print(f'Cluster size = {len(adata)}')\n",
    "print(adata.obs[subregion_key].value_counts())\n",
    "\n",
    "thresh = 500\n",
    "counts = adata.obs[subregion_key].value_counts()\n",
    "good_regions = (counts > thresh)\n",
    "good_regions = good_regions.index[np.where(good_regions)]\n",
    "adata.obs['keep'] = np.isin(adata.obs[subregion_key], good_regions)\n",
    "\n",
    "tissue_path = os.path.join(threshpath, f'tissue_colored_by_removed_cells.png')\n",
    "latent_path = os.path.join(threshpath, f'latent_colored_by_removed_cells.png')\n",
    "spin.plot_regions_tissue(adata, [False], 'keep', xkey=xkey, ykey=ykey, s=0.5, figscale=20, path=tissue_path, dpi=dpi)\n",
    "spin.plot_regions_latent(adata, 'X_umap_spin_sub', [False], 'keep', s=0.5, legend=True, path=latent_path, dpi=dpi)\n",
    "\n",
    "adata = adata[np.isin(adata.obs[subregion_key], good_regions)]\n",
    "\n",
    "regions = adata.obs[subregion_key].value_counts().index # sorted by number of cells\n",
    "palette = sc.pl.palettes.default_102\n",
    "cmap = {regions[i]:palette[i] for i in range(len(regions))}\n",
    "\n",
    "tissue_path = os.path.join(threshpath, f'tissue_colored_by_regions_filtered.png')\n",
    "latent_path = os.path.join(threshpath, f'latent_colored_by_regions_filtered.png')\n",
    "spin.plot_tissue(adata, colors=adata.obs[subregion_key], cmap=cmap, xkey=xkey, ykey=ykey, s=0.5, figscale=20, path=tissue_path, dpi=dpi)\n",
    "spin.plot_latent(adata, adata.obsm['X_umap_spin_sub'][:,0], adata.obsm['X_umap_spin_sub'][:,1],\n",
    "                    colors=adata.obs[subregion_key], cmap=cmap, s=0.5, legend=True, path=latent_path, dpi=dpi)"
   ]
  },
  {
   "cell_type": "markdown",
   "metadata": {},
   "source": [
    "## Plot individual subregions"
   ]
  },
  {
   "cell_type": "code",
   "execution_count": null,
   "metadata": {},
   "outputs": [],
   "source": [
    "subplotpath = os.path.join(regionpath, 'subregion_plots/')\n",
    "if not os.path.exists(subplotpath):\n",
    "    os.mkdir(subplotpath)"
   ]
  },
  {
   "cell_type": "code",
   "execution_count": null,
   "metadata": {},
   "outputs": [],
   "source": [
    "subregions = adata.obs[subregion_key].value_counts().index # sorted by number of cells\n",
    "\n",
    "for i in range(len(subregions)):\n",
    "    subregion = subregions[i]\n",
    "    tissue_path = os.path.join(subplotpath, f'tissue_colored_by_subregion{subregion}.png')\n",
    "    latent_path = os.path.join(subplotpath, f'latent_colored_by_subregion{subregion}.png')\n",
    "    spin.plot_regions_tissue(adata, [subregion], subregion_key, xkey=xkey, ykey=ykey, s=0.5, figscale=20, path=tissue_path, dpi=dpi)\n",
    "    spin.plot_regions_latent(adata, 'X_umap_spin_sub', [subregion], subregion_key, s=0.5, legend=True, path=latent_path, dpi=dpi)"
   ]
  },
  {
   "cell_type": "markdown",
   "metadata": {},
   "source": [
    "## Gene markers"
   ]
  },
  {
   "cell_type": "code",
   "execution_count": null,
   "metadata": {},
   "outputs": [],
   "source": [
    "markerpath = os.path.join(regionpath, 'top_10_gene_markers_per_subcluster.csv')"
   ]
  },
  {
   "cell_type": "code",
   "execution_count": null,
   "metadata": {},
   "outputs": [],
   "source": [
    "sc.tl.rank_genes_groups(adata, groupby=subregion_key, use_raw=False)\n",
    "\n",
    "subregions = adata.obs[subregion_key].value_counts().index # sorted by number of cells\n",
    "num_markers = 10\n",
    "markers = np.zeros((len(subregions),num_markers), dtype=object)\n",
    "\n",
    "for i in range(len(subregions)):\n",
    "    top_markers = sc.get.rank_genes_groups_df(adata, group=[subregions[i]])['names'][:num_markers].values\n",
    "    markers[i] = top_markers\n",
    "\n",
    "marker_df = pd.DataFrame(data=markers, columns=[f'rank{i+1}' for i in range(num_markers)])\n",
    "marker_df.index.name = 'subregion'\n",
    "marker_df.to_csv(markerpath)"
   ]
  },
  {
   "cell_type": "code",
   "execution_count": null,
   "metadata": {},
   "outputs": [],
   "source": [
    "gene = 'SYT2'\n",
    "spin.plot_tissue(adata, colors=adata[:,gene].X.flatten(), cmap='viridis', xkey=xkey, ykey=ykey, s=0.5, figscale=20)"
   ]
  },
  {
   "cell_type": "markdown",
   "metadata": {},
   "source": [
    "# 16: Cortex 3"
   ]
  },
  {
   "cell_type": "markdown",
   "metadata": {},
   "source": [
    "## Num nbrs"
   ]
  },
  {
   "cell_type": "code",
   "execution_count": null,
   "metadata": {},
   "outputs": [],
   "source": [
    "topregion = '16'\n",
    "regionpath = os.path.join(basepath, f'{topregion}/')\n",
    "if not os.path.exists(regionpath):\n",
    "    os.mkdir(regionpath)"
   ]
  },
  {
   "cell_type": "code",
   "execution_count": null,
   "metadata": {},
   "outputs": [],
   "source": [
    "num_nbrss = [f'_{i*10}nbrs' for i in range(2,7)]\n",
    "\n",
    "nbrpath = os.path.join(regionpath, 'nbr_selection/')\n",
    "if not os.path.exists(nbrpath):\n",
    "    os.mkdir(nbrpath)\n",
    "\n",
    "for num_nbrs in num_nbrss:\n",
    "\n",
    "    adata = sc.read_h5ad(f'/stanley/WangLab/kamal/data/integrated/spatial/atlas/nbr_titration/atlas_spin_concat_nocombat_subclustered_topregion{topregion}{num_nbrs}.h5ad')\n",
    "\n",
    "    tissue_path = os.path.join(nbrpath, f'tissue_colored_by_region{num_nbrs}.png')\n",
    "    latent_path = os.path.join(nbrpath, f'latent_colored_by_region{num_nbrs}.png')\n",
    "\n",
    "    regions = adata.obs[subregion_key].value_counts().index # sorted by number of cells\n",
    "    palette = sc.pl.palettes.default_102*2\n",
    "    cmap = {regions[i]:palette[i] for i in range(len(regions))}\n",
    "\n",
    "    spin.plot_tissue(adata, colors=adata.obs[subregion_key], cmap=cmap, xkey=xkey, ykey=ykey, s=5, figscale=20, path=tissue_path, dpi=dpi)\n",
    "\n",
    "    regions = adata.obs[subregion_key].value_counts().index # sorted by number of cells\n",
    "    palette = sc.pl.palettes.default_102*2\n",
    "    cmap = {regions[i]:palette[i] for i in range(len(regions))}\n",
    "\n",
    "    spin.plot_latent(adata, adata.obsm['X_umap_spin_sub'][:,0], adata.obsm['X_umap_spin_sub'][:,1],\n",
    "                     colors=adata.obs[subregion_key], cmap=cmap, s=5, legend=True, path=latent_path, dpi=dpi)"
   ]
  },
  {
   "cell_type": "markdown",
   "metadata": {},
   "source": [
    "## Resolution"
   ]
  },
  {
   "cell_type": "code",
   "execution_count": null,
   "metadata": {},
   "outputs": [],
   "source": [
    "respath = os.path.join(regionpath, 'res_selection/')\n",
    "if not os.path.exists(respath):\n",
    "    os.mkdir(respath)"
   ]
  },
  {
   "cell_type": "code",
   "execution_count": null,
   "metadata": {},
   "outputs": [],
   "source": [
    "num_nbrs = '_30nbrs'"
   ]
  },
  {
   "cell_type": "code",
   "execution_count": null,
   "metadata": {},
   "outputs": [],
   "source": [
    "res = 0.08\n",
    "\n",
    "adata = sc.read_h5ad(f'/stanley/WangLab/kamal/data/integrated/spatial/atlas/nbr_titration/atlas_spin_concat_nocombat_subclustered_topregion{topregion}{num_nbrs}.h5ad')\n",
    "\n",
    "tissue_path = os.path.join(respath, f\"tissue_colored_by_region{num_nbrs}_res{str(res).replace('.', '')}.png\")\n",
    "latent_path = os.path.join(respath, f\"latent_colored_by_region{num_nbrs}_res{str(res).replace('.', '')}.png\")\n",
    "\n",
    "sc.tl.leiden(adata, resolution=res, key_added=subregion_key, neighbors_key=subregion_key)\n",
    "\n",
    "regions = adata.obs[subregion_key].value_counts().index # sorted by number of cells\n",
    "palette = sc.pl.palettes.default_102\n",
    "cmap = {regions[i]:palette[i] for i in range(len(regions))}\n",
    "\n",
    "spin.plot_tissue(adata, colors=adata.obs[subregion_key], cmap=cmap, xkey=xkey, ykey=ykey, s=5, figscale=20, path=tissue_path, dpi=dpi)\n",
    "spin.plot_latent(adata, adata.obsm['X_umap_spin_sub'][:,0], adata.obsm['X_umap_spin_sub'][:,1],\n",
    "                    colors=adata.obs[subregion_key], cmap=cmap, s=5, legend=True, path=latent_path, dpi=dpi)"
   ]
  },
  {
   "cell_type": "code",
   "execution_count": null,
   "metadata": {},
   "outputs": [],
   "source": [
    "adata.write(f'/stanley/WangLab/kamal/data/integrated/spatial/atlas/final/topregion{topregion}_subclustered.h5ad')"
   ]
  },
  {
   "cell_type": "markdown",
   "metadata": {},
   "source": [
    "## Filter thresh"
   ]
  },
  {
   "cell_type": "code",
   "execution_count": null,
   "metadata": {},
   "outputs": [],
   "source": [
    "threshpath = os.path.join(regionpath, 'thresh_selection/')\n",
    "if not os.path.exists(threshpath):\n",
    "    os.mkdir(threshpath)"
   ]
  },
  {
   "cell_type": "code",
   "execution_count": null,
   "metadata": {},
   "outputs": [],
   "source": [
    "print(f'Cluster size = {len(adata)}')\n",
    "print(adata.obs[subregion_key].value_counts())\n",
    "\n",
    "thresh = 500\n",
    "counts = adata.obs[subregion_key].value_counts()\n",
    "good_regions = (counts > thresh)\n",
    "good_regions = good_regions.index[np.where(good_regions)]\n",
    "adata.obs['keep'] = np.isin(adata.obs[subregion_key], good_regions)\n",
    "\n",
    "tissue_path = os.path.join(threshpath, f'tissue_colored_by_removed_cells.png')\n",
    "latent_path = os.path.join(threshpath, f'latent_colored_by_removed_cells.png')\n",
    "spin.plot_regions_tissue(adata, [False], 'keep', xkey=xkey, ykey=ykey, s=5, figscale=20, path=tissue_path, dpi=dpi)\n",
    "spin.plot_regions_latent(adata, 'X_umap_spin_sub', [False], 'keep', s=5, legend=True, path=latent_path, dpi=dpi)\n",
    "\n",
    "adata = adata[np.isin(adata.obs[subregion_key], good_regions)]\n",
    "\n",
    "regions = adata.obs[subregion_key].value_counts().index # sorted by number of cells\n",
    "palette = sc.pl.palettes.default_102\n",
    "cmap = {regions[i]:palette[i] for i in range(len(regions))}\n",
    "\n",
    "tissue_path = os.path.join(threshpath, f'tissue_colored_by_regions_filtered.png')\n",
    "latent_path = os.path.join(threshpath, f'latent_colored_by_regions_filtered.png')\n",
    "spin.plot_tissue(adata, colors=adata.obs[subregion_key], cmap=cmap, xkey=xkey, ykey=ykey, s=5, figscale=20, path=tissue_path, dpi=dpi)\n",
    "spin.plot_latent(adata, adata.obsm['X_umap_spin_sub'][:,0], adata.obsm['X_umap_spin_sub'][:,1],\n",
    "                    colors=adata.obs[subregion_key], cmap=cmap, s=5, legend=True, path=latent_path, dpi=dpi)"
   ]
  },
  {
   "cell_type": "markdown",
   "metadata": {},
   "source": [
    "## Plot individual subregions"
   ]
  },
  {
   "cell_type": "code",
   "execution_count": null,
   "metadata": {},
   "outputs": [],
   "source": [
    "subplotpath = os.path.join(regionpath, 'subregion_plots/')\n",
    "if not os.path.exists(subplotpath):\n",
    "    os.mkdir(subplotpath)"
   ]
  },
  {
   "cell_type": "code",
   "execution_count": null,
   "metadata": {},
   "outputs": [],
   "source": [
    "subregions = adata.obs[subregion_key].value_counts().index # sorted by number of cells\n",
    "\n",
    "for i in range(len(subregions)):\n",
    "    subregion = subregions[i]\n",
    "    tissue_path = os.path.join(subplotpath, f'tissue_colored_by_subregion{subregion}.png')\n",
    "    latent_path = os.path.join(subplotpath, f'latent_colored_by_subregion{subregion}.png')\n",
    "    spin.plot_regions_tissue(adata, [subregion], subregion_key, xkey=xkey, ykey=ykey, s=5, figscale=20, path=tissue_path, dpi=dpi)\n",
    "    spin.plot_regions_latent(adata, 'X_umap_spin_sub', [subregion], subregion_key, s=5, legend=True, path=latent_path, dpi=dpi)"
   ]
  },
  {
   "cell_type": "markdown",
   "metadata": {},
   "source": [
    "## Gene markers"
   ]
  },
  {
   "cell_type": "code",
   "execution_count": null,
   "metadata": {},
   "outputs": [],
   "source": [
    "markerpath = os.path.join(regionpath, 'top_10_gene_markers_per_subcluster.csv')"
   ]
  },
  {
   "cell_type": "code",
   "execution_count": null,
   "metadata": {},
   "outputs": [],
   "source": [
    "sc.tl.rank_genes_groups(adata, groupby=subregion_key, use_raw=False)\n",
    "\n",
    "subregions = adata.obs[subregion_key].value_counts().index # sorted by number of cells\n",
    "num_markers = 10\n",
    "markers = np.zeros((len(subregions),num_markers), dtype=object)\n",
    "\n",
    "for i in range(len(subregions)):\n",
    "    top_markers = sc.get.rank_genes_groups_df(adata, group=[subregions[i]])['names'][:num_markers].values\n",
    "    markers[i] = top_markers\n",
    "\n",
    "marker_df = pd.DataFrame(data=markers, columns=[f'rank{i+1}' for i in range(num_markers)])\n",
    "marker_df.index.name = 'subregion'\n",
    "marker_df.to_csv(markerpath)"
   ]
  },
  {
   "cell_type": "code",
   "execution_count": null,
   "metadata": {},
   "outputs": [],
   "source": [
    "gene = 'PLCH1'\n",
    "spin.plot_tissue(adata, colors=adata[:,gene].X.flatten(), cmap='viridis', xkey=xkey, ykey=ykey, s=5, figscale=20)"
   ]
  }
 ],
 "metadata": {
  "kernelspec": {
   "display_name": "Python 3 (ipykernel)",
   "language": "python",
   "name": "python3"
  },
  "orig_nbformat": 4
 },
 "nbformat": 4,
 "nbformat_minor": 2
}
